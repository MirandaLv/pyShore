{
 "cells": [
  {
   "cell_type": "code",
   "execution_count": 1,
   "id": "aaa466d6",
   "metadata": {},
   "outputs": [],
   "source": [
    "\n",
    "import os\n",
    "import sys\n",
    "import random\n",
    "import logging\n",
    "import rasterio\n",
    "import argparse\n",
    "import numpy as np\n",
    "from tqdm import tqdm\n",
    "from os.path import dirname as up\n",
    "\n",
    "import torch\n",
    "from torch.utils.data import DataLoader\n",
    "import torchvision.transforms as transforms\n",
    "\n",
    "path_cur = os.path.abspath(os.getcwd())\n",
    "\n",
    "sys.path.append(path_cur)\n",
    "from unet import UNet\n",
    "from vims_dataloader import GenDEBRIS, bands_mean, bands_std\n",
    "\n",
    "sys.path.append(os.path.join(up(up(path_cur)), 'utils'))\n",
    "\n",
    "from vims_metrics import Evaluation, confusion_matrix\n",
    "# from vims_assets import labels, labels_conf\n",
    "from pathlib import Path\n",
    "\n",
    "random.seed(0)\n",
    "np.random.seed(0)\n",
    "torch.manual_seed(0)\n",
    "\n",
    "root_path = up(up(path_cur))\n",
    "\n",
    "logging.basicConfig(filename=os.path.join(root_path, 'logs','evaluating_unet.log'), filemode='a',level=logging.INFO, format='%(name)s - %(levelname)s - %(message)s')\n",
    "logging.info('*'*10)\n",
    "\n",
    "from torchgeo.trainers import SemanticSegmentationTask\n",
    "from pytorch_lightning import Trainer, seed_everything\n",
    "import pytorch_lightning as pl\n",
    "from typing import Any, Dict, cast\n",
    "from torchmetrics import Accuracy, JaccardIndex, MetricCollection, Precision, Recall\n",
    "import matplotlib.pyplot as plt\n",
    "from vims_segmentation import SemanticSegmentation\n",
    "from processing_utils import ensemble\n"
   ]
  },
  {
   "cell_type": "code",
   "execution_count": 60,
   "id": "7e0e55e2",
   "metadata": {},
   "outputs": [],
   "source": [
    "def main(options):\n",
    "\n",
    "    # Transformations\n",
    "    transform_test = transforms.Compose([transforms.ToTensor()])\n",
    "    standardization = transforms.Normalize(bands_mean, bands_std)\n",
    "    \n",
    "    # Construct Test data loader\n",
    "    dataset_test = GenDEBRIS('test', transform=transform_test, standardization = standardization, agg_to_water = options['agg_to_water'])\n",
    "    test_loader = DataLoader(   dataset_test, \n",
    "                                batch_size = options['batch'], \n",
    "                                shuffle = False)\n",
    "    \n",
    "    \n",
    "    # Load pretrained model\n",
    "    model_name = os.path.basename(options[\"model_path\"])\n",
    "        \n",
    "    if \"CW\" in model_name: # and \"deeplabv3+\" not in model_name\n",
    "        model = SemanticSegmentation.load_from_checkpoint(options[\"model_path\"])\n",
    "        model.eval()\n",
    "    else:\n",
    "        model = SemanticSegmentationTask.load_from_checkpoint(options[\"model_path\"])\n",
    "        model.eval()\n",
    "    \n",
    "    \n",
    "    \n",
    "    y_true = []\n",
    "    y_predicted = []\n",
    "    \n",
    "    with torch.no_grad():\n",
    "        for batch in tqdm(test_loader, desc=\"testing\"):\n",
    "            \n",
    "            image = batch[\"image\"]\n",
    "            target = batch[\"mask\"]\n",
    "\n",
    "            logits = model(image) # predicted\n",
    "            logits = torch.nn.functional.softmax(logits, dim=1).argmax(1)\n",
    "            \n",
    "            logits = logits.reshape(-1)\n",
    "            target = target.reshape(-1)\n",
    "\n",
    "            # Accuracy metrics only on annotated pixels (Check on the dimension changes)\n",
    "\n",
    "            mask = target != 0 # 0 is the background\n",
    "            \n",
    "            logits = logits[mask]\n",
    "            target = target[mask]\n",
    "\n",
    "            y_predicted += logits.tolist()\n",
    "            y_true += target.tolist()\n",
    "            \n",
    "        \n",
    "        ####################################################################\n",
    "        # Save Scores to the .log file                                     #\n",
    "        ####################################################################\n",
    "        acc = Evaluation(y_predicted, y_true)\n",
    "        logging.info(\"\\n\")\n",
    "        logging.info(\"STATISTICS: \\n\")\n",
    "        logging.info(\"Evaluation: \" + str(acc))\n",
    "        print(\"Evaluation: \" + str(acc))\n",
    "        \"\"\"\n",
    "        Confusion matrix whose i-th row and j-th column entry indicates the number of samples with true label \n",
    "        You being i-th class and predicted label being j-th class.\n",
    "        \"\"\"\n",
    "        conf_mat = confusion_matrix(y_true, y_predicted, options['labels'])\n",
    "        \n",
    "        logging.info(\"Confusion Matrix:  \\n\" + str(conf_mat.to_string()))\n",
    "        print(\"Confusion Matrix:  \\n\" + str(conf_mat.to_string()))\n",
    " \n",
    "\n",
    "        if options['predict_masks']:\n",
    "            \n",
    "            path = os.path.join(up(up(root_path)), 'VIMS', 'NAIP', 'VA_NAIP_2018_8977', 'test')\n",
    "            ROIs = [file for file in os.listdir(path) if file.split('.')[-1]=='tif']\n",
    "\n",
    "            impute_nan = np.tile(bands_mean, (256,256,1))\n",
    "                        \n",
    "            for roi in tqdm(ROIs):\n",
    "                \n",
    "                roi_file = os.path.join(path, roi)\n",
    "                os.makedirs(options['gen_masks_path'], exist_ok=True)\n",
    "            \n",
    "                output_image = os.path.join(options['gen_masks_path'], os.path.basename(roi_file).split('.tif')[0] + '_unet.tif')\n",
    "            \n",
    "                # Read metadata of the initial image\n",
    "                with rasterio.open(roi_file, mode ='r') as src:\n",
    "                    tags = src.tags().copy()\n",
    "                    meta = src.meta\n",
    "                    image = src.read()\n",
    "                    image = np.moveaxis(image, (0, 1, 2), (2, 0, 1)).astype('float32')\n",
    "                    dtype = src.read(1).dtype\n",
    "            \n",
    "                # Update meta to reflect the number of layers\n",
    "                meta.update(count = 1)\n",
    "            \n",
    "                # Write it\n",
    "                with rasterio.open(output_image, 'w', **meta) as dst:\n",
    "                    \n",
    "                    # Preprocessing before prediction\n",
    "                    nan_mask = np.isnan(image)\n",
    "                    image[nan_mask] = impute_nan[nan_mask]\n",
    "                \n",
    "                    image = transform_test(image)\n",
    "                    image = standardization(image)\n",
    "\n",
    "                    # Predictions\n",
    "                    logits = model(image.unsqueeze(0))\n",
    "                    probs = logits.softmax(dim=1).numpy().argmax(1).squeeze()\n",
    "                    \n",
    "                    # Write the mask with georeference\n",
    "                    dst.write_band(1, probs.astype(dtype).copy()) # In order to be in the same dtype\n",
    "                    dst.update_tags(**tags)\n"
   ]
  },
  {
   "cell_type": "code",
   "execution_count": 36,
   "id": "7b64dc5c",
   "metadata": {},
   "outputs": [],
   "source": [
    "# def main_ensemble(options):\n",
    "    \n",
    "#     # Transformations\n",
    "#     transform_test = transforms.Compose([transforms.ToTensor()])\n",
    "#     standardization = transforms.Normalize(bands_mean, bands_std)\n",
    "    \n",
    "#     # Construct Test data loader\n",
    "#     dataset_test = GenDEBRIS('val', transform=transform_test, standardization = standardization, agg_to_water = options['agg_to_water'])\n",
    "#     test_loader = DataLoader(   dataset_test, \n",
    "#                                 batch_size = options['batch'], \n",
    "#                                 shuffle = False)\n",
    "    \n",
    "#     models = options[\"model_paths\"]\n",
    "    \n",
    "#     y_true = []\n",
    "#     y_predicted = []\n",
    "    \n",
    "    \n",
    "#     with torch.no_grad():\n",
    "#         for batch in tqdm(test_loader, desc=\"testing\"):\n",
    "            \n",
    "#             y_temp_predicted = []\n",
    "                \n",
    "#             for model in models:\n",
    "#                 print('Working on model {}'.format(model))\n",
    "#                 # Load pretrained model\n",
    "#                 model = SemanticSegmentationTask.load_from_checkpoint(options[\"model_path\"])    \n",
    "#                 model.eval()\n",
    "\n",
    "#                 image = batch[\"image\"]\n",
    "#                 target = batch[\"mask\"]\n",
    "\n",
    "#                 logits = model(image) # predicted\n",
    "#                 logits = torch.nn.functional.softmax(logits, dim=1).argmax(1)\n",
    "\n",
    "#                 logits = logits.reshape(-1)\n",
    "#                 target = target.reshape(-1)\n",
    "\n",
    "#                 # Accuracy metrics only on annotated pixels (Check on the dimension changes)\n",
    "\n",
    "#                 mask = target != 0 # 0 is the background\n",
    "\n",
    "#                 logits = logits[mask]\n",
    "#                 target = target[mask]\n",
    "                \n",
    "#                 y_temp_predicted.append(logits.tolist())\n",
    "            \n",
    "#             y_temp_predicted = np.array(y_temp_predicted)\n",
    "#             y_pr_ensemble = np.apply_along_axis(ensemble, axis=0, arr=y_temp_predicted).tolist()\n",
    "#             y_predicted += y_pr_ensemble\n",
    "#             y_true += target.tolist()\n",
    "            \n",
    "#         ####################################################################\n",
    "#         # Save Scores to the .log file                                     #\n",
    "#         ####################################################################\n",
    "#         acc = Evaluation(y_predicted, y_true)\n",
    "#         logging.info(\"\\n\")\n",
    "#         logging.info(\"STATISTICS: \\n\")\n",
    "#         logging.info(\"Evaluation: \" + str(acc))\n",
    "#         print(\"Evaluation: \" + str(acc))\n",
    "#         \"\"\"\n",
    "#         Confusion matrix whose i-th row and j-th column entry indicates the number of samples with true label \n",
    "#         You being i-th class and predicted label being j-th class.\n",
    "#         \"\"\"\n",
    "        \n",
    "#         conf_mat = confusion_matrix(y_true, y_predicted, options['labels'])\n",
    "        \n",
    "#         logging.info(\"Confusion Matrix:  \\n\" + str(conf_mat.to_string()))\n",
    "#         print(\"Confusion Matrix:  \\n\" + str(conf_mat.to_string()))\n",
    "\n",
    "\n"
   ]
  },
  {
   "cell_type": "code",
   "execution_count": 37,
   "id": "8fdcc6d7",
   "metadata": {},
   "outputs": [],
   "source": [
    "\n",
    "# model_dir = \"/rapids/notebooks/sciclone/geograd/Miranda/github/marine-debris.github.io/torchlightning_results\"\n",
    "# model_files = [file for file in os.listdir(model_dir) if file.split(\".\")[-1]==\"ckpt\" and file.split(\"_\")[0]==\"4class\"]\n",
    "\n",
    "# gen_masks_path = os.path.join(up(up(root_path)), 'VIMS', 'NAIP', 'VA_NAIP_2018_8977', 'test_masks')\n",
    "# labels = ['Background', 'Bulkhead Or Sea Wall', 'Rip Rap', 'Groin', 'Breakwater']\n",
    "\n",
    "# options = {'agg_to_water': True, 'batch': 32, \n",
    "#               'input_channels': 4, 'output_channels': 5, 'hidden_channels': 16,\n",
    "#               'model_path': model_path, 'predict_masks': False, 'gen_masks_path':gen_masks_path, 'labels': labels,\n",
    "#               'model_paths': model_files}\n",
    "\n",
    "# main_ensemble(options)\n"
   ]
  },
  {
   "cell_type": "code",
   "execution_count": null,
   "id": "c7521e76",
   "metadata": {},
   "outputs": [],
   "source": []
  },
  {
   "cell_type": "code",
   "execution_count": 10,
   "id": "5fd26a0a",
   "metadata": {},
   "outputs": [],
   "source": [
    "# model_path = os.path.join(path_cur, 'trained_models', '200', 'model.pth')\n",
    "\n",
    "model_path = \"/rapids/notebooks/sciclone/geograd/Miranda/github/marine-debris.github.io/torchlightning_results_norm/4class_deeplabv3+_resnet50_0.001_ce_imagenet_CWTrue-epoch=47-val_loss=0.58.ckpt\"\n",
    "\n",
    "gen_masks_path = os.path.join(up(up(root_path)), 'VIMS', 'NAIP', 'VA_NAIP_2018_8977', 'test_masks')\n",
    "labels = ['Bulkhead Or Sea Wall', 'Rip Rap', 'Groin', 'Breakwater']\n",
    "\n",
    "options = {'agg_to_water': True, 'batch': 64, \n",
    "          'input_channels': 4, 'output_channels': 5, 'hidden_channels': 16,\n",
    "          'model_path': model_path, 'predict_masks': False, 'gen_masks_path':gen_masks_path,\n",
    "          'labels': labels}\n",
    "\n",
    "main(options)"
   ]
  },
  {
   "cell_type": "code",
   "execution_count": null,
   "id": "6ef27143",
   "metadata": {},
   "outputs": [
    {
     "name": "stdout",
     "output_type": "stream",
     "text": [
      "Using model 4class_unet_resnet18_0.001_ce_swsl-epoch=47-val_loss=0.60.ckpt\n"
     ]
    },
    {
     "name": "stderr",
     "output_type": "stream",
     "text": [
      "Load test set to memory: 100%|██████████| 2487/2487 [00:12<00:00, 196.13it/s]\n",
      "testing: 100%|██████████| 74/74 [00:35<00:00,  2.11it/s]\n"
     ]
    },
    {
     "name": "stdout",
     "output_type": "stream",
     "text": [
      "Evaluation: {'macroPrec': 0.4862221445339181, 'microPrec': 0.732898287525664, 'weightPrec': 0.7416448237086782, 'macroRec': 0.6260572442821115, 'microRec': 0.732898287525664, 'weightRec': 0.732898287525664, 'macroF1': 0.5273157404639642, 'microF1': 0.732898287525664, 'weightF1': 0.7354250236077897, 'subsetAcc': 0.732898287525664, 'IoU': 0.3872575694813679}\n",
      "[[1351000.0, 536776.0, 3885.0, 15263.0, 1906924.0, 0.71], [383978.0, 1350456.0, 11680.0, 24796.0, 1770910.0, 0.76], [274.0, 1789.0, 4042.0, 3562.0, 9667.0, 0.42], [594.0, 7846.0, 1147.0, 15318.0, 24905.0, 0.62], [1735846.0, 1896867.0, 20754.0, 58939.0, 'mPA:', 0.63], [0.59, 0.58, 0.15, 0.22, 'mIoU:', 0.39], [0.78, 0.71, 0.19, 0.26, 'OA:', 0.73], [0.74, 0.74, 0.27, 0.37, 'F1-macro:', 0.53]]\n"
     ]
    },
    {
     "name": "stderr",
     "output_type": "stream",
     "text": [
      "Load test set to memory: 100%|██████████| 2487/2487 [00:12<00:00, 198.23it/s]\n",
      "testing: 100%|██████████| 74/74 [00:46<00:00,  1.58it/s]\n"
     ]
    },
    {
     "name": "stdout",
     "output_type": "stream",
     "text": [
      "Evaluation: {'macroPrec': 0.4862221445339181, 'microPrec': 0.732898287525664, 'weightPrec': 0.7416448237086782, 'macroRec': 0.6260572442821115, 'microRec': 0.732898287525664, 'weightRec': 0.732898287525664, 'macroF1': 0.5273157404639642, 'microF1': 0.732898287525664, 'weightF1': 0.7354250236077897, 'subsetAcc': 0.732898287525664, 'IoU': 0.3872575694813679}\n",
      "[[1351000.0, 536776.0, 3885.0, 15263.0, 1906924.0, 0.71], [383978.0, 1350456.0, 11680.0, 24796.0, 1770910.0, 0.76], [274.0, 1789.0, 4042.0, 3562.0, 9667.0, 0.42], [594.0, 7846.0, 1147.0, 15318.0, 24905.0, 0.62], [1735846.0, 1896867.0, 20754.0, 58939.0, 'mPA:', 0.63], [0.59, 0.58, 0.15, 0.22, 'mIoU:', 0.39], [0.78, 0.71, 0.19, 0.26, 'OA:', 0.73], [0.74, 0.74, 0.27, 0.37, 'F1-macro:', 0.53]]\n",
      "Confusion Matrix:  \n",
      "                     Bulkhead Or Sea Wall    Rip Rap    Groin Breakwater        Sum Recall\n",
      "Bulkhead Or Sea Wall            1351000.0   536776.0   3885.0    15263.0  1906924.0   0.71\n",
      "Rip Rap                          383978.0  1350456.0  11680.0    24796.0  1770910.0   0.76\n",
      "Groin                               274.0     1789.0   4042.0     3562.0     9667.0   0.42\n",
      "Breakwater                          594.0     7846.0   1147.0    15318.0    24905.0   0.62\n",
      "Sum                             1735846.0  1896867.0  20754.0    58939.0       mPA:   0.63\n",
      "IoU                                  0.59       0.58     0.15       0.22      mIoU:   0.39\n",
      "Precision                            0.78       0.71     0.19       0.26        OA:   0.73\n",
      "F1-score                             0.74       0.74     0.27       0.37  F1-macro:   0.53\n",
      "Using model 4class_unet_resnet50_0.0001_ce_imagenet-epoch=25-val_loss=0.58.ckpt\n"
     ]
    },
    {
     "name": "stderr",
     "output_type": "stream",
     "text": [
      "Load test set to memory: 100%|██████████| 2487/2487 [00:12<00:00, 195.81it/s]\n",
      "testing: 100%|██████████| 74/74 [00:55<00:00,  1.34it/s]\n",
      "/opt/conda/envs/rapids/lib/python3.7/site-packages/sklearn/metrics/_classification.py:1221: UndefinedMetricWarning: Recall is ill-defined and being set to 0.0 in labels with no true samples. Use `zero_division` parameter to control this behavior.\n",
      "  _warn_prf(average, modifier, msg_start, len(result))\n"
     ]
    },
    {
     "name": "stdout",
     "output_type": "stream",
     "text": [
      "Evaluation: {'macroPrec': 0.44194827792128627, 'microPrec': 0.7350300586735394, 'weightPrec': 0.7380496796571914, 'macroRec': 0.5642248337779932, 'microRec': 0.7350300586735394, 'weightRec': 0.7350300586735394, 'macroF1': 0.4841646307274695, 'microF1': 0.7350300586735394, 'weightF1': 0.7358562973287237, 'subsetAcc': 0.7350300586735394, 'IoU': 0.357741041356838}\n",
      "[[0.0, 0.0, 0.0, 0.0, 0.0, 0.0, 0.0], [17.0, 1457181.0, 435417.0, 4427.0, 9882.0, 1906924.0, 0.76], [4.0, 497275.0, 1248373.0, 6163.0, 19095.0, 1770910.0, 0.7], [0.0, 170.0, 1076.0, 6659.0, 1762.0, 9667.0, 0.69], [0.0, 733.0, 7252.0, 403.0, 16517.0, 24905.0, 0.66], [21.0, 1955359.0, 1692118.0, 17652.0, 47256.0, 'mPA:', 0.56], [0.0, 0.61, 0.56, 0.32, 0.3, 'mIoU:', 0.36], [0.0, 0.75, 0.74, 0.38, 0.35, 'OA:', 0.74], [0.0, 0.75, 0.72, 0.49, 0.46, 'F1-macro:', 0.48]]\n",
      "Confusion Matrix:  \n",
      "                     Background Bulkhead Or Sea Wall    Rip Rap    Groin Breakwater        Sum Recall\n",
      "Background                  0.0                  0.0        0.0      0.0        0.0        0.0    0.0\n",
      "Bulkhead Or Sea Wall       17.0            1457181.0   435417.0   4427.0     9882.0  1906924.0   0.76\n",
      "Rip Rap                     4.0             497275.0  1248373.0   6163.0    19095.0  1770910.0    0.7\n",
      "Groin                       0.0                170.0     1076.0   6659.0     1762.0     9667.0   0.69\n",
      "Breakwater                  0.0                733.0     7252.0    403.0    16517.0    24905.0   0.66\n",
      "Sum                        21.0            1955359.0  1692118.0  17652.0    47256.0       mPA:   0.56\n",
      "IoU                         0.0                 0.61       0.56     0.32        0.3      mIoU:   0.36\n",
      "Precision                   0.0                 0.75       0.74     0.38       0.35        OA:   0.74\n",
      "F1-score                    0.0                 0.75       0.72     0.49       0.46  F1-macro:   0.48\n",
      "Using model 4class_unet_resnet50_0.0001_jaccard_imagenet-epoch=75-val_loss=0.49.ckpt\n"
     ]
    },
    {
     "name": "stderr",
     "output_type": "stream",
     "text": [
      "Load test set to memory: 100%|██████████| 2487/2487 [00:12<00:00, 193.26it/s]\n",
      "testing: 100%|██████████| 74/74 [01:15<00:00,  1.02s/it]\n",
      "/opt/conda/envs/rapids/lib/python3.7/site-packages/sklearn/metrics/_classification.py:1221: UndefinedMetricWarning: Recall is ill-defined and being set to 0.0 in labels with no true samples. Use `zero_division` parameter to control this behavior.\n",
      "  _warn_prf(average, modifier, msg_start, len(result))\n"
     ]
    },
    {
     "name": "stdout",
     "output_type": "stream",
     "text": [
      "Evaluation: {'macroPrec': 0.5529501468279241, 'microPrec': 0.4086204472247917, 'weightPrec': 0.8211154201048685, 'macroRec': 0.3960266515591102, 'microRec': 0.4086204472247917, 'weightRec': 0.4086204472247917, 'macroF1': 0.44112871030888784, 'microF1': 0.4086204472247917, 'weightF1': 0.5427319794777141, 'subsetAcc': 0.4086204472247917, 'IoU': 0.3048683425227535}\n",
      "[[0.0, 0.0, 0.0, 0.0, 0.0, 0.0, 0.0], [1008071.0, 694449.0, 202068.0, 1731.0, 605.0, 1906924.0, 0.36], [833269.0, 123524.0, 803597.0, 4813.0, 5707.0, 1770910.0, 0.45], [2383.0, 0.0, 311.0, 6360.0, 613.0, 9667.0, 0.66], [7747.0, 255.0, 3878.0, 466.0, 12559.0, 24905.0, 0.5], [1851470.0, 818228.0, 1009854.0, 13370.0, 19484.0, 'mPA:', 0.4], [0.0, 0.34, 0.41, 0.38, 0.39, 'mIoU:', 0.3], [0.0, 0.85, 0.8, 0.48, 0.64, 'OA:', 0.41], [0.0, 0.51, 0.58, 0.55, 0.57, 'F1-macro:', 0.44]]\n",
      "Confusion Matrix:  \n",
      "                     Background Bulkhead Or Sea Wall    Rip Rap    Groin Breakwater        Sum Recall\n",
      "Background                  0.0                  0.0        0.0      0.0        0.0        0.0    0.0\n",
      "Bulkhead Or Sea Wall  1008071.0             694449.0   202068.0   1731.0      605.0  1906924.0   0.36\n",
      "Rip Rap                833269.0             123524.0   803597.0   4813.0     5707.0  1770910.0   0.45\n",
      "Groin                    2383.0                  0.0      311.0   6360.0      613.0     9667.0   0.66\n",
      "Breakwater               7747.0                255.0     3878.0    466.0    12559.0    24905.0    0.5\n",
      "Sum                   1851470.0             818228.0  1009854.0  13370.0    19484.0       mPA:    0.4\n",
      "IoU                         0.0                 0.34       0.41     0.38       0.39      mIoU:    0.3\n",
      "Precision                   0.0                 0.85        0.8     0.48       0.64        OA:   0.41\n",
      "F1-score                    0.0                 0.51       0.58     0.55       0.57  F1-macro:   0.44\n",
      "Using model 4class_unet_resnet50_0.001_ce_imagenet-epoch=59-val_loss=0.53.ckpt\n"
     ]
    },
    {
     "name": "stderr",
     "output_type": "stream",
     "text": [
      "Load test set to memory: 100%|██████████| 2487/2487 [00:12<00:00, 194.51it/s]\n",
      "testing: 100%|██████████| 74/74 [00:55<00:00,  1.33it/s]\n"
     ]
    },
    {
     "name": "stdout",
     "output_type": "stream",
     "text": [
      "Evaluation: {'macroPrec': 0.5380074327502404, 'microPrec': 0.7611414268805728, 'weightPrec': 0.7652006394972426, 'macroRec': 0.6904268698184084, 'microRec': 0.7611414268805728, 'weightRec': 0.7611414268805728, 'macroF1': 0.5878063712555833, 'microF1': 0.7611414268805728, 'weightF1': 0.7626630162503648, 'subsetAcc': 0.7611414268805728, 'IoU': 0.4400977737250726}\n",
      "[[1476153.0, 418296.0, 5152.0, 7323.0, 1906924.0, 0.77], [413842.0, 1326947.0, 9589.0, 20532.0, 1770910.0, 0.75], [294.0, 1388.0, 5249.0, 2736.0, 9667.0, 0.54], [585.0, 6236.0, 767.0, 17317.0, 24905.0, 0.7], [1890874.0, 1752867.0, 20757.0, 47908.0, 'mPA:', 0.69], [0.64, 0.6, 0.21, 0.31, 'mIoU:', 0.44], [0.78, 0.76, 0.25, 0.36, 'OA:', 0.76], [0.78, 0.75, 0.35, 0.48, 'F1-macro:', 0.59]]\n"
     ]
    },
    {
     "name": "stderr",
     "output_type": "stream",
     "text": [
      "Load test set to memory: 100%|██████████| 2487/2487 [00:12<00:00, 196.28it/s]\n",
      "testing: 100%|██████████| 74/74 [01:51<00:00,  1.51s/it]\n"
     ]
    },
    {
     "name": "stdout",
     "output_type": "stream",
     "text": [
      "Evaluation: {'macroPrec': 0.5380074327502404, 'microPrec': 0.7611414268805728, 'weightPrec': 0.7652006394972426, 'macroRec': 0.6904268698184084, 'microRec': 0.7611414268805728, 'weightRec': 0.7611414268805728, 'macroF1': 0.5878063712555833, 'microF1': 0.7611414268805728, 'weightF1': 0.7626630162503648, 'subsetAcc': 0.7611414268805728, 'IoU': 0.4400977737250726}\n",
      "[[1476153.0, 418296.0, 5152.0, 7323.0, 1906924.0, 0.77], [413842.0, 1326947.0, 9589.0, 20532.0, 1770910.0, 0.75], [294.0, 1388.0, 5249.0, 2736.0, 9667.0, 0.54], [585.0, 6236.0, 767.0, 17317.0, 24905.0, 0.7], [1890874.0, 1752867.0, 20757.0, 47908.0, 'mPA:', 0.69], [0.64, 0.6, 0.21, 0.31, 'mIoU:', 0.44], [0.78, 0.76, 0.25, 0.36, 'OA:', 0.76], [0.78, 0.75, 0.35, 0.48, 'F1-macro:', 0.59]]\n",
      "Confusion Matrix:  \n",
      "                     Bulkhead Or Sea Wall    Rip Rap    Groin Breakwater        Sum Recall\n",
      "Bulkhead Or Sea Wall            1476153.0   418296.0   5152.0     7323.0  1906924.0   0.77\n",
      "Rip Rap                          413842.0  1326947.0   9589.0    20532.0  1770910.0   0.75\n",
      "Groin                               294.0     1388.0   5249.0     2736.0     9667.0   0.54\n",
      "Breakwater                          585.0     6236.0    767.0    17317.0    24905.0    0.7\n",
      "Sum                             1890874.0  1752867.0  20757.0    47908.0       mPA:   0.69\n",
      "IoU                                  0.64        0.6     0.21       0.31      mIoU:   0.44\n",
      "Precision                            0.78       0.76     0.25       0.36        OA:   0.76\n",
      "F1-score                             0.78       0.75     0.35       0.48  F1-macro:   0.59\n",
      "Using model 4class_unet_resnet50_0.001_ce_swsl-epoch=55-val_loss=0.57.ckpt\n"
     ]
    },
    {
     "name": "stderr",
     "output_type": "stream",
     "text": [
      "Load test set to memory: 100%|██████████| 2487/2487 [00:13<00:00, 188.46it/s]\n",
      "testing: 100%|██████████| 74/74 [01:00<00:00,  1.23it/s]\n"
     ]
    },
    {
     "name": "stdout",
     "output_type": "stream",
     "text": [
      "Evaluation: {'macroPrec': 0.5572785926886453, 'microPrec': 0.7390371634998973, 'weightPrec': 0.7508467988619678, 'macroRec': 0.663663094128485, 'microRec': 0.7390371634998973, 'weightRec': 0.7390371634998973, 'macroF1': 0.5855578571532281, 'microF1': 0.7390371634998975, 'weightF1': 0.740817719167033, 'subsetAcc': 0.7390371634998973, 'IoU': 0.4328226533460009}\n",
      "[[1312030.0, 579330.0, 966.0, 14598.0, 1906924.0, 0.69], [325236.0, 1410076.0, 4288.0, 31310.0, 1770910.0, 0.8], [55.0, 2294.0, 4852.0, 2466.0, 9667.0, 0.5], [900.0, 7067.0, 290.0, 16648.0, 24905.0, 0.67], [1638221.0, 1998767.0, 10396.0, 65022.0, 'mPA:', 0.66], [0.59, 0.6, 0.32, 0.23, 'mIoU:', 0.43], [0.8, 0.71, 0.47, 0.26, 'OA:', 0.74], [0.74, 0.75, 0.48, 0.37, 'F1-macro:', 0.59]]\n"
     ]
    },
    {
     "name": "stderr",
     "output_type": "stream",
     "text": [
      "Load test set to memory: 100%|██████████| 2487/2487 [00:13<00:00, 190.60it/s]\n",
      "testing: 100%|██████████| 74/74 [01:55<00:00,  1.56s/it]\n"
     ]
    },
    {
     "name": "stdout",
     "output_type": "stream",
     "text": [
      "Evaluation: {'macroPrec': 0.5572785926886453, 'microPrec': 0.7390371634998973, 'weightPrec': 0.7508467988619678, 'macroRec': 0.663663094128485, 'microRec': 0.7390371634998973, 'weightRec': 0.7390371634998973, 'macroF1': 0.5855578571532281, 'microF1': 0.7390371634998975, 'weightF1': 0.740817719167033, 'subsetAcc': 0.7390371634998973, 'IoU': 0.4328226533460009}\n",
      "[[1312030.0, 579330.0, 966.0, 14598.0, 1906924.0, 0.69], [325236.0, 1410076.0, 4288.0, 31310.0, 1770910.0, 0.8], [55.0, 2294.0, 4852.0, 2466.0, 9667.0, 0.5], [900.0, 7067.0, 290.0, 16648.0, 24905.0, 0.67], [1638221.0, 1998767.0, 10396.0, 65022.0, 'mPA:', 0.66], [0.59, 0.6, 0.32, 0.23, 'mIoU:', 0.43], [0.8, 0.71, 0.47, 0.26, 'OA:', 0.74], [0.74, 0.75, 0.48, 0.37, 'F1-macro:', 0.59]]\n",
      "Confusion Matrix:  \n",
      "                     Bulkhead Or Sea Wall    Rip Rap    Groin Breakwater        Sum Recall\n",
      "Bulkhead Or Sea Wall            1312030.0   579330.0    966.0    14598.0  1906924.0   0.69\n",
      "Rip Rap                          325236.0  1410076.0   4288.0    31310.0  1770910.0    0.8\n",
      "Groin                                55.0     2294.0   4852.0     2466.0     9667.0    0.5\n",
      "Breakwater                          900.0     7067.0    290.0    16648.0    24905.0   0.67\n",
      "Sum                             1638221.0  1998767.0  10396.0    65022.0       mPA:   0.66\n",
      "IoU                                  0.59        0.6     0.32       0.23      mIoU:   0.43\n",
      "Precision                             0.8       0.71     0.47       0.26        OA:   0.74\n",
      "F1-score                             0.74       0.75     0.48       0.37  F1-macro:   0.59\n",
      "Using model 4class_unet_resnet50_0.001_ce_ssl-epoch=47-val_loss=0.57.ckpt\n"
     ]
    },
    {
     "name": "stderr",
     "output_type": "stream",
     "text": [
      "Load test set to memory: 100%|██████████| 2487/2487 [00:13<00:00, 188.37it/s]\n",
      "testing: 100%|██████████| 74/74 [01:04<00:00,  1.15it/s]\n"
     ]
    },
    {
     "name": "stdout",
     "output_type": "stream",
     "text": [
      "Evaluation: {'macroPrec': 0.5451915435486685, 'microPrec': 0.7526679463399208, 'weightPrec': 0.7584918152201511, 'macroRec': 0.6987786057846119, 'microRec': 0.7526679463399208, 'weightRec': 0.7526679463399208, 'macroF1': 0.5938807284590755, 'microF1': 0.7526679463399208, 'weightF1': 0.7547427450583571, 'subsetAcc': 0.7526679463399208, 'IoU': 0.4420888243378768}\n",
      "[[1432440.0, 456416.0, 2315.0, 15753.0, 1906924.0, 0.75], [398933.0, 1338612.0, 6862.0, 26503.0, 1770910.0, 0.76], [325.0, 2101.0, 5660.0, 1581.0, 9667.0, 0.59], [1091.0, 5919.0, 398.0, 17497.0, 24905.0, 0.7], [1832789.0, 1803048.0, 15235.0, 61334.0, 'mPA:', 0.7], [0.62, 0.6, 0.29, 0.25, 'mIoU:', 0.44], [0.78, 0.74, 0.37, 0.29, 'OA:', 0.75], [0.77, 0.75, 0.45, 0.41, 'F1-macro:', 0.59]]\n"
     ]
    },
    {
     "name": "stderr",
     "output_type": "stream",
     "text": [
      "Load test set to memory: 100%|██████████| 2487/2487 [00:13<00:00, 188.05it/s]\n",
      "testing: 100%|██████████| 74/74 [01:57<00:00,  1.59s/it]\n"
     ]
    },
    {
     "name": "stdout",
     "output_type": "stream",
     "text": [
      "Evaluation: {'macroPrec': 0.5451915435486685, 'microPrec': 0.7526679463399208, 'weightPrec': 0.7584918152201511, 'macroRec': 0.6987786057846119, 'microRec': 0.7526679463399208, 'weightRec': 0.7526679463399208, 'macroF1': 0.5938807284590755, 'microF1': 0.7526679463399208, 'weightF1': 0.7547427450583571, 'subsetAcc': 0.7526679463399208, 'IoU': 0.4420888243378768}\n",
      "[[1432440.0, 456416.0, 2315.0, 15753.0, 1906924.0, 0.75], [398933.0, 1338612.0, 6862.0, 26503.0, 1770910.0, 0.76], [325.0, 2101.0, 5660.0, 1581.0, 9667.0, 0.59], [1091.0, 5919.0, 398.0, 17497.0, 24905.0, 0.7], [1832789.0, 1803048.0, 15235.0, 61334.0, 'mPA:', 0.7], [0.62, 0.6, 0.29, 0.25, 'mIoU:', 0.44], [0.78, 0.74, 0.37, 0.29, 'OA:', 0.75], [0.77, 0.75, 0.45, 0.41, 'F1-macro:', 0.59]]\n",
      "Confusion Matrix:  \n",
      "                     Bulkhead Or Sea Wall    Rip Rap    Groin Breakwater        Sum Recall\n",
      "Bulkhead Or Sea Wall            1432440.0   456416.0   2315.0    15753.0  1906924.0   0.75\n",
      "Rip Rap                          398933.0  1338612.0   6862.0    26503.0  1770910.0   0.76\n",
      "Groin                               325.0     2101.0   5660.0     1581.0     9667.0   0.59\n",
      "Breakwater                         1091.0     5919.0    398.0    17497.0    24905.0    0.7\n",
      "Sum                             1832789.0  1803048.0  15235.0    61334.0       mPA:    0.7\n",
      "IoU                                  0.62        0.6     0.29       0.25      mIoU:   0.44\n",
      "Precision                            0.78       0.74     0.37       0.29        OA:   0.75\n",
      "F1-score                             0.77       0.75     0.45       0.41  F1-macro:   0.59\n",
      "Using model 4class_unet_resnet50_0.001_jaccard_imagenet-epoch=143-val_loss=0.52.ckpt\n"
     ]
    },
    {
     "name": "stderr",
     "output_type": "stream",
     "text": [
      "Load test set to memory: 100%|██████████| 2487/2487 [00:13<00:00, 189.27it/s]\n",
      "testing: 100%|██████████| 74/74 [01:07<00:00,  1.10it/s]\n",
      "/opt/conda/envs/rapids/lib/python3.7/site-packages/sklearn/metrics/_classification.py:1221: UndefinedMetricWarning: Recall is ill-defined and being set to 0.0 in labels with no true samples. Use `zero_division` parameter to control this behavior.\n",
      "  _warn_prf(average, modifier, msg_start, len(result))\n"
     ]
    },
    {
     "name": "stdout",
     "output_type": "stream",
     "text": [
      "Evaluation: {'macroPrec': 0.5267766707660745, 'microPrec': 0.40497106189355364, 'weightPrec': 0.8139872742625591, 'macroRec': 0.3700596100952126, 'microRec': 0.40497106189355364, 'weightRec': 0.40497106189355364, 'macroF1': 0.41898464849314293, 'microF1': 0.40497106189355364, 'weightF1': 0.536144053725679, 'subsetAcc': 0.40497106189355364, 'IoU': 0.28458818837868793}\n",
      "[[0.0, 0.0, 0.0, 0.0, 0.0, 0.0, 0.0], [1034679.0, 654049.0, 215130.0, 1948.0, 1118.0, 1906924.0, 0.34], [803154.0, 123491.0, 831650.0, 2990.0, 9625.0, 1770910.0, 0.47], [2988.0, 70.0, 655.0, 5155.0, 799.0, 9667.0, 0.53], [7396.0, 0.0, 4319.0, 627.0, 12563.0, 24905.0, 0.5], [1848217.0, 777610.0, 1051754.0, 10720.0, 24105.0, 'mPA:', 0.37], [0.0, 0.32, 0.42, 0.34, 0.34, 'mIoU:', 0.28], [0.0, 0.84, 0.79, 0.48, 0.52, 'OA:', 0.4], [0.0, 0.49, 0.59, 0.51, 0.51, 'F1-macro:', 0.42]]\n",
      "Confusion Matrix:  \n",
      "                     Background Bulkhead Or Sea Wall    Rip Rap    Groin Breakwater        Sum Recall\n",
      "Background                  0.0                  0.0        0.0      0.0        0.0        0.0    0.0\n",
      "Bulkhead Or Sea Wall  1034679.0             654049.0   215130.0   1948.0     1118.0  1906924.0   0.34\n",
      "Rip Rap                803154.0             123491.0   831650.0   2990.0     9625.0  1770910.0   0.47\n",
      "Groin                    2988.0                 70.0      655.0   5155.0      799.0     9667.0   0.53\n",
      "Breakwater               7396.0                  0.0     4319.0    627.0    12563.0    24905.0    0.5\n",
      "Sum                   1848217.0             777610.0  1051754.0  10720.0    24105.0       mPA:   0.37\n",
      "IoU                         0.0                 0.32       0.42     0.34       0.34      mIoU:   0.28\n",
      "Precision                   0.0                 0.84       0.79     0.48       0.52        OA:    0.4\n",
      "F1-score                    0.0                 0.49       0.59     0.51       0.51  F1-macro:   0.42\n",
      "Using model 4class_unet_resnet18_0.0001_ce_imagenet-epoch=16-val_loss=0.64.ckpt\n"
     ]
    },
    {
     "name": "stderr",
     "output_type": "stream",
     "text": [
      "Load test set to memory: 100%|██████████| 2487/2487 [00:13<00:00, 190.56it/s]\n",
      "testing: 100%|██████████| 74/74 [01:00<00:00,  1.23it/s]\n",
      "/opt/conda/envs/rapids/lib/python3.7/site-packages/sklearn/metrics/_classification.py:1221: UndefinedMetricWarning: Recall is ill-defined and being set to 0.0 in labels with no true samples. Use `zero_division` parameter to control this behavior.\n",
      "  _warn_prf(average, modifier, msg_start, len(result))\n"
     ]
    },
    {
     "name": "stdout",
     "output_type": "stream",
     "text": [
      "Evaluation: {'macroPrec': 0.40041975647021405, 'microPrec': 0.7031364565190338, 'weightPrec': 0.7082045314247679, 'macroRec': 0.5398188208459602, 'microRec': 0.7031364565190338, 'weightRec': 0.7031364565190338, 'macroF1': 0.44272859756238087, 'microF1': 0.7031364565190338, 'weightF1': 0.7048812375083768, 'subsetAcc': 0.7031364565190338, 'IoU': 0.3189899739410653}\n",
      "[[0.0, 0.0, 0.0, 0.0, 0.0, 0.0, 0.0], [0.0, 1337869.0, 547862.0, 6779.0, 14414.0, 1906924.0, 0.7], [1.0, 492566.0, 1249770.0, 10159.0, 18414.0, 1770910.0, 0.71], [0.0, 90.0, 1429.0, 6016.0, 2132.0, 9667.0, 0.62], [0.0, 345.0, 7398.0, 489.0, 16673.0, 24905.0, 0.67], [1.0, 1830870.0, 1806459.0, 23443.0, 51633.0, 'mPA:', 0.54], [0.0, 0.56, 0.54, 0.22, 0.28, 'mIoU:', 0.32], [0.0, 0.73, 0.69, 0.26, 0.32, 'OA:', 0.7], [0.0, 0.72, 0.7, 0.36, 0.44, 'F1-macro:', 0.44]]\n",
      "Confusion Matrix:  \n",
      "                     Background Bulkhead Or Sea Wall    Rip Rap    Groin Breakwater        Sum Recall\n",
      "Background                  0.0                  0.0        0.0      0.0        0.0        0.0    0.0\n",
      "Bulkhead Or Sea Wall        0.0            1337869.0   547862.0   6779.0    14414.0  1906924.0    0.7\n",
      "Rip Rap                     1.0             492566.0  1249770.0  10159.0    18414.0  1770910.0   0.71\n",
      "Groin                       0.0                 90.0     1429.0   6016.0     2132.0     9667.0   0.62\n",
      "Breakwater                  0.0                345.0     7398.0    489.0    16673.0    24905.0   0.67\n",
      "Sum                         1.0            1830870.0  1806459.0  23443.0    51633.0       mPA:   0.54\n",
      "IoU                         0.0                 0.56       0.54     0.22       0.28      mIoU:   0.32\n",
      "Precision                   0.0                 0.73       0.69     0.26       0.32        OA:    0.7\n",
      "F1-score                    0.0                 0.72        0.7     0.36       0.44  F1-macro:   0.44\n",
      "Using model 4class_unet_resnet18_0.0001_jaccard_imagenet-epoch=55-val_loss=0.50.ckpt\n"
     ]
    },
    {
     "name": "stderr",
     "output_type": "stream",
     "text": [
      "Load test set to memory: 100%|██████████| 2487/2487 [00:13<00:00, 188.11it/s]\n",
      "testing: 100%|██████████| 74/74 [00:46<00:00,  1.60it/s]\n",
      "/opt/conda/envs/rapids/lib/python3.7/site-packages/sklearn/metrics/_classification.py:1221: UndefinedMetricWarning: Recall is ill-defined and being set to 0.0 in labels with no true samples. Use `zero_division` parameter to control this behavior.\n",
      "  _warn_prf(average, modifier, msg_start, len(result))\n"
     ]
    },
    {
     "name": "stdout",
     "output_type": "stream",
     "text": [
      "Evaluation: {'macroPrec': 0.5315739012102616, 'microPrec': 0.39037809980912647, 'weightPrec': 0.7923958969906146, 'macroRec': 0.35995952570818035, 'microRec': 0.39037809980912647, 'weightRec': 0.39037809980912647, 'macroF1': 0.413245500422802, 'microF1': 0.3903780998091264, 'weightF1': 0.5202393062441958, 'subsetAcc': 0.39037809980912647, 'IoU': 0.2801836733599361}\n",
      "[[0.0, 0.0, 0.0, 0.0, 0.0, 0.0, 0.0], [1016079.0, 660739.0, 227570.0, 1900.0, 636.0, 1906924.0, 0.35], [844134.0, 146556.0, 770883.0, 5207.0, 4130.0, 1770910.0, 0.44], [3363.0, 0.0, 324.0, 4906.0, 1074.0, 9667.0, 0.51], [6729.0, 324.0, 4444.0, 694.0, 12714.0, 24905.0, 0.51], [1870305.0, 807619.0, 1003221.0, 12707.0, 18554.0, 'mPA:', 0.36], [0.0, 0.32, 0.38, 0.28, 0.41, 'mIoU:', 0.28], [0.0, 0.82, 0.77, 0.39, 0.69, 'OA:', 0.39], [0.0, 0.49, 0.56, 0.44, 0.59, 'F1-macro:', 0.41]]\n",
      "Confusion Matrix:  \n",
      "                     Background Bulkhead Or Sea Wall    Rip Rap    Groin Breakwater        Sum Recall\n",
      "Background                  0.0                  0.0        0.0      0.0        0.0        0.0    0.0\n",
      "Bulkhead Or Sea Wall  1016079.0             660739.0   227570.0   1900.0      636.0  1906924.0   0.35\n",
      "Rip Rap                844134.0             146556.0   770883.0   5207.0     4130.0  1770910.0   0.44\n",
      "Groin                    3363.0                  0.0      324.0   4906.0     1074.0     9667.0   0.51\n",
      "Breakwater               6729.0                324.0     4444.0    694.0    12714.0    24905.0   0.51\n",
      "Sum                   1870305.0             807619.0  1003221.0  12707.0    18554.0       mPA:   0.36\n",
      "IoU                         0.0                 0.32       0.38     0.28       0.41      mIoU:   0.28\n",
      "Precision                   0.0                 0.82       0.77     0.39       0.69        OA:   0.39\n",
      "F1-score                    0.0                 0.49       0.56     0.44       0.59  F1-macro:   0.41\n",
      "Using model 4class_unet_resnet18_0.001_ce_imagenet-epoch=51-val_loss=0.55.ckpt\n"
     ]
    },
    {
     "name": "stderr",
     "output_type": "stream",
     "text": [
      "Load test set to memory: 100%|██████████| 2487/2487 [00:12<00:00, 193.96it/s]\n",
      "testing: 100%|██████████| 74/74 [01:02<00:00,  1.18it/s]\n"
     ]
    },
    {
     "name": "stdout",
     "output_type": "stream",
     "text": [
      "Evaluation: {'macroPrec': 0.5323600801615075, 'microPrec': 0.7449279523845183, 'weightPrec': 0.7511477490978795, 'macroRec': 0.7008808933008136, 'microRec': 0.7449279523845183, 'weightRec': 0.7449279523845183, 'macroF1': 0.585300294384293, 'microF1': 0.7449279523845183, 'weightF1': 0.7466189970230481, 'subsetAcc': 0.7449279523845183, 'IoU': 0.4333809903423349}\n",
      "[[1383006.0, 507857.0, 6788.0, 9273.0, 1906924.0, 0.73], [381485.0, 1359282.0, 8288.0, 21855.0, 1770910.0, 0.77], [307.0, 1741.0, 5999.0, 1620.0, 9667.0, 0.62], [1192.0, 5950.0, 575.0, 17188.0, 24905.0, 0.69], [1765990.0, 1874830.0, 21650.0, 49936.0, 'mPA:', 0.7], [0.6, 0.59, 0.24, 0.3, 'mIoU:', 0.43], [0.78, 0.73, 0.28, 0.34, 'OA:', 0.74], [0.75, 0.75, 0.38, 0.46, 'F1-macro:', 0.59]]\n"
     ]
    },
    {
     "name": "stderr",
     "output_type": "stream",
     "text": [
      "Load test set to memory: 100%|██████████| 2487/2487 [00:13<00:00, 190.49it/s]\n",
      "testing: 100%|██████████| 74/74 [01:08<00:00,  1.07it/s]\n"
     ]
    },
    {
     "name": "stdout",
     "output_type": "stream",
     "text": [
      "Evaluation: {'macroPrec': 0.5323600801615075, 'microPrec': 0.7449279523845183, 'weightPrec': 0.7511477490978795, 'macroRec': 0.7008808933008136, 'microRec': 0.7449279523845183, 'weightRec': 0.7449279523845183, 'macroF1': 0.585300294384293, 'microF1': 0.7449279523845183, 'weightF1': 0.7466189970230481, 'subsetAcc': 0.7449279523845183, 'IoU': 0.4333809903423349}\n",
      "[[1383006.0, 507857.0, 6788.0, 9273.0, 1906924.0, 0.73], [381485.0, 1359282.0, 8288.0, 21855.0, 1770910.0, 0.77], [307.0, 1741.0, 5999.0, 1620.0, 9667.0, 0.62], [1192.0, 5950.0, 575.0, 17188.0, 24905.0, 0.69], [1765990.0, 1874830.0, 21650.0, 49936.0, 'mPA:', 0.7], [0.6, 0.59, 0.24, 0.3, 'mIoU:', 0.43], [0.78, 0.73, 0.28, 0.34, 'OA:', 0.74], [0.75, 0.75, 0.38, 0.46, 'F1-macro:', 0.59]]\n",
      "Confusion Matrix:  \n",
      "                     Bulkhead Or Sea Wall    Rip Rap    Groin Breakwater        Sum Recall\n",
      "Bulkhead Or Sea Wall            1383006.0   507857.0   6788.0     9273.0  1906924.0   0.73\n",
      "Rip Rap                          381485.0  1359282.0   8288.0    21855.0  1770910.0   0.77\n",
      "Groin                               307.0     1741.0   5999.0     1620.0     9667.0   0.62\n",
      "Breakwater                         1192.0     5950.0    575.0    17188.0    24905.0   0.69\n",
      "Sum                             1765990.0  1874830.0  21650.0    49936.0       mPA:    0.7\n",
      "IoU                                   0.6       0.59     0.24        0.3      mIoU:   0.43\n",
      "Precision                            0.78       0.73     0.28       0.34        OA:   0.74\n",
      "F1-score                             0.75       0.75     0.38       0.46  F1-macro:   0.59\n",
      "Using model 4class_unet_resnet18_0.001_jaccard_imagenet-epoch=79-val_loss=0.54.ckpt\n"
     ]
    },
    {
     "name": "stderr",
     "output_type": "stream",
     "text": [
      "Load test set to memory: 100%|██████████| 2487/2487 [00:13<00:00, 188.79it/s]\n",
      "testing: 100%|██████████| 74/74 [00:58<00:00,  1.28it/s]\n",
      "/opt/conda/envs/rapids/lib/python3.7/site-packages/sklearn/metrics/_classification.py:1221: UndefinedMetricWarning: Recall is ill-defined and being set to 0.0 in labels with no true samples. Use `zero_division` parameter to control this behavior.\n",
      "  _warn_prf(average, modifier, msg_start, len(result))\n"
     ]
    },
    {
     "name": "stdout",
     "output_type": "stream",
     "text": [
      "Evaluation: {'macroPrec': 0.487037095542118, 'microPrec': 0.3764396997526671, 'weightPrec': 0.796769005949274, 'macroRec': 0.3450232568500806, 'microRec': 0.3764396997526671, 'weightRec': 0.3764396997526671, 'macroF1': 0.38321390229783614, 'microF1': 0.3764396997526671, 'weightF1': 0.5079571611218306, 'subsetAcc': 0.3764396997526671, 'IoU': 0.2531215150002267}\n",
      "[[0.0, 0.0, 0.0, 0.0, 0.0, 0.0, 0.0], [1076357.0, 622387.0, 203766.0, 2660.0, 1754.0, 1906924.0, 0.33], [855713.0, 141777.0, 758153.0, 4691.0, 10576.0, 1770910.0, 0.43], [3084.0, 0.0, 380.0, 4578.0, 1625.0, 9667.0, 0.47], [8061.0, 93.0, 3792.0, 580.0, 12379.0, 24905.0, 0.5], [1943215.0, 764257.0, 966091.0, 12509.0, 26334.0, 'mPA:', 0.35], [0.0, 0.3, 0.38, 0.26, 0.32, 'mIoU:', 0.25], [0.0, 0.81, 0.78, 0.37, 0.47, 'OA:', 0.38], [0.0, 0.47, 0.55, 0.41, 0.48, 'F1-macro:', 0.38]]\n",
      "Confusion Matrix:  \n",
      "                     Background Bulkhead Or Sea Wall   Rip Rap    Groin Breakwater        Sum Recall\n",
      "Background                  0.0                  0.0       0.0      0.0        0.0        0.0    0.0\n",
      "Bulkhead Or Sea Wall  1076357.0             622387.0  203766.0   2660.0     1754.0  1906924.0   0.33\n",
      "Rip Rap                855713.0             141777.0  758153.0   4691.0    10576.0  1770910.0   0.43\n",
      "Groin                    3084.0                  0.0     380.0   4578.0     1625.0     9667.0   0.47\n",
      "Breakwater               8061.0                 93.0    3792.0    580.0    12379.0    24905.0    0.5\n",
      "Sum                   1943215.0             764257.0  966091.0  12509.0    26334.0       mPA:   0.35\n",
      "IoU                         0.0                  0.3      0.38     0.26       0.32      mIoU:   0.25\n",
      "Precision                   0.0                 0.81      0.78     0.37       0.47        OA:   0.38\n",
      "F1-score                    0.0                 0.47      0.55     0.41       0.48  F1-macro:   0.38\n",
      "Using model 4class_unet_resnet18_0.001_ce_ssl-epoch=50-val_loss=0.57.ckpt\n"
     ]
    },
    {
     "name": "stderr",
     "output_type": "stream",
     "text": [
      "Load test set to memory: 100%|██████████| 2487/2487 [00:13<00:00, 189.72it/s]\n",
      "testing: 100%|██████████| 74/74 [00:43<00:00,  1.70it/s]\n"
     ]
    },
    {
     "name": "stdout",
     "output_type": "stream",
     "text": [
      "Evaluation: {'macroPrec': 0.5097661786661416, 'microPrec': 0.7411077883184113, 'weightPrec': 0.7497303460458786, 'macroRec': 0.656453612164319, 'microRec': 0.7411077883184113, 'weightRec': 0.7411077883184113, 'macroF1': 0.5542778644514698, 'microF1': 0.7411077883184113, 'weightF1': 0.743290433651426, 'subsetAcc': 0.7411077883184113, 'IoU': 0.4085333697327474}\n",
      "[[1357461.0, 529835.0, 5148.0, 14480.0, 1906924.0, 0.71], [364773.0, 1372705.0, 7668.0, 25764.0, 1770910.0, 0.78], [294.0, 1809.0, 4590.0, 2974.0, 9667.0, 0.47], [513.0, 7362.0, 493.0, 16537.0, 24905.0, 0.66], [1723041.0, 1911711.0, 17899.0, 59755.0, 'mPA:', 0.66], [0.6, 0.59, 0.2, 0.24, 'mIoU:', 0.41], [0.79, 0.72, 0.26, 0.28, 'OA:', 0.74], [0.75, 0.75, 0.33, 0.39, 'F1-macro:', 0.55]]\n"
     ]
    },
    {
     "name": "stderr",
     "output_type": "stream",
     "text": [
      "Load test set to memory: 100%|██████████| 2487/2487 [00:13<00:00, 186.52it/s]\n",
      "testing: 100%|██████████| 74/74 [00:56<00:00,  1.31it/s]\n"
     ]
    },
    {
     "name": "stdout",
     "output_type": "stream",
     "text": [
      "Evaluation: {'macroPrec': 0.5097661786661416, 'microPrec': 0.7411077883184113, 'weightPrec': 0.7497303460458786, 'macroRec': 0.656453612164319, 'microRec': 0.7411077883184113, 'weightRec': 0.7411077883184113, 'macroF1': 0.5542778644514698, 'microF1': 0.7411077883184113, 'weightF1': 0.743290433651426, 'subsetAcc': 0.7411077883184113, 'IoU': 0.4085333697327474}\n",
      "[[1357461.0, 529835.0, 5148.0, 14480.0, 1906924.0, 0.71], [364773.0, 1372705.0, 7668.0, 25764.0, 1770910.0, 0.78], [294.0, 1809.0, 4590.0, 2974.0, 9667.0, 0.47], [513.0, 7362.0, 493.0, 16537.0, 24905.0, 0.66], [1723041.0, 1911711.0, 17899.0, 59755.0, 'mPA:', 0.66], [0.6, 0.59, 0.2, 0.24, 'mIoU:', 0.41], [0.79, 0.72, 0.26, 0.28, 'OA:', 0.74], [0.75, 0.75, 0.33, 0.39, 'F1-macro:', 0.55]]\n",
      "Confusion Matrix:  \n",
      "                     Bulkhead Or Sea Wall    Rip Rap    Groin Breakwater        Sum Recall\n",
      "Bulkhead Or Sea Wall            1357461.0   529835.0   5148.0    14480.0  1906924.0   0.71\n",
      "Rip Rap                          364773.0  1372705.0   7668.0    25764.0  1770910.0   0.78\n",
      "Groin                               294.0     1809.0   4590.0     2974.0     9667.0   0.47\n",
      "Breakwater                          513.0     7362.0    493.0    16537.0    24905.0   0.66\n",
      "Sum                             1723041.0  1911711.0  17899.0    59755.0       mPA:   0.66\n",
      "IoU                                   0.6       0.59      0.2       0.24      mIoU:   0.41\n",
      "Precision                            0.79       0.72     0.26       0.28        OA:   0.74\n",
      "F1-score                             0.75       0.75     0.33       0.39  F1-macro:   0.55\n",
      "Using model 4class_unet_resnet50_0.001_ce_imagenet_CWTrue_(0.9, 0.9)-epoch=43-val_loss=0.60.ckpt\n"
     ]
    },
    {
     "name": "stderr",
     "output_type": "stream",
     "text": [
      "Load test set to memory: 100%|██████████| 2487/2487 [00:13<00:00, 186.37it/s]\n",
      "testing: 100%|██████████| 74/74 [01:08<00:00,  1.08it/s]\n"
     ]
    },
    {
     "name": "stdout",
     "output_type": "stream",
     "text": [
      "Evaluation: {'macroPrec': 0.5359310281488943, 'microPrec': 0.7335943320854454, 'weightPrec': 0.7552998769338249, 'macroRec': 0.7156808551369307, 'microRec': 0.7335943320854454, 'weightRec': 0.7335943320854454, 'macroF1': 0.5847548224659564, 'microF1': 0.7335943320854453, 'weightF1': 0.7330892258450689, 'subsetAcc': 0.7335943320854454, 'IoU': 0.4298107483984992}\n",
      "[[1207823.0, 684065.0, 3068.0, 11968.0, 1906924.0, 0.63], [246575.0, 1491870.0, 11596.0, 20869.0, 1770910.0, 0.84], [294.0, 930.0, 6873.0, 1570.0, 9667.0, 0.71], [534.0, 6305.0, 1232.0, 16834.0, 24905.0, 0.68], [1455226.0, 2183170.0, 22769.0, 51241.0, 'mPA:', 0.72], [0.56, 0.61, 0.27, 0.28, 'mIoU:', 0.43], [0.83, 0.68, 0.3, 0.33, 'OA:', 0.73], [0.72, 0.75, 0.42, 0.44, 'F1-macro:', 0.58]]\n"
     ]
    },
    {
     "name": "stderr",
     "output_type": "stream",
     "text": [
      "Load test set to memory: 100%|██████████| 2487/2487 [00:13<00:00, 188.90it/s]\n",
      "testing: 100%|██████████| 74/74 [01:32<00:00,  1.25s/it]\n"
     ]
    },
    {
     "name": "stdout",
     "output_type": "stream",
     "text": [
      "Evaluation: {'macroPrec': 0.5359310281488943, 'microPrec': 0.7335943320854454, 'weightPrec': 0.7552998769338249, 'macroRec': 0.7156808551369307, 'microRec': 0.7335943320854454, 'weightRec': 0.7335943320854454, 'macroF1': 0.5847548224659564, 'microF1': 0.7335943320854453, 'weightF1': 0.7330892258450689, 'subsetAcc': 0.7335943320854454, 'IoU': 0.4298107483984992}\n",
      "[[1207823.0, 684065.0, 3068.0, 11968.0, 1906924.0, 0.63], [246575.0, 1491870.0, 11596.0, 20869.0, 1770910.0, 0.84], [294.0, 930.0, 6873.0, 1570.0, 9667.0, 0.71], [534.0, 6305.0, 1232.0, 16834.0, 24905.0, 0.68], [1455226.0, 2183170.0, 22769.0, 51241.0, 'mPA:', 0.72], [0.56, 0.61, 0.27, 0.28, 'mIoU:', 0.43], [0.83, 0.68, 0.3, 0.33, 'OA:', 0.73], [0.72, 0.75, 0.42, 0.44, 'F1-macro:', 0.58]]\n",
      "Confusion Matrix:  \n",
      "                     Bulkhead Or Sea Wall    Rip Rap    Groin Breakwater        Sum Recall\n",
      "Bulkhead Or Sea Wall            1207823.0   684065.0   3068.0    11968.0  1906924.0   0.63\n",
      "Rip Rap                          246575.0  1491870.0  11596.0    20869.0  1770910.0   0.84\n",
      "Groin                               294.0      930.0   6873.0     1570.0     9667.0   0.71\n",
      "Breakwater                          534.0     6305.0   1232.0    16834.0    24905.0   0.68\n",
      "Sum                             1455226.0  2183170.0  22769.0    51241.0       mPA:   0.72\n",
      "IoU                                  0.56       0.61     0.27       0.28      mIoU:   0.43\n",
      "Precision                            0.83       0.68      0.3       0.33        OA:   0.73\n",
      "F1-score                             0.72       0.75     0.42       0.44  F1-macro:   0.58\n",
      "Using model 4class_unet_resnet50_0.001_ce_imagenet_CWFalse_(0.85, 0.85)-epoch=45-val_loss=0.56.ckpt\n"
     ]
    },
    {
     "name": "stderr",
     "output_type": "stream",
     "text": [
      "Load test set to memory: 100%|██████████| 2487/2487 [00:13<00:00, 181.54it/s]\n",
      "testing: 100%|██████████| 74/74 [01:09<00:00,  1.06it/s]\n"
     ]
    },
    {
     "name": "stdout",
     "output_type": "stream",
     "text": [
      "Evaluation: {'macroPrec': 0.5297401155240155, 'microPrec': 0.74756370935722, 'weightPrec': 0.7598219020171153, 'macroRec': 0.6634231029939099, 'microRec': 0.74756370935722, 'weightRec': 0.74756370935722, 'macroF1': 0.5716891754178797, 'microF1': 0.7475637093572199, 'weightF1': 0.7487013110321649, 'subsetAcc': 0.74756370935722, 'IoU': 0.4232073813396362}\n",
      "[[1311097.0, 580027.0, 5325.0, 10475.0, 1906924.0, 0.69], [297803.0, 1443023.0, 6383.0, 23701.0, 1770910.0, 0.81], [294.0, 2251.0, 4779.0, 2343.0, 9667.0, 0.49], [13.0, 8262.0, 269.0, 16361.0, 24905.0, 0.66], [1609207.0, 2033563.0, 16756.0, 52880.0, 'mPA:', 0.66], [0.59, 0.61, 0.22, 0.27, 'mIoU:', 0.42], [0.81, 0.71, 0.29, 0.31, 'OA:', 0.75], [0.75, 0.76, 0.36, 0.42, 'F1-macro:', 0.57]]\n"
     ]
    },
    {
     "name": "stderr",
     "output_type": "stream",
     "text": [
      "Load test set to memory: 100%|██████████| 2487/2487 [00:13<00:00, 189.25it/s]\n",
      "testing: 100%|██████████| 74/74 [01:11<00:00,  1.03it/s]\n"
     ]
    },
    {
     "name": "stdout",
     "output_type": "stream",
     "text": [
      "Evaluation: {'macroPrec': 0.5297401155240155, 'microPrec': 0.74756370935722, 'weightPrec': 0.7598219020171153, 'macroRec': 0.6634231029939099, 'microRec': 0.74756370935722, 'weightRec': 0.74756370935722, 'macroF1': 0.5716891754178797, 'microF1': 0.7475637093572199, 'weightF1': 0.7487013110321649, 'subsetAcc': 0.74756370935722, 'IoU': 0.4232073813396362}\n",
      "[[1311097.0, 580027.0, 5325.0, 10475.0, 1906924.0, 0.69], [297803.0, 1443023.0, 6383.0, 23701.0, 1770910.0, 0.81], [294.0, 2251.0, 4779.0, 2343.0, 9667.0, 0.49], [13.0, 8262.0, 269.0, 16361.0, 24905.0, 0.66], [1609207.0, 2033563.0, 16756.0, 52880.0, 'mPA:', 0.66], [0.59, 0.61, 0.22, 0.27, 'mIoU:', 0.42], [0.81, 0.71, 0.29, 0.31, 'OA:', 0.75], [0.75, 0.76, 0.36, 0.42, 'F1-macro:', 0.57]]\n",
      "Confusion Matrix:  \n",
      "                     Bulkhead Or Sea Wall    Rip Rap    Groin Breakwater        Sum Recall\n",
      "Bulkhead Or Sea Wall            1311097.0   580027.0   5325.0    10475.0  1906924.0   0.69\n",
      "Rip Rap                          297803.0  1443023.0   6383.0    23701.0  1770910.0   0.81\n",
      "Groin                               294.0     2251.0   4779.0     2343.0     9667.0   0.49\n",
      "Breakwater                           13.0     8262.0    269.0    16361.0    24905.0   0.66\n",
      "Sum                             1609207.0  2033563.0  16756.0    52880.0       mPA:   0.66\n",
      "IoU                                  0.59       0.61     0.22       0.27      mIoU:   0.42\n",
      "Precision                            0.81       0.71     0.29       0.31        OA:   0.75\n",
      "F1-score                             0.75       0.76     0.36       0.42  F1-macro:   0.57\n",
      "Using model 4class_unet_resnet50_0.001_ce_imagenet_CWTrue_(0.9, 0.85)-epoch=38-val_loss=0.59.ckpt\n"
     ]
    },
    {
     "name": "stderr",
     "output_type": "stream",
     "text": [
      "Load test set to memory: 100%|██████████| 2487/2487 [00:13<00:00, 182.51it/s]\n",
      "testing: 100%|██████████| 74/74 [01:07<00:00,  1.09it/s]\n"
     ]
    },
    {
     "name": "stdout",
     "output_type": "stream",
     "text": [
      "Evaluation: {'macroPrec': 0.5074232264643627, 'microPrec': 0.716855053030299, 'weightPrec': 0.7374135817205935, 'macroRec': 0.6433731118185078, 'microRec': 0.716855053030299, 'weightRec': 0.716855053030299, 'macroF1': 0.5345254535509991, 'microF1': 0.716855053030299, 'weightF1': 0.7194553568003622, 'subsetAcc': 0.716855053030299, 'IoU': 0.3882268887625695}\n",
      "[[1222288.0, 653388.0, 3103.0, 28145.0, 1906924.0, 0.64], [308200.0, 1417128.0, 3678.0, 41904.0, 1770910.0, 0.8], [294.0, 2562.0, 4034.0, 2777.0, 9667.0, 0.42], [352.0, 6145.0, 601.0, 17807.0, 24905.0, 0.71], [1531134.0, 2079223.0, 11416.0, 90633.0, 'mPA:', 0.64], [0.55, 0.58, 0.24, 0.18, 'mIoU:', 0.39], [0.8, 0.68, 0.35, 0.2, 'OA:', 0.72], [0.71, 0.74, 0.38, 0.31, 'F1-macro:', 0.53]]\n"
     ]
    },
    {
     "name": "stderr",
     "output_type": "stream",
     "text": [
      "Load test set to memory: 100%|██████████| 2487/2487 [00:13<00:00, 182.96it/s]\n",
      "testing: 100%|██████████| 74/74 [01:11<00:00,  1.04it/s]\n"
     ]
    },
    {
     "name": "stdout",
     "output_type": "stream",
     "text": [
      "Evaluation: {'macroPrec': 0.5074232264643627, 'microPrec': 0.716855053030299, 'weightPrec': 0.7374135817205935, 'macroRec': 0.6433731118185078, 'microRec': 0.716855053030299, 'weightRec': 0.716855053030299, 'macroF1': 0.5345254535509991, 'microF1': 0.716855053030299, 'weightF1': 0.7194553568003622, 'subsetAcc': 0.716855053030299, 'IoU': 0.3882268887625695}\n",
      "[[1222288.0, 653388.0, 3103.0, 28145.0, 1906924.0, 0.64], [308200.0, 1417128.0, 3678.0, 41904.0, 1770910.0, 0.8], [294.0, 2562.0, 4034.0, 2777.0, 9667.0, 0.42], [352.0, 6145.0, 601.0, 17807.0, 24905.0, 0.71], [1531134.0, 2079223.0, 11416.0, 90633.0, 'mPA:', 0.64], [0.55, 0.58, 0.24, 0.18, 'mIoU:', 0.39], [0.8, 0.68, 0.35, 0.2, 'OA:', 0.72], [0.71, 0.74, 0.38, 0.31, 'F1-macro:', 0.53]]\n",
      "Confusion Matrix:  \n",
      "                     Bulkhead Or Sea Wall    Rip Rap    Groin Breakwater        Sum Recall\n",
      "Bulkhead Or Sea Wall            1222288.0   653388.0   3103.0    28145.0  1906924.0   0.64\n",
      "Rip Rap                          308200.0  1417128.0   3678.0    41904.0  1770910.0    0.8\n",
      "Groin                               294.0     2562.0   4034.0     2777.0     9667.0   0.42\n",
      "Breakwater                          352.0     6145.0    601.0    17807.0    24905.0   0.71\n",
      "Sum                             1531134.0  2079223.0  11416.0    90633.0       mPA:   0.64\n",
      "IoU                                  0.55       0.58     0.24       0.18      mIoU:   0.39\n",
      "Precision                             0.8       0.68     0.35        0.2        OA:   0.72\n",
      "F1-score                             0.71       0.74     0.38       0.31  F1-macro:   0.53\n",
      "Using model 4class_unet_resnet50_0.001_ce_imagenet_CWFalse_(0.85, 0.999)-epoch=60-val_loss=0.54.ckpt\n"
     ]
    },
    {
     "name": "stderr",
     "output_type": "stream",
     "text": [
      "Load test set to memory: 100%|██████████| 2487/2487 [00:13<00:00, 187.66it/s]\n",
      "testing: 100%|██████████| 74/74 [01:08<00:00,  1.09it/s]\n"
     ]
    },
    {
     "name": "stdout",
     "output_type": "stream",
     "text": [
      "Evaluation: {'macroPrec': 0.5204281701558873, 'microPrec': 0.7510555149409843, 'weightPrec': 0.7576835522807925, 'macroRec': 0.6738384938138368, 'microRec': 0.7510555149409843, 'weightRec': 0.7510555149409843, 'macroF1': 0.5684400594145175, 'microF1': 0.7510555149409843, 'weightF1': 0.7531401389872612, 'subsetAcc': 0.7510555149409843, 'IoU': 0.4217330581066917}\n",
      "[[1404512.0, 488991.0, 4188.0, 9233.0, 1906924.0, 0.74], [374187.0, 1362499.0, 8467.0, 25757.0, 1770910.0, 0.77], [309.0, 1570.0, 5336.0, 2452.0, 9667.0, 0.55], [441.0, 6200.0, 2388.0, 15876.0, 24905.0, 0.64], [1779449.0, 1859260.0, 20379.0, 53318.0, 'mPA:', 0.67], [0.62, 0.6, 0.22, 0.25, 'mIoU:', 0.42], [0.79, 0.73, 0.26, 0.3, 'OA:', 0.75], [0.76, 0.75, 0.36, 0.41, 'F1-macro:', 0.57]]\n"
     ]
    },
    {
     "name": "stderr",
     "output_type": "stream",
     "text": [
      "Load test set to memory: 100%|██████████| 2487/2487 [00:13<00:00, 190.72it/s]\n",
      "testing: 100%|██████████| 74/74 [01:12<00:00,  1.03it/s]\n"
     ]
    },
    {
     "name": "stdout",
     "output_type": "stream",
     "text": [
      "Evaluation: {'macroPrec': 0.5204281701558873, 'microPrec': 0.7510555149409843, 'weightPrec': 0.7576835522807925, 'macroRec': 0.6738384938138368, 'microRec': 0.7510555149409843, 'weightRec': 0.7510555149409843, 'macroF1': 0.5684400594145175, 'microF1': 0.7510555149409843, 'weightF1': 0.7531401389872612, 'subsetAcc': 0.7510555149409843, 'IoU': 0.4217330581066917}\n",
      "[[1404512.0, 488991.0, 4188.0, 9233.0, 1906924.0, 0.74], [374187.0, 1362499.0, 8467.0, 25757.0, 1770910.0, 0.77], [309.0, 1570.0, 5336.0, 2452.0, 9667.0, 0.55], [441.0, 6200.0, 2388.0, 15876.0, 24905.0, 0.64], [1779449.0, 1859260.0, 20379.0, 53318.0, 'mPA:', 0.67], [0.62, 0.6, 0.22, 0.25, 'mIoU:', 0.42], [0.79, 0.73, 0.26, 0.3, 'OA:', 0.75], [0.76, 0.75, 0.36, 0.41, 'F1-macro:', 0.57]]\n",
      "Confusion Matrix:  \n",
      "                     Bulkhead Or Sea Wall    Rip Rap    Groin Breakwater        Sum Recall\n",
      "Bulkhead Or Sea Wall            1404512.0   488991.0   4188.0     9233.0  1906924.0   0.74\n",
      "Rip Rap                          374187.0  1362499.0   8467.0    25757.0  1770910.0   0.77\n",
      "Groin                               309.0     1570.0   5336.0     2452.0     9667.0   0.55\n",
      "Breakwater                          441.0     6200.0   2388.0    15876.0    24905.0   0.64\n",
      "Sum                             1779449.0  1859260.0  20379.0    53318.0       mPA:   0.67\n",
      "IoU                                  0.62        0.6     0.22       0.25      mIoU:   0.42\n",
      "Precision                            0.79       0.73     0.26        0.3        OA:   0.75\n",
      "F1-score                             0.76       0.75     0.36       0.41  F1-macro:   0.57\n",
      "Using model 4class_unet_resnet50_0.001_ce_imagenet_CWFalse_(0.9, 0.89)-epoch=36-val_loss=0.57.ckpt\n"
     ]
    },
    {
     "name": "stderr",
     "output_type": "stream",
     "text": [
      "Load test set to memory: 100%|██████████| 2487/2487 [00:13<00:00, 186.97it/s]\n",
      "testing: 100%|██████████| 74/74 [01:07<00:00,  1.09it/s]\n"
     ]
    },
    {
     "name": "stdout",
     "output_type": "stream",
     "text": [
      "Evaluation: {'macroPrec': 0.5100630599094962, 'microPrec': 0.734272329050217, 'weightPrec': 0.7473577883430781, 'macroRec': 0.6937207158617797, 'microRec': 0.734272329050217, 'weightRec': 0.734272329050217, 'macroF1': 0.5606422482255352, 'microF1': 0.7342723290502171, 'weightF1': 0.7361071394164339, 'subsetAcc': 0.734272329050217, 'IoU': 0.4121483615651235}\n",
      "[[1295491.0, 595325.0, 5746.0, 10362.0, 1906924.0, 0.68], [324502.0, 1406253.0, 10721.0, 29434.0, 1770910.0, 0.79], [300.0, 2172.0, 5227.0, 1968.0, 9667.0, 0.54], [112.0, 4667.0, 1180.0, 18946.0, 24905.0, 0.76], [1620405.0, 2008417.0, 22874.0, 60710.0, 'mPA:', 0.69], [0.58, 0.59, 0.19, 0.28, 'mIoU:', 0.41], [0.8, 0.7, 0.23, 0.31, 'OA:', 0.73], [0.73, 0.74, 0.32, 0.44, 'F1-macro:', 0.56]]\n"
     ]
    },
    {
     "name": "stderr",
     "output_type": "stream",
     "text": [
      "Load test set to memory: 100%|██████████| 2487/2487 [00:13<00:00, 186.42it/s]\n",
      "testing: 100%|██████████| 74/74 [01:12<00:00,  1.03it/s]\n"
     ]
    },
    {
     "name": "stdout",
     "output_type": "stream",
     "text": [
      "Evaluation: {'macroPrec': 0.5100630599094962, 'microPrec': 0.734272329050217, 'weightPrec': 0.7473577883430781, 'macroRec': 0.6937207158617797, 'microRec': 0.734272329050217, 'weightRec': 0.734272329050217, 'macroF1': 0.5606422482255352, 'microF1': 0.7342723290502171, 'weightF1': 0.7361071394164339, 'subsetAcc': 0.734272329050217, 'IoU': 0.4121483615651235}\n",
      "[[1295491.0, 595325.0, 5746.0, 10362.0, 1906924.0, 0.68], [324502.0, 1406253.0, 10721.0, 29434.0, 1770910.0, 0.79], [300.0, 2172.0, 5227.0, 1968.0, 9667.0, 0.54], [112.0, 4667.0, 1180.0, 18946.0, 24905.0, 0.76], [1620405.0, 2008417.0, 22874.0, 60710.0, 'mPA:', 0.69], [0.58, 0.59, 0.19, 0.28, 'mIoU:', 0.41], [0.8, 0.7, 0.23, 0.31, 'OA:', 0.73], [0.73, 0.74, 0.32, 0.44, 'F1-macro:', 0.56]]\n",
      "Confusion Matrix:  \n",
      "                     Bulkhead Or Sea Wall    Rip Rap    Groin Breakwater        Sum Recall\n",
      "Bulkhead Or Sea Wall            1295491.0   595325.0   5746.0    10362.0  1906924.0   0.68\n",
      "Rip Rap                          324502.0  1406253.0  10721.0    29434.0  1770910.0   0.79\n",
      "Groin                               300.0     2172.0   5227.0     1968.0     9667.0   0.54\n",
      "Breakwater                          112.0     4667.0   1180.0    18946.0    24905.0   0.76\n",
      "Sum                             1620405.0  2008417.0  22874.0    60710.0       mPA:   0.69\n",
      "IoU                                  0.58       0.59     0.19       0.28      mIoU:   0.41\n",
      "Precision                             0.8        0.7     0.23       0.31        OA:   0.73\n",
      "F1-score                             0.73       0.74     0.32       0.44  F1-macro:   0.56\n",
      "Using model 4class_unet_resnet50_0.001_ce_imagenet_CWTrue_(0.85, 0.9)-epoch=37-val_loss=0.58.ckpt\n"
     ]
    },
    {
     "name": "stderr",
     "output_type": "stream",
     "text": [
      "Load test set to memory: 100%|██████████| 2487/2487 [00:13<00:00, 185.79it/s]\n",
      "testing: 100%|██████████| 74/74 [01:06<00:00,  1.11it/s]\n"
     ]
    },
    {
     "name": "stdout",
     "output_type": "stream",
     "text": [
      "Evaluation: {'macroPrec': 0.5089732192148512, 'microPrec': 0.7212651310228461, 'weightPrec': 0.7541451312789821, 'macroRec': 0.6994281686180666, 'microRec': 0.7212651310228461, 'weightRec': 0.7212651310228461, 'macroF1': 0.5496505993290985, 'microF1': 0.721265131022846, 'weightF1': 0.7209097291672347, 'subsetAcc': 0.7212651310228461, 'IoU': 0.3997564810720952}\n",
      "[[1143731.0, 741455.0, 4765.0, 16973.0, 1906924.0, 0.6], [213638.0, 1509311.0, 8518.0, 39443.0, 1770910.0, 0.85], [294.0, 900.0, 5663.0, 2810.0, 9667.0, 0.59], [2.0, 4876.0, 1103.0, 18924.0, 24905.0, 0.76], [1357665.0, 2256542.0, 20049.0, 78150.0, 'mPA:', 0.7], [0.54, 0.6, 0.24, 0.22, 'mIoU:', 0.4], [0.84, 0.67, 0.28, 0.24, 'OA:', 0.72], [0.7, 0.75, 0.38, 0.37, 'F1-macro:', 0.55]]\n"
     ]
    },
    {
     "name": "stderr",
     "output_type": "stream",
     "text": [
      "Load test set to memory: 100%|██████████| 2487/2487 [00:13<00:00, 187.51it/s]\n",
      "testing: 100%|██████████| 74/74 [01:10<00:00,  1.06it/s]\n"
     ]
    },
    {
     "name": "stdout",
     "output_type": "stream",
     "text": [
      "Evaluation: {'macroPrec': 0.5089732192148512, 'microPrec': 0.7212651310228461, 'weightPrec': 0.7541451312789821, 'macroRec': 0.6994281686180666, 'microRec': 0.7212651310228461, 'weightRec': 0.7212651310228461, 'macroF1': 0.5496505993290985, 'microF1': 0.721265131022846, 'weightF1': 0.7209097291672347, 'subsetAcc': 0.7212651310228461, 'IoU': 0.3997564810720952}\n",
      "[[1143731.0, 741455.0, 4765.0, 16973.0, 1906924.0, 0.6], [213638.0, 1509311.0, 8518.0, 39443.0, 1770910.0, 0.85], [294.0, 900.0, 5663.0, 2810.0, 9667.0, 0.59], [2.0, 4876.0, 1103.0, 18924.0, 24905.0, 0.76], [1357665.0, 2256542.0, 20049.0, 78150.0, 'mPA:', 0.7], [0.54, 0.6, 0.24, 0.22, 'mIoU:', 0.4], [0.84, 0.67, 0.28, 0.24, 'OA:', 0.72], [0.7, 0.75, 0.38, 0.37, 'F1-macro:', 0.55]]\n",
      "Confusion Matrix:  \n",
      "                     Bulkhead Or Sea Wall    Rip Rap    Groin Breakwater        Sum Recall\n",
      "Bulkhead Or Sea Wall            1143731.0   741455.0   4765.0    16973.0  1906924.0    0.6\n",
      "Rip Rap                          213638.0  1509311.0   8518.0    39443.0  1770910.0   0.85\n",
      "Groin                               294.0      900.0   5663.0     2810.0     9667.0   0.59\n",
      "Breakwater                            2.0     4876.0   1103.0    18924.0    24905.0   0.76\n",
      "Sum                             1357665.0  2256542.0  20049.0    78150.0       mPA:    0.7\n",
      "IoU                                  0.54        0.6     0.24       0.22      mIoU:    0.4\n",
      "Precision                            0.84       0.67     0.28       0.24        OA:   0.72\n",
      "F1-score                              0.7       0.75     0.38       0.37  F1-macro:   0.55\n",
      "Using model 4class_unet_resnet50_0.001_ce_imagenet_CWTrue_(0.9, 0.99)-epoch=41-val_loss=0.60.ckpt\n"
     ]
    },
    {
     "name": "stderr",
     "output_type": "stream",
     "text": [
      "Load test set to memory: 100%|██████████| 2487/2487 [00:13<00:00, 188.09it/s]\n",
      "testing: 100%|██████████| 74/74 [01:09<00:00,  1.06it/s]\n"
     ]
    },
    {
     "name": "stdout",
     "output_type": "stream",
     "text": [
      "Evaluation: {'macroPrec': 0.5065212284364514, 'microPrec': 0.732823134107638, 'weightPrec': 0.7563238571314446, 'macroRec': 0.6718387074197433, 'microRec': 0.732823134107638, 'weightRec': 0.732823134107638, 'macroF1': 0.5479749930600488, 'microF1': 0.732823134107638, 'weightF1': 0.7331671259447653, 'subsetAcc': 0.732823134107638, 'IoU': 0.40139995392199634}\n",
      "[[1208209.0, 676894.0, 4375.0, 17446.0, 1906924.0, 0.63], [244208.0, 1490952.0, 11103.0, 24647.0, 1770910.0, 0.84], [294.0, 1024.0, 5586.0, 2763.0, 9667.0, 0.58], [243.0, 7512.0, 1360.0, 15790.0, 24905.0, 0.63], [1452954.0, 2176382.0, 22424.0, 60646.0, 'mPA:', 0.67], [0.56, 0.61, 0.21, 0.23, 'mIoU:', 0.4], [0.83, 0.69, 0.25, 0.26, 'OA:', 0.73], [0.72, 0.76, 0.35, 0.37, 'F1-macro:', 0.55]]\n"
     ]
    },
    {
     "name": "stderr",
     "output_type": "stream",
     "text": [
      "Load test set to memory: 100%|██████████| 2487/2487 [00:13<00:00, 189.10it/s]\n",
      "testing: 100%|██████████| 74/74 [01:10<00:00,  1.04it/s]\n"
     ]
    },
    {
     "name": "stdout",
     "output_type": "stream",
     "text": [
      "Evaluation: {'macroPrec': 0.5065212284364514, 'microPrec': 0.732823134107638, 'weightPrec': 0.7563238571314446, 'macroRec': 0.6718387074197433, 'microRec': 0.732823134107638, 'weightRec': 0.732823134107638, 'macroF1': 0.5479749930600488, 'microF1': 0.732823134107638, 'weightF1': 0.7331671259447653, 'subsetAcc': 0.732823134107638, 'IoU': 0.40139995392199634}\n",
      "[[1208209.0, 676894.0, 4375.0, 17446.0, 1906924.0, 0.63], [244208.0, 1490952.0, 11103.0, 24647.0, 1770910.0, 0.84], [294.0, 1024.0, 5586.0, 2763.0, 9667.0, 0.58], [243.0, 7512.0, 1360.0, 15790.0, 24905.0, 0.63], [1452954.0, 2176382.0, 22424.0, 60646.0, 'mPA:', 0.67], [0.56, 0.61, 0.21, 0.23, 'mIoU:', 0.4], [0.83, 0.69, 0.25, 0.26, 'OA:', 0.73], [0.72, 0.76, 0.35, 0.37, 'F1-macro:', 0.55]]\n",
      "Confusion Matrix:  \n",
      "                     Bulkhead Or Sea Wall    Rip Rap    Groin Breakwater        Sum Recall\n",
      "Bulkhead Or Sea Wall            1208209.0   676894.0   4375.0    17446.0  1906924.0   0.63\n",
      "Rip Rap                          244208.0  1490952.0  11103.0    24647.0  1770910.0   0.84\n",
      "Groin                               294.0     1024.0   5586.0     2763.0     9667.0   0.58\n",
      "Breakwater                          243.0     7512.0   1360.0    15790.0    24905.0   0.63\n",
      "Sum                             1452954.0  2176382.0  22424.0    60646.0       mPA:   0.67\n",
      "IoU                                  0.56       0.61     0.21       0.23      mIoU:    0.4\n",
      "Precision                            0.83       0.69     0.25       0.26        OA:   0.73\n",
      "F1-score                             0.72       0.76     0.35       0.37  F1-macro:   0.55\n",
      "Using model 4class_unet_resnet50_0.001_ce_imagenet_CWFalse_(0.84, 0.999)-epoch=40-val_loss=0.56.ckpt\n"
     ]
    },
    {
     "name": "stderr",
     "output_type": "stream",
     "text": [
      "Load test set to memory: 100%|██████████| 2487/2487 [00:13<00:00, 186.24it/s]\n",
      "testing: 100%|██████████| 74/74 [01:08<00:00,  1.08it/s]\n"
     ]
    },
    {
     "name": "stdout",
     "output_type": "stream",
     "text": [
      "Evaluation: {'macroPrec': 0.5367862514337375, 'microPrec': 0.7471529245454296, 'weightPrec': 0.7512840881116136, 'macroRec': 0.7016947517450354, 'microRec': 0.7471529245454296, 'weightRec': 0.7471529245454296, 'macroF1': 0.5898577180445089, 'microF1': 0.7471529245454295, 'weightF1': 0.7486959075135213, 'subsetAcc': 0.7471529245454296, 'IoU': 0.43720311425549274}\n",
      "[[1442491.0, 451985.0, 3196.0, 9252.0, 1906924.0, 0.76], [430438.0, 1309164.0, 10316.0, 20992.0, 1770910.0, 0.74], [294.0, 904.0, 6707.0, 1762.0, 9667.0, 0.69], [719.0, 7613.0, 1200.0, 15373.0, 24905.0, 0.62], [1873942.0, 1769666.0, 21419.0, 47379.0, 'mPA:', 0.7], [0.62, 0.59, 0.28, 0.27, 'mIoU:', 0.44], [0.77, 0.74, 0.31, 0.32, 'OA:', 0.75], [0.76, 0.74, 0.43, 0.43, 'F1-macro:', 0.59]]\n"
     ]
    },
    {
     "name": "stderr",
     "output_type": "stream",
     "text": [
      "Load test set to memory: 100%|██████████| 2487/2487 [00:13<00:00, 188.61it/s]\n",
      "testing: 100%|██████████| 74/74 [01:15<00:00,  1.02s/it]\n"
     ]
    },
    {
     "name": "stdout",
     "output_type": "stream",
     "text": [
      "Evaluation: {'macroPrec': 0.5367862514337375, 'microPrec': 0.7471529245454296, 'weightPrec': 0.7512840881116136, 'macroRec': 0.7016947517450354, 'microRec': 0.7471529245454296, 'weightRec': 0.7471529245454296, 'macroF1': 0.5898577180445089, 'microF1': 0.7471529245454295, 'weightF1': 0.7486959075135213, 'subsetAcc': 0.7471529245454296, 'IoU': 0.43720311425549274}\n",
      "[[1442491.0, 451985.0, 3196.0, 9252.0, 1906924.0, 0.76], [430438.0, 1309164.0, 10316.0, 20992.0, 1770910.0, 0.74], [294.0, 904.0, 6707.0, 1762.0, 9667.0, 0.69], [719.0, 7613.0, 1200.0, 15373.0, 24905.0, 0.62], [1873942.0, 1769666.0, 21419.0, 47379.0, 'mPA:', 0.7], [0.62, 0.59, 0.28, 0.27, 'mIoU:', 0.44], [0.77, 0.74, 0.31, 0.32, 'OA:', 0.75], [0.76, 0.74, 0.43, 0.43, 'F1-macro:', 0.59]]\n",
      "Confusion Matrix:  \n",
      "                     Bulkhead Or Sea Wall    Rip Rap    Groin Breakwater        Sum Recall\n",
      "Bulkhead Or Sea Wall            1442491.0   451985.0   3196.0     9252.0  1906924.0   0.76\n",
      "Rip Rap                          430438.0  1309164.0  10316.0    20992.0  1770910.0   0.74\n",
      "Groin                               294.0      904.0   6707.0     1762.0     9667.0   0.69\n",
      "Breakwater                          719.0     7613.0   1200.0    15373.0    24905.0   0.62\n",
      "Sum                             1873942.0  1769666.0  21419.0    47379.0       mPA:    0.7\n",
      "IoU                                  0.62       0.59     0.28       0.27      mIoU:   0.44\n",
      "Precision                            0.77       0.74     0.31       0.32        OA:   0.75\n",
      "F1-score                             0.76       0.74     0.43       0.43  F1-macro:   0.59\n",
      "Using model 4class_unet_resnet50_0.001_ce_imagenet_CWTrue_(0.85, 0.999)-epoch=27-val_loss=0.58.ckpt\n"
     ]
    },
    {
     "name": "stderr",
     "output_type": "stream",
     "text": [
      "Load test set to memory: 100%|██████████| 2487/2487 [00:13<00:00, 184.21it/s]\n",
      "testing:  35%|███▌      | 26/74 [00:23<00:43,  1.11it/s]"
     ]
    }
   ],
   "source": [
    "model_dir = \"/rapids/notebooks/sciclone/geograd/Miranda/github/marine-debris.github.io/torchlightning_results_norm\"\n",
    "model_files = [file for file in os.listdir(model_dir) if file.split(\".\")[-1]==\"ckpt\" and file.split(\"_\")[0]==\"4class\"]\n",
    "\n",
    "gen_masks_path = os.path.join(up(up(root_path)), 'VIMS', 'NAIP', 'VA_NAIP_2018_8977', 'test_masks')\n",
    "\n",
    "for file in model_files:\n",
    "    print(\"Using model {}\".format(file))\n",
    "    model_path = os.path.join(model_dir, file)\n",
    "    labels = ['Background', 'Bulkhead Or Sea Wall', 'Rip Rap', 'Groin', 'Breakwater']\n",
    "    options = {'agg_to_water': True, 'batch': 32, \n",
    "              'input_channels': 4, 'output_channels': 5, 'hidden_channels': 16,\n",
    "              'model_path': model_path, 'predict_masks': False, 'gen_masks_path':gen_masks_path, 'labels': labels}\n",
    "    try:\n",
    "        main(options)\n",
    "    except:\n",
    "        labels = ['Bulkhead Or Sea Wall', 'Rip Rap', 'Groin', 'Breakwater']\n",
    "        options = {'agg_to_water': True, 'batch': 32, \n",
    "              'input_channels': 4, 'output_channels': 5, 'hidden_channels': 16,\n",
    "              'model_path': model_path, 'predict_masks': False, 'gen_masks_path':gen_masks_path, 'labels': labels}\n",
    "        main(options)\n"
   ]
  },
  {
   "cell_type": "code",
   "execution_count": 41,
   "id": "869a410e",
   "metadata": {},
   "outputs": [
    {
     "name": "stdout",
     "output_type": "stream",
     "text": [
      "Using model 4class_unet_resnet50_0.0001_ce_imagenet-epoch=25-val_loss=0.58.ckpt\n"
     ]
    },
    {
     "name": "stderr",
     "output_type": "stream",
     "text": [
      "Load train set to memory: 100%|██████████| 2583/2583 [00:13<00:00, 193.74it/s]\n",
      "testing: 100%|██████████| 76/76 [01:29<00:00,  1.18s/it]\n",
      "/opt/conda/envs/rapids/lib/python3.7/site-packages/sklearn/metrics/_classification.py:1221: UndefinedMetricWarning: Recall is ill-defined and being set to 0.0 in labels with no true samples. Use `zero_division` parameter to control this behavior.\n",
      "  _warn_prf(average, modifier, msg_start, len(result))\n"
     ]
    },
    {
     "name": "stdout",
     "output_type": "stream",
     "text": [
      "Evaluation: {'macroPrec': 0.727291756319779, 'microPrec': 0.9343540093963577, 'weightPrec': 0.9345816345077772, 'macroRec': 0.7437132059857492, 'microRec': 0.9343540093963577, 'weightRec': 0.9343540093963577, 'macroF1': 0.735223929011848, 'microF1': 0.9343540093963577, 'weightF1': 0.9343213514577238, 'subsetAcc': 0.9343540093963577, 'IoU': 0.6813384474903345}\n",
      "[[0.0, 0.0, 0.0, 0.0, 0.0, 0.0, 0.0], [8.0, 1868172.0, 96858.0, 171.0, 2315.0, 1967524.0, 0.95], [0.0, 129634.0, 1724134.0, 10757.0, 16481.0, 1881006.0, 0.92], [2.0, 525.0, 5189.0, 64445.0, 2142.0, 72303.0, 0.89], [4.0, 3200.0, 5333.0, 1175.0, 240220.0, 249932.0, 0.96], [14.0, 2001531.0, 1831514.0, 76548.0, 261158.0, 'mPA:', 0.74], [0.0, 0.89, 0.87, 0.76, 0.89, 'mIoU:', 0.68], [0.0, 0.93, 0.94, 0.84, 0.92, 'OA:', 0.93], [0.0, 0.94, 0.93, 0.87, 0.94, 'F1-macro:', 0.74]]\n",
      "Confusion Matrix:  \n",
      "                     Background Bulkhead Or Sea Wall    Rip Rap    Groin Breakwater        Sum Recall\n",
      "Background                  0.0                  0.0        0.0      0.0        0.0        0.0    0.0\n",
      "Bulkhead Or Sea Wall        8.0            1868172.0    96858.0    171.0     2315.0  1967524.0   0.95\n",
      "Rip Rap                     0.0             129634.0  1724134.0  10757.0    16481.0  1881006.0   0.92\n",
      "Groin                       2.0                525.0     5189.0  64445.0     2142.0    72303.0   0.89\n",
      "Breakwater                  4.0               3200.0     5333.0   1175.0   240220.0   249932.0   0.96\n",
      "Sum                        14.0            2001531.0  1831514.0  76548.0   261158.0       mPA:   0.74\n",
      "IoU                         0.0                 0.89       0.87     0.76       0.89      mIoU:   0.68\n",
      "Precision                   0.0                 0.93       0.94     0.84       0.92        OA:   0.93\n",
      "F1-score                    0.0                 0.94       0.93     0.87       0.94  F1-macro:   0.74\n",
      "Using model 4class_unet_resnet50_0.001_ce_imagenet-epoch=59-val_loss=0.53.ckpt\n"
     ]
    },
    {
     "name": "stderr",
     "output_type": "stream",
     "text": [
      "Load train set to memory: 100%|██████████| 2583/2583 [00:13<00:00, 194.61it/s]\n",
      "testing: 100%|██████████| 76/76 [01:23<00:00,  1.10s/it]\n"
     ]
    },
    {
     "name": "stdout",
     "output_type": "stream",
     "text": [
      "Evaluation: {'macroPrec': 0.8526565169307672, 'microPrec': 0.8649178268255344, 'weightPrec': 0.8646426977766362, 'macroRec': 0.8197300610270029, 'microRec': 0.8649178268255344, 'weightRec': 0.8649178268255344, 'macroF1': 0.8337894278893294, 'microF1': 0.8649178268255344, 'weightF1': 0.864499842120296, 'subsetAcc': 0.8649178268255344, 'IoU': 0.7220002343461123}\n",
      "[[1740825.0, 222976.0, 720.0, 3003.0, 1967524.0, 0.88], [267888.0, 1591935.0, 5989.0, 15194.0, 1881006.0, 0.85], [1258.0, 14724.0, 45687.0, 10634.0, 72303.0, 0.63], [5912.0, 9920.0, 5178.0, 228922.0, 249932.0, 0.92], [2015883.0, 1839555.0, 57574.0, 257753.0, 'mPA:', 0.82], [0.78, 0.75, 0.54, 0.82, 'mIoU:', 0.72], [0.86, 0.87, 0.79, 0.89, 'OA:', 0.86], [0.87, 0.86, 0.7, 0.9, 'F1-macro:', 0.83]]\n"
     ]
    },
    {
     "name": "stderr",
     "output_type": "stream",
     "text": [
      "Load train set to memory: 100%|██████████| 2583/2583 [00:13<00:00, 194.71it/s]\n",
      "testing: 100%|██████████| 76/76 [01:50<00:00,  1.46s/it]\n"
     ]
    },
    {
     "name": "stdout",
     "output_type": "stream",
     "text": [
      "Evaluation: {'macroPrec': 0.8526565169307672, 'microPrec': 0.8649178268255344, 'weightPrec': 0.8646426977766362, 'macroRec': 0.8197300610270029, 'microRec': 0.8649178268255344, 'weightRec': 0.8649178268255344, 'macroF1': 0.8337894278893294, 'microF1': 0.8649178268255344, 'weightF1': 0.864499842120296, 'subsetAcc': 0.8649178268255344, 'IoU': 0.7220002343461123}\n",
      "[[1740825.0, 222976.0, 720.0, 3003.0, 1967524.0, 0.88], [267888.0, 1591935.0, 5989.0, 15194.0, 1881006.0, 0.85], [1258.0, 14724.0, 45687.0, 10634.0, 72303.0, 0.63], [5912.0, 9920.0, 5178.0, 228922.0, 249932.0, 0.92], [2015883.0, 1839555.0, 57574.0, 257753.0, 'mPA:', 0.82], [0.78, 0.75, 0.54, 0.82, 'mIoU:', 0.72], [0.86, 0.87, 0.79, 0.89, 'OA:', 0.86], [0.87, 0.86, 0.7, 0.9, 'F1-macro:', 0.83]]\n",
      "Confusion Matrix:  \n",
      "                     Bulkhead Or Sea Wall    Rip Rap    Groin Breakwater        Sum Recall\n",
      "Bulkhead Or Sea Wall            1740825.0   222976.0    720.0     3003.0  1967524.0   0.88\n",
      "Rip Rap                          267888.0  1591935.0   5989.0    15194.0  1881006.0   0.85\n",
      "Groin                              1258.0    14724.0  45687.0    10634.0    72303.0   0.63\n",
      "Breakwater                         5912.0     9920.0   5178.0   228922.0   249932.0   0.92\n",
      "Sum                             2015883.0  1839555.0  57574.0   257753.0       mPA:   0.82\n",
      "IoU                                  0.78       0.75     0.54       0.82      mIoU:   0.72\n",
      "Precision                            0.86       0.87     0.79       0.89        OA:   0.86\n",
      "F1-score                             0.87       0.86      0.7        0.9  F1-macro:   0.83\n",
      "Using model 4class_unet_resnet18_0.0001_ce_imagenet-epoch=16-val_loss=0.64.ckpt\n"
     ]
    },
    {
     "name": "stderr",
     "output_type": "stream",
     "text": [
      "Load train set to memory: 100%|██████████| 2583/2583 [00:14<00:00, 174.29it/s]\n",
      "testing: 100%|██████████| 76/76 [00:51<00:00,  1.48it/s]\n"
     ]
    },
    {
     "name": "stdout",
     "output_type": "stream",
     "text": [
      "Evaluation: {'macroPrec': 0.8747297811671114, 'microPrec': 0.8869943523550236, 'weightPrec': 0.886805951424216, 'macroRec': 0.8444088541424313, 'microRec': 0.8869943523550236, 'weightRec': 0.8869943523550236, 'macroF1': 0.8573957258676076, 'microF1': 0.8869943523550236, 'weightF1': 0.8867171015927682, 'subsetAcc': 0.8869943523550236, 'IoU': 0.7552186423320321}\n",
      "[[1772850.0, 189049.0, 724.0, 4901.0, 1967524.0, 0.9], [209742.0, 1647371.0, 7226.0, 16667.0, 1881006.0, 0.88], [373.0, 14170.0, 49197.0, 8563.0, 72303.0, 0.68], [4047.0, 14381.0, 1477.0, 230027.0, 249932.0, 0.92], [1987012.0, 1864971.0, 58624.0, 260158.0, 'mPA:', 0.84], [0.81, 0.78, 0.6, 0.82, 'mIoU:', 0.76], [0.89, 0.88, 0.84, 0.88, 'OA:', 0.89], [0.9, 0.88, 0.75, 0.9, 'F1-macro:', 0.86]]\n"
     ]
    },
    {
     "name": "stderr",
     "output_type": "stream",
     "text": [
      "Load train set to memory: 100%|██████████| 2583/2583 [00:14<00:00, 177.04it/s]\n",
      "testing: 100%|██████████| 76/76 [01:03<00:00,  1.21it/s]\n"
     ]
    },
    {
     "name": "stdout",
     "output_type": "stream",
     "text": [
      "Evaluation: {'macroPrec': 0.8747297811671114, 'microPrec': 0.8869943523550236, 'weightPrec': 0.886805951424216, 'macroRec': 0.8444088541424313, 'microRec': 0.8869943523550236, 'weightRec': 0.8869943523550236, 'macroF1': 0.8573957258676076, 'microF1': 0.8869943523550236, 'weightF1': 0.8867171015927682, 'subsetAcc': 0.8869943523550236, 'IoU': 0.7552186423320321}\n",
      "[[1772850.0, 189049.0, 724.0, 4901.0, 1967524.0, 0.9], [209742.0, 1647371.0, 7226.0, 16667.0, 1881006.0, 0.88], [373.0, 14170.0, 49197.0, 8563.0, 72303.0, 0.68], [4047.0, 14381.0, 1477.0, 230027.0, 249932.0, 0.92], [1987012.0, 1864971.0, 58624.0, 260158.0, 'mPA:', 0.84], [0.81, 0.78, 0.6, 0.82, 'mIoU:', 0.76], [0.89, 0.88, 0.84, 0.88, 'OA:', 0.89], [0.9, 0.88, 0.75, 0.9, 'F1-macro:', 0.86]]\n",
      "Confusion Matrix:  \n",
      "                     Bulkhead Or Sea Wall    Rip Rap    Groin Breakwater        Sum Recall\n",
      "Bulkhead Or Sea Wall            1772850.0   189049.0    724.0     4901.0  1967524.0    0.9\n",
      "Rip Rap                          209742.0  1647371.0   7226.0    16667.0  1881006.0   0.88\n",
      "Groin                               373.0    14170.0  49197.0     8563.0    72303.0   0.68\n",
      "Breakwater                         4047.0    14381.0   1477.0   230027.0   249932.0   0.92\n",
      "Sum                             1987012.0  1864971.0  58624.0   260158.0       mPA:   0.84\n",
      "IoU                                  0.81       0.78      0.6       0.82      mIoU:   0.76\n",
      "Precision                            0.89       0.88     0.84       0.88        OA:   0.89\n",
      "F1-score                              0.9       0.88     0.75        0.9  F1-macro:   0.86\n",
      "Using model 4class_unet_resnet18_0.001_ce_imagenet-epoch=51-val_loss=0.55.ckpt\n"
     ]
    },
    {
     "name": "stderr",
     "output_type": "stream",
     "text": [
      "Load train set to memory: 100%|██████████| 2583/2583 [00:13<00:00, 191.87it/s]\n",
      "testing: 100%|██████████| 76/76 [00:51<00:00,  1.48it/s]\n"
     ]
    },
    {
     "name": "stdout",
     "output_type": "stream",
     "text": [
      "Evaluation: {'macroPrec': 0.8371499702705526, 'microPrec': 0.8500958457261437, 'weightPrec': 0.8499617647951933, 'macroRec': 0.8059232378077089, 'microRec': 0.8500958457261437, 'weightRec': 0.8500958457261437, 'macroF1': 0.8196437993560423, 'microF1': 0.8500958457261437, 'weightF1': 0.8498725057384869, 'subsetAcc': 0.8500958457261437, 'IoU': 0.7001671424142029}\n",
      "[[1681954.0, 279630.0, 1372.0, 4568.0, 1967524.0, 0.85], [261930.0, 1596223.0, 5402.0, 17451.0, 1881006.0, 0.85], [847.0, 14641.0, 45826.0, 10989.0, 72303.0, 0.63], [6953.0, 15195.0, 6237.0, 221547.0, 249932.0, 0.89], [1951684.0, 1905689.0, 58837.0, 254555.0, 'mPA:', 0.81], [0.75, 0.73, 0.54, 0.78, 'mIoU:', 0.7], [0.86, 0.84, 0.78, 0.87, 'OA:', 0.85], [0.86, 0.84, 0.7, 0.88, 'F1-macro:', 0.82]]\n"
     ]
    },
    {
     "name": "stderr",
     "output_type": "stream",
     "text": [
      "Load train set to memory: 100%|██████████| 2583/2583 [00:13<00:00, 196.45it/s]\n",
      "testing: 100%|██████████| 76/76 [01:02<00:00,  1.22it/s]\n"
     ]
    },
    {
     "name": "stdout",
     "output_type": "stream",
     "text": [
      "Evaluation: {'macroPrec': 0.8371499702705526, 'microPrec': 0.8500958457261437, 'weightPrec': 0.8499617647951933, 'macroRec': 0.8059232378077089, 'microRec': 0.8500958457261437, 'weightRec': 0.8500958457261437, 'macroF1': 0.8196437993560423, 'microF1': 0.8500958457261437, 'weightF1': 0.8498725057384869, 'subsetAcc': 0.8500958457261437, 'IoU': 0.7001671424142029}\n",
      "[[1681954.0, 279630.0, 1372.0, 4568.0, 1967524.0, 0.85], [261930.0, 1596223.0, 5402.0, 17451.0, 1881006.0, 0.85], [847.0, 14641.0, 45826.0, 10989.0, 72303.0, 0.63], [6953.0, 15195.0, 6237.0, 221547.0, 249932.0, 0.89], [1951684.0, 1905689.0, 58837.0, 254555.0, 'mPA:', 0.81], [0.75, 0.73, 0.54, 0.78, 'mIoU:', 0.7], [0.86, 0.84, 0.78, 0.87, 'OA:', 0.85], [0.86, 0.84, 0.7, 0.88, 'F1-macro:', 0.82]]\n",
      "Confusion Matrix:  \n",
      "                     Bulkhead Or Sea Wall    Rip Rap    Groin Breakwater        Sum Recall\n",
      "Bulkhead Or Sea Wall            1681954.0   279630.0   1372.0     4568.0  1967524.0   0.85\n",
      "Rip Rap                          261930.0  1596223.0   5402.0    17451.0  1881006.0   0.85\n",
      "Groin                               847.0    14641.0  45826.0    10989.0    72303.0   0.63\n",
      "Breakwater                         6953.0    15195.0   6237.0   221547.0   249932.0   0.89\n",
      "Sum                             1951684.0  1905689.0  58837.0   254555.0       mPA:   0.81\n",
      "IoU                                  0.75       0.73     0.54       0.78      mIoU:    0.7\n",
      "Precision                            0.86       0.84     0.78       0.87        OA:   0.85\n",
      "F1-score                             0.86       0.84      0.7       0.88  F1-macro:   0.82\n",
      "Using model 4class_unet_resnet50_0.001_ce_imagenet_CWTrue_(0.9, 0.9)-epoch=43-val_loss=0.60.ckpt\n"
     ]
    },
    {
     "name": "stderr",
     "output_type": "stream",
     "text": [
      "Load train set to memory: 100%|██████████| 2583/2583 [00:13<00:00, 193.31it/s]\n",
      "testing: 100%|██████████| 76/76 [01:30<00:00,  1.19s/it]\n"
     ]
    },
    {
     "name": "stdout",
     "output_type": "stream",
     "text": [
      "Evaluation: {'macroPrec': 0.8364838420582882, 'microPrec': 0.8252488452358261, 'weightPrec': 0.8353645923217706, 'macroRec': 0.8165858496508137, 'microRec': 0.8252488452358261, 'weightRec': 0.8252488452358261, 'macroF1': 0.8227092164641567, 'microF1': 0.8252488452358261, 'weightF1': 0.8245862001451906, 'subsetAcc': 0.8252488452358261, 'IoU': 0.7024144199429183}\n",
      "[[1469067.0, 491020.0, 1134.0, 6303.0, 1967524.0, 0.75], [166332.0, 1693275.0, 6461.0, 14938.0, 1881006.0, 0.9], [665.0, 12535.0, 50956.0, 8147.0, 72303.0, 0.7], [2544.0, 13399.0, 5368.0, 228621.0, 249932.0, 0.91], [1638608.0, 2210229.0, 63919.0, 258009.0, 'mPA:', 0.82], [0.69, 0.71, 0.6, 0.82, 'mIoU:', 0.7], [0.9, 0.77, 0.8, 0.89, 'OA:', 0.83], [0.81, 0.83, 0.75, 0.9, 'F1-macro:', 0.82]]\n"
     ]
    },
    {
     "name": "stderr",
     "output_type": "stream",
     "text": [
      "Load train set to memory: 100%|██████████| 2583/2583 [00:13<00:00, 193.95it/s]\n",
      "testing: 100%|██████████| 76/76 [01:49<00:00,  1.44s/it]\n"
     ]
    },
    {
     "name": "stdout",
     "output_type": "stream",
     "text": [
      "Evaluation: {'macroPrec': 0.8364838420582882, 'microPrec': 0.8252488452358261, 'weightPrec': 0.8353645923217706, 'macroRec': 0.8165858496508137, 'microRec': 0.8252488452358261, 'weightRec': 0.8252488452358261, 'macroF1': 0.8227092164641567, 'microF1': 0.8252488452358261, 'weightF1': 0.8245862001451906, 'subsetAcc': 0.8252488452358261, 'IoU': 0.7024144199429183}\n",
      "[[1469067.0, 491020.0, 1134.0, 6303.0, 1967524.0, 0.75], [166332.0, 1693275.0, 6461.0, 14938.0, 1881006.0, 0.9], [665.0, 12535.0, 50956.0, 8147.0, 72303.0, 0.7], [2544.0, 13399.0, 5368.0, 228621.0, 249932.0, 0.91], [1638608.0, 2210229.0, 63919.0, 258009.0, 'mPA:', 0.82], [0.69, 0.71, 0.6, 0.82, 'mIoU:', 0.7], [0.9, 0.77, 0.8, 0.89, 'OA:', 0.83], [0.81, 0.83, 0.75, 0.9, 'F1-macro:', 0.82]]\n",
      "Confusion Matrix:  \n",
      "                     Bulkhead Or Sea Wall    Rip Rap    Groin Breakwater        Sum Recall\n",
      "Bulkhead Or Sea Wall            1469067.0   491020.0   1134.0     6303.0  1967524.0   0.75\n",
      "Rip Rap                          166332.0  1693275.0   6461.0    14938.0  1881006.0    0.9\n",
      "Groin                               665.0    12535.0  50956.0     8147.0    72303.0    0.7\n",
      "Breakwater                         2544.0    13399.0   5368.0   228621.0   249932.0   0.91\n",
      "Sum                             1638608.0  2210229.0  63919.0   258009.0       mPA:   0.82\n",
      "IoU                                  0.69       0.71      0.6       0.82      mIoU:    0.7\n",
      "Precision                             0.9       0.77      0.8       0.89        OA:   0.83\n",
      "F1-score                             0.81       0.83     0.75        0.9  F1-macro:   0.82\n",
      "Using model 4class_unet_resnet50_0.001_ce_imagenet_CWFalse_(0.85, 0.85)-epoch=45-val_loss=0.56.ckpt\n"
     ]
    },
    {
     "name": "stderr",
     "output_type": "stream",
     "text": [
      "Load train set to memory: 100%|██████████| 2583/2583 [00:13<00:00, 190.67it/s]\n",
      "testing: 100%|██████████| 76/76 [01:22<00:00,  1.09s/it]\n"
     ]
    },
    {
     "name": "stdout",
     "output_type": "stream",
     "text": [
      "Evaluation: {'macroPrec': 0.8502777965204364, 'microPrec': 0.8501694533257088, 'weightPrec': 0.8532267948505785, 'macroRec': 0.7980203725543278, 'microRec': 0.8501694533257088, 'weightRec': 0.8501694533257088, 'macroF1': 0.8179662677870875, 'microF1': 0.8501694533257088, 'weightF1': 0.8497674605517027, 'subsetAcc': 0.8501694533257088, 'IoU': 0.699834721312553}\n",
      "[[1606466.0, 358086.0, 959.0, 2013.0, 1967524.0, 0.82], [191114.0, 1670137.0, 4532.0, 15223.0, 1881006.0, 0.89], [953.0, 15295.0, 41750.0, 14305.0, 72303.0, 0.58], [3979.0, 14789.0, 3660.0, 227504.0, 249932.0, 0.91], [1802512.0, 2058307.0, 50901.0, 259045.0, 'mPA:', 0.8], [0.74, 0.74, 0.51, 0.81, 'mIoU:', 0.7], [0.89, 0.81, 0.82, 0.88, 'OA:', 0.85], [0.85, 0.85, 0.68, 0.89, 'F1-macro:', 0.82]]\n"
     ]
    },
    {
     "name": "stderr",
     "output_type": "stream",
     "text": [
      "Load train set to memory: 100%|██████████| 2583/2583 [00:13<00:00, 193.26it/s]\n",
      "testing: 100%|██████████| 76/76 [01:49<00:00,  1.45s/it]\n"
     ]
    },
    {
     "name": "stdout",
     "output_type": "stream",
     "text": [
      "Evaluation: {'macroPrec': 0.8502777965204364, 'microPrec': 0.8501694533257088, 'weightPrec': 0.8532267948505785, 'macroRec': 0.7980203725543278, 'microRec': 0.8501694533257088, 'weightRec': 0.8501694533257088, 'macroF1': 0.8179662677870875, 'microF1': 0.8501694533257088, 'weightF1': 0.8497674605517027, 'subsetAcc': 0.8501694533257088, 'IoU': 0.699834721312553}\n",
      "[[1606466.0, 358086.0, 959.0, 2013.0, 1967524.0, 0.82], [191114.0, 1670137.0, 4532.0, 15223.0, 1881006.0, 0.89], [953.0, 15295.0, 41750.0, 14305.0, 72303.0, 0.58], [3979.0, 14789.0, 3660.0, 227504.0, 249932.0, 0.91], [1802512.0, 2058307.0, 50901.0, 259045.0, 'mPA:', 0.8], [0.74, 0.74, 0.51, 0.81, 'mIoU:', 0.7], [0.89, 0.81, 0.82, 0.88, 'OA:', 0.85], [0.85, 0.85, 0.68, 0.89, 'F1-macro:', 0.82]]\n",
      "Confusion Matrix:  \n",
      "                     Bulkhead Or Sea Wall    Rip Rap    Groin Breakwater        Sum Recall\n",
      "Bulkhead Or Sea Wall            1606466.0   358086.0    959.0     2013.0  1967524.0   0.82\n",
      "Rip Rap                          191114.0  1670137.0   4532.0    15223.0  1881006.0   0.89\n",
      "Groin                               953.0    15295.0  41750.0    14305.0    72303.0   0.58\n",
      "Breakwater                         3979.0    14789.0   3660.0   227504.0   249932.0   0.91\n",
      "Sum                             1802512.0  2058307.0  50901.0   259045.0       mPA:    0.8\n",
      "IoU                                  0.74       0.74     0.51       0.81      mIoU:    0.7\n",
      "Precision                            0.89       0.81     0.82       0.88        OA:   0.85\n",
      "F1-score                             0.85       0.85     0.68       0.89  F1-macro:   0.82\n",
      "Using model 4class_unet_resnet50_0.001_ce_imagenet_CWTrue_(0.9, 0.85)-epoch=38-val_loss=0.59.ckpt\n"
     ]
    },
    {
     "name": "stderr",
     "output_type": "stream",
     "text": [
      "Load train set to memory: 100%|██████████| 2583/2583 [00:13<00:00, 187.22it/s]\n",
      "testing: 100%|██████████| 76/76 [01:22<00:00,  1.09s/it]\n"
     ]
    },
    {
     "name": "stdout",
     "output_type": "stream",
     "text": [
      "Evaluation: {'macroPrec': 0.8180615419406931, 'microPrec': 0.7957489813019913, 'weightPrec': 0.8007892365233613, 'macroRec': 0.7588686879640733, 'microRec': 0.7957489813019913, 'weightRec': 0.7957489813019913, 'macroF1': 0.7770179336339944, 'microF1': 0.7957489813019915, 'weightF1': 0.7950228728449272, 'subsetAcc': 0.7957489813019913, 'IoU': 0.6405591809711537}\n",
      "[[1470503.0, 478857.0, 1050.0, 17114.0, 1967524.0, 0.75], [272824.0, 1582521.0, 1881.0, 23780.0, 1881006.0, 0.84], [362.0, 21181.0, 38969.0, 11791.0, 72303.0, 0.54], [2086.0, 17802.0, 3155.0, 226889.0, 249932.0, 0.91], [1745775.0, 2100361.0, 45055.0, 279574.0, 'mPA:', 0.76], [0.66, 0.66, 0.5, 0.75, 'mIoU:', 0.64], [0.84, 0.75, 0.86, 0.81, 'OA:', 0.8], [0.79, 0.79, 0.66, 0.86, 'F1-macro:', 0.78]]\n"
     ]
    },
    {
     "ename": "FileNotFoundError",
     "evalue": "[Errno 2] No such file or directory: '/rapids/notebooks/sciclone/geograd/Miranda/VIMS/NAIP/VA_NAIP_2018_8977/train'",
     "output_type": "error",
     "traceback": [
      "\u001b[0;31m---------------------------------------------------------------------------\u001b[0m",
      "\u001b[0;31mValueError\u001b[0m                                Traceback (most recent call last)",
      "\u001b[0;32m<ipython-input-41-9905b2a7fbe2>\u001b[0m in \u001b[0;36m<module>\u001b[0;34m\u001b[0m\n\u001b[1;32m     16\u001b[0m     \u001b[0;32mtry\u001b[0m\u001b[0;34m:\u001b[0m\u001b[0;34m\u001b[0m\u001b[0;34m\u001b[0m\u001b[0m\n\u001b[0;32m---> 17\u001b[0;31m         \u001b[0mmain\u001b[0m\u001b[0;34m(\u001b[0m\u001b[0moptions\u001b[0m\u001b[0;34m)\u001b[0m\u001b[0;34m\u001b[0m\u001b[0;34m\u001b[0m\u001b[0m\n\u001b[0m\u001b[1;32m     18\u001b[0m     \u001b[0;32mexcept\u001b[0m\u001b[0;34m:\u001b[0m\u001b[0;34m\u001b[0m\u001b[0;34m\u001b[0m\u001b[0m\n",
      "\u001b[0;32m<ipython-input-39-1d03be380586>\u001b[0m in \u001b[0;36mmain\u001b[0;34m(options)\u001b[0m\n\u001b[1;32m     63\u001b[0m         \"\"\"\n\u001b[0;32m---> 64\u001b[0;31m         \u001b[0mconf_mat\u001b[0m \u001b[0;34m=\u001b[0m \u001b[0mconfusion_matrix\u001b[0m\u001b[0;34m(\u001b[0m\u001b[0my_true\u001b[0m\u001b[0;34m,\u001b[0m \u001b[0my_predicted\u001b[0m\u001b[0;34m,\u001b[0m \u001b[0moptions\u001b[0m\u001b[0;34m[\u001b[0m\u001b[0;34m'labels'\u001b[0m\u001b[0;34m]\u001b[0m\u001b[0;34m)\u001b[0m\u001b[0;34m\u001b[0m\u001b[0;34m\u001b[0m\u001b[0m\n\u001b[0m\u001b[1;32m     65\u001b[0m \u001b[0;34m\u001b[0m\u001b[0m\n",
      "\u001b[0;32m/rapids/notebooks/sciclone/geograd/Miranda/github/marine-debris.github.io/utils/vims_metrics.py\u001b[0m in \u001b[0;36mconfusion_matrix\u001b[0;34m(y_gt, y_pred, labels)\u001b[0m\n\u001b[1;32m    159\u001b[0m     \u001b[0mdf\u001b[0m \u001b[0;34m=\u001b[0m \u001b[0mpd\u001b[0m\u001b[0;34m.\u001b[0m\u001b[0mDataFrame\u001b[0m\u001b[0;34m(\u001b[0m\u001b[0mnp\u001b[0m\u001b[0;34m.\u001b[0m\u001b[0marray\u001b[0m\u001b[0;34m(\u001b[0m\u001b[0mcm_list\u001b[0m\u001b[0;34m)\u001b[0m\u001b[0;34m)\u001b[0m\u001b[0;34m\u001b[0m\u001b[0;34m\u001b[0m\u001b[0m\n\u001b[0;32m--> 160\u001b[0;31m     \u001b[0mdf\u001b[0m\u001b[0;34m.\u001b[0m\u001b[0mcolumns\u001b[0m \u001b[0;34m=\u001b[0m \u001b[0mfirst_row\u001b[0m\u001b[0;34m\u001b[0m\u001b[0;34m\u001b[0m\u001b[0m\n\u001b[0m\u001b[1;32m    161\u001b[0m     \u001b[0mdf\u001b[0m\u001b[0;34m.\u001b[0m\u001b[0mindex\u001b[0m \u001b[0;34m=\u001b[0m \u001b[0mfirst_col\u001b[0m\u001b[0;34m\u001b[0m\u001b[0;34m\u001b[0m\u001b[0m\n",
      "\u001b[0;32m/opt/conda/envs/rapids/lib/python3.7/site-packages/pandas/core/generic.py\u001b[0m in \u001b[0;36m__setattr__\u001b[0;34m(self, name, value)\u001b[0m\n\u001b[1;32m   5477\u001b[0m             \u001b[0mobject\u001b[0m\u001b[0;34m.\u001b[0m\u001b[0m__getattribute__\u001b[0m\u001b[0;34m(\u001b[0m\u001b[0mself\u001b[0m\u001b[0;34m,\u001b[0m \u001b[0mname\u001b[0m\u001b[0;34m)\u001b[0m\u001b[0;34m\u001b[0m\u001b[0;34m\u001b[0m\u001b[0m\n\u001b[0;32m-> 5478\u001b[0;31m             \u001b[0;32mreturn\u001b[0m \u001b[0mobject\u001b[0m\u001b[0;34m.\u001b[0m\u001b[0m__setattr__\u001b[0m\u001b[0;34m(\u001b[0m\u001b[0mself\u001b[0m\u001b[0;34m,\u001b[0m \u001b[0mname\u001b[0m\u001b[0;34m,\u001b[0m \u001b[0mvalue\u001b[0m\u001b[0;34m)\u001b[0m\u001b[0;34m\u001b[0m\u001b[0;34m\u001b[0m\u001b[0m\n\u001b[0m\u001b[1;32m   5479\u001b[0m         \u001b[0;32mexcept\u001b[0m \u001b[0mAttributeError\u001b[0m\u001b[0;34m:\u001b[0m\u001b[0;34m\u001b[0m\u001b[0;34m\u001b[0m\u001b[0m\n",
      "\u001b[0;32mpandas/_libs/properties.pyx\u001b[0m in \u001b[0;36mpandas._libs.properties.AxisProperty.__set__\u001b[0;34m()\u001b[0m\n",
      "\u001b[0;32m/opt/conda/envs/rapids/lib/python3.7/site-packages/pandas/core/generic.py\u001b[0m in \u001b[0;36m_set_axis\u001b[0;34m(self, axis, labels)\u001b[0m\n\u001b[1;32m    669\u001b[0m         \u001b[0mlabels\u001b[0m \u001b[0;34m=\u001b[0m \u001b[0mensure_index\u001b[0m\u001b[0;34m(\u001b[0m\u001b[0mlabels\u001b[0m\u001b[0;34m)\u001b[0m\u001b[0;34m\u001b[0m\u001b[0;34m\u001b[0m\u001b[0m\n\u001b[0;32m--> 670\u001b[0;31m         \u001b[0mself\u001b[0m\u001b[0;34m.\u001b[0m\u001b[0m_mgr\u001b[0m\u001b[0;34m.\u001b[0m\u001b[0mset_axis\u001b[0m\u001b[0;34m(\u001b[0m\u001b[0maxis\u001b[0m\u001b[0;34m,\u001b[0m \u001b[0mlabels\u001b[0m\u001b[0;34m)\u001b[0m\u001b[0;34m\u001b[0m\u001b[0;34m\u001b[0m\u001b[0m\n\u001b[0m\u001b[1;32m    671\u001b[0m         \u001b[0mself\u001b[0m\u001b[0;34m.\u001b[0m\u001b[0m_clear_item_cache\u001b[0m\u001b[0;34m(\u001b[0m\u001b[0;34m)\u001b[0m\u001b[0;34m\u001b[0m\u001b[0;34m\u001b[0m\u001b[0m\n",
      "\u001b[0;32m/opt/conda/envs/rapids/lib/python3.7/site-packages/pandas/core/internals/managers.py\u001b[0m in \u001b[0;36mset_axis\u001b[0;34m(self, axis, new_labels)\u001b[0m\n\u001b[1;32m    220\u001b[0m             raise ValueError(\n\u001b[0;32m--> 221\u001b[0;31m                 \u001b[0;34mf\"Length mismatch: Expected axis has {old_len} elements, new \"\u001b[0m\u001b[0;34m\u001b[0m\u001b[0;34m\u001b[0m\u001b[0m\n\u001b[0m\u001b[1;32m    222\u001b[0m                 \u001b[0;34mf\"values have {new_len} elements\"\u001b[0m\u001b[0;34m\u001b[0m\u001b[0;34m\u001b[0m\u001b[0m\n",
      "\u001b[0;31mValueError\u001b[0m: Length mismatch: Expected axis has 6 elements, new values have 7 elements",
      "\nDuring handling of the above exception, another exception occurred:\n",
      "\u001b[0;31mFileNotFoundError\u001b[0m                         Traceback (most recent call last)",
      "\u001b[0;32m<ipython-input-41-9905b2a7fbe2>\u001b[0m in \u001b[0;36m<module>\u001b[0;34m\u001b[0m\n\u001b[1;32m     21\u001b[0m               \u001b[0;34m'input_channels'\u001b[0m\u001b[0;34m:\u001b[0m \u001b[0;36m4\u001b[0m\u001b[0;34m,\u001b[0m \u001b[0;34m'output_channels'\u001b[0m\u001b[0;34m:\u001b[0m \u001b[0;36m5\u001b[0m\u001b[0;34m,\u001b[0m \u001b[0;34m'hidden_channels'\u001b[0m\u001b[0;34m:\u001b[0m \u001b[0;36m16\u001b[0m\u001b[0;34m,\u001b[0m\u001b[0;34m\u001b[0m\u001b[0;34m\u001b[0m\u001b[0m\n\u001b[1;32m     22\u001b[0m               'model_path': model_path, 'predict_masks': False, 'gen_masks_path':gen_masks_path, 'labels': labels}\n\u001b[0;32m---> 23\u001b[0;31m         \u001b[0mmain\u001b[0m\u001b[0;34m(\u001b[0m\u001b[0moptions\u001b[0m\u001b[0;34m)\u001b[0m\u001b[0;34m\u001b[0m\u001b[0;34m\u001b[0m\u001b[0m\n\u001b[0m",
      "\u001b[0;32m<ipython-input-39-1d03be380586>\u001b[0m in \u001b[0;36mmain\u001b[0;34m(options)\u001b[0m\n\u001b[1;32m      6\u001b[0m \u001b[0;34m\u001b[0m\u001b[0m\n\u001b[1;32m      7\u001b[0m     \u001b[0;31m# Construct Test data loader\u001b[0m\u001b[0;34m\u001b[0m\u001b[0;34m\u001b[0m\u001b[0;34m\u001b[0m\u001b[0m\n\u001b[0;32m----> 8\u001b[0;31m     \u001b[0mdataset_test\u001b[0m \u001b[0;34m=\u001b[0m \u001b[0mGenDEBRIS\u001b[0m\u001b[0;34m(\u001b[0m\u001b[0;34m'train'\u001b[0m\u001b[0;34m,\u001b[0m \u001b[0mtransform\u001b[0m\u001b[0;34m=\u001b[0m\u001b[0mtransform_test\u001b[0m\u001b[0;34m,\u001b[0m \u001b[0mstandardization\u001b[0m \u001b[0;34m=\u001b[0m \u001b[0mstandardization\u001b[0m\u001b[0;34m,\u001b[0m \u001b[0magg_to_water\u001b[0m \u001b[0;34m=\u001b[0m \u001b[0moptions\u001b[0m\u001b[0;34m[\u001b[0m\u001b[0;34m'agg_to_water'\u001b[0m\u001b[0;34m]\u001b[0m\u001b[0;34m)\u001b[0m\u001b[0;34m\u001b[0m\u001b[0;34m\u001b[0m\u001b[0m\n\u001b[0m\u001b[1;32m      9\u001b[0m     test_loader = DataLoader(   dataset_test, \n\u001b[1;32m     10\u001b[0m                                 \u001b[0mbatch_size\u001b[0m \u001b[0;34m=\u001b[0m \u001b[0moptions\u001b[0m\u001b[0;34m[\u001b[0m\u001b[0;34m'batch'\u001b[0m\u001b[0;34m]\u001b[0m\u001b[0;34m,\u001b[0m\u001b[0;34m\u001b[0m\u001b[0;34m\u001b[0m\u001b[0m\n",
      "\u001b[0;32m/rapids/notebooks/sciclone/geograd/Miranda/github/marine-debris.github.io/semantic_segmentation/unet/vims_dataloader.py\u001b[0m in \u001b[0;36m__init__\u001b[0;34m(self, mode, transform, standardization, path, agg_to_water)\u001b[0m\n\u001b[1;32m     73\u001b[0m         \u001b[0;32mif\u001b[0m \u001b[0mmode\u001b[0m\u001b[0;34m==\u001b[0m\u001b[0;34m'train'\u001b[0m\u001b[0;34m:\u001b[0m\u001b[0;34m\u001b[0m\u001b[0;34m\u001b[0m\u001b[0m\n\u001b[1;32m     74\u001b[0m \u001b[0;31m#             self.ROIs = np.genfromtxt(os.path.join(path, 'splits', 'train_X.txt'),dtype='str')\u001b[0m\u001b[0;34m\u001b[0m\u001b[0;34m\u001b[0m\u001b[0;34m\u001b[0m\u001b[0m\n\u001b[0;32m---> 75\u001b[0;31m             \u001b[0mself\u001b[0m\u001b[0;34m.\u001b[0m\u001b[0mROIs\u001b[0m \u001b[0;34m=\u001b[0m \u001b[0mnp\u001b[0m\u001b[0;34m.\u001b[0m\u001b[0marray\u001b[0m\u001b[0;34m(\u001b[0m\u001b[0;34m[\u001b[0m\u001b[0mname\u001b[0m \u001b[0;32mfor\u001b[0m \u001b[0mname\u001b[0m \u001b[0;32min\u001b[0m \u001b[0mos\u001b[0m\u001b[0;34m.\u001b[0m\u001b[0mlistdir\u001b[0m\u001b[0;34m(\u001b[0m\u001b[0mos\u001b[0m\u001b[0;34m.\u001b[0m\u001b[0mpath\u001b[0m\u001b[0;34m.\u001b[0m\u001b[0mjoin\u001b[0m\u001b[0;34m(\u001b[0m\u001b[0mpath\u001b[0m\u001b[0;34m,\u001b[0m \u001b[0;34m'train'\u001b[0m\u001b[0;34m)\u001b[0m\u001b[0;34m)\u001b[0m \u001b[0;32mif\u001b[0m \u001b[0mos\u001b[0m\u001b[0;34m.\u001b[0m\u001b[0mpath\u001b[0m\u001b[0;34m.\u001b[0m\u001b[0misfile\u001b[0m\u001b[0;34m(\u001b[0m\u001b[0mos\u001b[0m\u001b[0;34m.\u001b[0m\u001b[0mpath\u001b[0m\u001b[0;34m.\u001b[0m\u001b[0mjoin\u001b[0m\u001b[0;34m(\u001b[0m\u001b[0mpath\u001b[0m\u001b[0;34m,\u001b[0m \u001b[0;34m'train'\u001b[0m\u001b[0;34m,\u001b[0m \u001b[0mname\u001b[0m\u001b[0;34m)\u001b[0m\u001b[0;34m)\u001b[0m\u001b[0;34m]\u001b[0m\u001b[0;34m)\u001b[0m\u001b[0;34m\u001b[0m\u001b[0;34m\u001b[0m\u001b[0m\n\u001b[0m\u001b[1;32m     76\u001b[0m \u001b[0;34m\u001b[0m\u001b[0m\n\u001b[1;32m     77\u001b[0m         \u001b[0;32melif\u001b[0m \u001b[0mmode\u001b[0m\u001b[0;34m==\u001b[0m\u001b[0;34m'test'\u001b[0m\u001b[0;34m:\u001b[0m\u001b[0;34m\u001b[0m\u001b[0;34m\u001b[0m\u001b[0m\n",
      "\u001b[0;31mFileNotFoundError\u001b[0m: [Errno 2] No such file or directory: '/rapids/notebooks/sciclone/geograd/Miranda/VIMS/NAIP/VA_NAIP_2018_8977/train'"
     ]
    }
   ],
   "source": [
    "# Check training accuracy\n",
    "\n",
    "\n",
    "model_dir = \"/rapids/notebooks/sciclone/geograd/Miranda/github/marine-debris.github.io/torchlightning_results_norm\"\n",
    "model_files = [file for file in os.listdir(model_dir) if file.split(\".\")[-1]==\"ckpt\" and file.split(\"_\")[0]==\"4class\"]\n",
    "\n",
    "gen_masks_path = os.path.join(up(up(root_path)), 'VIMS', 'NAIP', 'VA_NAIP_2018_8977', 'test_masks')\n",
    "\n",
    "for file in model_files:\n",
    "    print(\"Using model {}\".format(file))\n",
    "    model_path = os.path.join(model_dir, file)\n",
    "    labels = ['Background', 'Bulkhead Or Sea Wall', 'Rip Rap', 'Groin', 'Breakwater']\n",
    "    options = {'agg_to_water': True, 'batch': 32, \n",
    "              'input_channels': 4, 'output_channels': 5, 'hidden_channels': 16,\n",
    "              'model_path': model_path, 'predict_masks': False, 'gen_masks_path':gen_masks_path, 'labels': labels}\n",
    "    try:\n",
    "        main(options)\n",
    "    except:\n",
    "        labels = ['Bulkhead Or Sea Wall', 'Rip Rap', 'Groin', 'Breakwater']\n",
    "        options = {'agg_to_water': True, 'batch': 32, \n",
    "              'input_channels': 4, 'output_channels': 5, 'hidden_channels': 16,\n",
    "              'model_path': model_path, 'predict_masks': False, 'gen_masks_path':gen_masks_path, 'labels': labels}\n",
    "        main(options)\n"
   ]
  },
  {
   "cell_type": "code",
   "execution_count": null,
   "id": "4229e8e1",
   "metadata": {},
   "outputs": [],
   "source": [
    "# # model_path = os.path.join(path_cur, 'trained_models', '200', 'model.pth')\n",
    "\n",
    "# model_path = \"/rapids/notebooks/sciclone/geograd/Miranda/github/marine-debris.github.io/torchlightning_results/4class_unet_resnet50_0.0001_jaccard_imagenet-epoch=95-val_loss=0.52.ckpt\"\n",
    "# #4class_unet_resnet18_0.0001_ce_imagenet-epoch=15-val_loss=0.63.ckpt\n",
    "# #4class_unet_resnet18_0.0001_jaccard_imagenet-epoch=67-val_loss=0.53.ckpt\n",
    "# #4class_unet_resnet18_0.0001_jaccard_ssl-epoch=77-val_loss=0.52.ckpt\n",
    "# #7class_unet_resnet18_0.0001_ce_imagenet-epoch=10-val_loss=0.84.ckpt\n",
    "# gen_masks_path = os.path.join(up(up(root_path)), 'VIMS', 'NAIP', 'VA_NAIP_2018_8977', 'test_masks')\n",
    "\n",
    "\n",
    "# options = {'agg_to_water': True, 'batch': 32, \n",
    "#           'input_channels': 4, 'output_channels': 5, 'hidden_channels': 16,\n",
    "#           'model_path': model_path, 'predict_masks': False, 'gen_masks_path':gen_masks_path}\n",
    "\n",
    "# main(options)"
   ]
  },
  {
   "cell_type": "code",
   "execution_count": null,
   "id": "86477dcd",
   "metadata": {},
   "outputs": [],
   "source": []
  },
  {
   "cell_type": "code",
   "execution_count": 59,
   "id": "11587a38",
   "metadata": {},
   "outputs": [
    {
     "name": "stderr",
     "output_type": "stream",
     "text": [
      "Load val set to memory: 100%|██████████| 756/756 [00:04<00:00, 180.20it/s]\n",
      "testing: 100%|██████████| 23/23 [00:23<00:00,  1.04s/it]\n"
     ]
    },
    {
     "name": "stdout",
     "output_type": "stream",
     "text": [
      "Evaluation: {'macroPrec': 0.7064169812245192, 'microPrec': 0.7623679008639017, 'weightPrec': 0.7624742900009198, 'macroRec': 0.6578357397054484, 'microRec': 0.7623679008639017, 'weightRec': 0.7623679008639017, 'macroF1': 0.6795330993427686, 'microF1': 0.7623679008639017, 'weightF1': 0.7617965706184571, 'subsetAcc': 0.7623679008639017, 'IoU': 0.5293647620251909}\n",
      "[[412512.0, 137168.0, 128.0, 2072.0, 551880.0, 0.75], [112429.0, 452804.0, 894.0, 5461.0, 571588.0, 0.79], [1744.0, 4452.0, 5572.0, 2293.0, 14061.0, 0.4], [3854.0, 8342.0, 4511.0, 38145.0, 54852.0, 0.7], [530539.0, 602766.0, 11105.0, 47971.0, 'mPA:', 0.66], [0.62, 0.63, 0.28, 0.59, 'mIoU:', 0.53], [0.78, 0.75, 0.5, 0.8, 'OA:', 0.76], [0.76, 0.77, 0.44, 0.74, 'F1-macro:', 0.68]]\n",
      "Confusion Matrix:  \n",
      "                     Bulkhead Or Sea Wall   Rip Rap    Groin Breakwater        Sum Recall\n",
      "Bulkhead Or Sea Wall             412512.0  137168.0    128.0     2072.0   551880.0   0.75\n",
      "Rip Rap                          112429.0  452804.0    894.0     5461.0   571588.0   0.79\n",
      "Groin                              1744.0    4452.0   5572.0     2293.0    14061.0    0.4\n",
      "Breakwater                         3854.0    8342.0   4511.0    38145.0    54852.0    0.7\n",
      "Sum                              530539.0  602766.0  11105.0    47971.0       mPA:   0.66\n",
      "IoU                                  0.62      0.63     0.28       0.59      mIoU:   0.53\n",
      "Precision                            0.78      0.75      0.5        0.8        OA:   0.76\n",
      "F1-score                             0.76      0.77     0.44       0.74  F1-macro:   0.68\n"
     ]
    }
   ],
   "source": [
    "# model_path = os.path.join(path_cur, 'trained_models', '200', 'model.pth')\n",
    "\n",
    "model_path_2 = \"/rapids/notebooks/sciclone/geograd/Miranda/github/marine-debris.github.io/torchlightning_results_batch32/4class_unet_resnet50_0.001_ce_imagenet_CWFalse_(0.9, 0.999)-epoch=55-val_loss=0.54.ckpt\"\n",
    "\n",
    "gen_masks_path = os.path.join(up(up(root_path)), 'VIMS', 'NAIP', 'VA_NAIP_2018_8977', 'test_masks')\n",
    "labels = ['Bulkhead Or Sea Wall', 'Rip Rap', 'Groin', 'Breakwater']\n",
    "\n",
    "options = {'agg_to_water': True, 'batch': 32, \n",
    "          'input_channels': 4, 'output_channels': 5, 'hidden_channels': 16,\n",
    "          'model_path': model_path_2, 'predict_masks': False, 'gen_masks_path':gen_masks_path,\n",
    "          'labels': labels}\n",
    "\n",
    "main(options)"
   ]
  },
  {
   "cell_type": "code",
   "execution_count": 61,
   "id": "651fbbc5",
   "metadata": {},
   "outputs": [
    {
     "name": "stderr",
     "output_type": "stream",
     "text": [
      "Load test set to memory: 100%|██████████| 756/756 [00:03<00:00, 202.37it/s]\n",
      "testing: 100%|██████████| 23/23 [00:20<00:00,  1.11it/s]\n"
     ]
    },
    {
     "name": "stdout",
     "output_type": "stream",
     "text": [
      "Evaluation: {'macroPrec': 0.7190646908035663, 'microPrec': 0.7795550165796976, 'weightPrec': 0.7807557341179913, 'macroRec': 0.636274585091505, 'microRec': 0.7795550165796976, 'weightRec': 0.7795550165796976, 'macroF1': 0.6704098950463839, 'microF1': 0.7795550165796976, 'weightF1': 0.778857947566291, 'subsetAcc': 0.7795550165796976, 'IoU': 0.5239488492823632}\n",
      "[[480981.0, 133517.0, 386.0, 607.0, 615491.0, 0.78], [107422.0, 448946.0, 566.0, 3066.0, 560000.0, 0.8], [348.0, 5700.0, 4454.0, 2699.0, 13201.0, 0.34], [3037.0, 11913.0, 3774.0, 31147.0, 49871.0, 0.62], [591788.0, 600076.0, 9180.0, 37519.0, 'mPA:', 0.64], [0.66, 0.63, 0.25, 0.55, 'mIoU:', 0.52], [0.81, 0.75, 0.49, 0.83, 'OA:', 0.78], [0.8, 0.77, 0.4, 0.71, 'F1-macro:', 0.67]]\n",
      "Confusion Matrix:  \n",
      "                     Bulkhead Or Sea Wall   Rip Rap   Groin Breakwater        Sum Recall\n",
      "Bulkhead Or Sea Wall             480981.0  133517.0   386.0      607.0   615491.0   0.78\n",
      "Rip Rap                          107422.0  448946.0   566.0     3066.0   560000.0    0.8\n",
      "Groin                               348.0    5700.0  4454.0     2699.0    13201.0   0.34\n",
      "Breakwater                         3037.0   11913.0  3774.0    31147.0    49871.0   0.62\n",
      "Sum                              591788.0  600076.0  9180.0    37519.0       mPA:   0.64\n",
      "IoU                                  0.66      0.63    0.25       0.55      mIoU:   0.52\n",
      "Precision                            0.81      0.75    0.49       0.83        OA:   0.78\n",
      "F1-score                              0.8      0.77     0.4       0.71  F1-macro:   0.67\n"
     ]
    }
   ],
   "source": [
    "# model_path = os.path.join(path_cur, 'trained_models', '200', 'model.pth')\n",
    "\n",
    "model_path_2 = \"/rapids/notebooks/sciclone/geograd/Miranda/github/marine-debris.github.io/torchlightning_results_batch16/4class_16batch_unet_resnet50_0.001_ce_imagenet_CWFalse_(0.9, 0.999)-epoch=71-val_loss=0.54.ckpt\"\n",
    "\n",
    "gen_masks_path = os.path.join(up(up(root_path)), 'VIMS', 'NAIP', 'VA_NAIP_2018_8977', 'test_masks')\n",
    "labels = ['Bulkhead Or Sea Wall', 'Rip Rap', 'Groin', 'Breakwater']\n",
    "\n",
    "options = {'agg_to_water': True, 'batch': 32, \n",
    "          'input_channels': 4, 'output_channels': 5, 'hidden_channels': 16,\n",
    "          'model_path': model_path_2, 'predict_masks': False, 'gen_masks_path':gen_masks_path,\n",
    "          'labels': labels}\n",
    "\n",
    "main(options)"
   ]
  },
  {
   "cell_type": "code",
   "execution_count": 63,
   "id": "a698db9c",
   "metadata": {},
   "outputs": [
    {
     "name": "stderr",
     "output_type": "stream",
     "text": [
      "Load test set to memory:   0%|          | 0/756 [00:00<?, ?it/s]"
     ]
    },
    {
     "name": "stdout",
     "output_type": "stream",
     "text": [
      "Using model 4class_unet_resnet50_0.0001_ce_imagenet_CWFalse_(0.9, 0.999)-epoch=20-val_loss=0.56.ckpt\n"
     ]
    },
    {
     "name": "stderr",
     "output_type": "stream",
     "text": [
      "Load test set to memory: 100%|██████████| 756/756 [00:03<00:00, 196.76it/s]\n",
      "testing: 100%|██████████| 23/23 [00:17<00:00,  1.28it/s]\n"
     ]
    },
    {
     "name": "stdout",
     "output_type": "stream",
     "text": [
      "Evaluation: {'macroPrec': 0.6764536199817023, 'microPrec': 0.7516500977342291, 'weightPrec': 0.7651706144324054, 'macroRec': 0.6474145292343492, 'microRec': 0.7516500977342291, 'weightRec': 0.7516500977342291, 'macroF1': 0.6556088093833564, 'microF1': 0.7516500977342292, 'weightF1': 0.7508075058979647, 'subsetAcc': 0.7516500977342291, 'IoU': 0.5035659306172153}\n"
     ]
    },
    {
     "name": "stderr",
     "output_type": "stream",
     "text": [
      "Load test set to memory:   1%|▏         | 11/756 [00:00<00:06, 107.61it/s]"
     ]
    },
    {
     "name": "stdout",
     "output_type": "stream",
     "text": [
      "[[418197.0, 195870.0, 474.0, 950.0, 615491.0, 0.68], [78648.0, 475605.0, 1433.0, 4314.0, 560000.0, 0.85], [1071.0, 3373.0, 5668.0, 3089.0, 13201.0, 0.43], [4217.0, 7014.0, 7144.0, 31496.0, 49871.0, 0.63], [502133.0, 681862.0, 14719.0, 39849.0, 'mPA:', 0.65], [0.6, 0.62, 0.25, 0.54, 'mIoU:', 0.5], [0.83, 0.7, 0.39, 0.79, 'OA:', 0.75], [0.75, 0.77, 0.41, 0.7, 'F1-macro:', 0.66]]\n",
      "Confusion Matrix:  \n",
      "                     Bulkhead Or Sea Wall   Rip Rap    Groin Breakwater        Sum Recall\n",
      "Bulkhead Or Sea Wall             418197.0  195870.0    474.0      950.0   615491.0   0.68\n",
      "Rip Rap                           78648.0  475605.0   1433.0     4314.0   560000.0   0.85\n",
      "Groin                              1071.0    3373.0   5668.0     3089.0    13201.0   0.43\n",
      "Breakwater                         4217.0    7014.0   7144.0    31496.0    49871.0   0.63\n",
      "Sum                              502133.0  681862.0  14719.0    39849.0       mPA:   0.65\n",
      "IoU                                   0.6      0.62     0.25       0.54      mIoU:    0.5\n",
      "Precision                            0.83       0.7     0.39       0.79        OA:   0.75\n",
      "F1-score                             0.75      0.77     0.41        0.7  F1-macro:   0.66\n",
      "Using model 4class_unet_resnet50_0.001_ce_imagenet_CWFalse_(0.9, 0.999)-epoch=77-val_loss=0.54.ckpt\n"
     ]
    },
    {
     "name": "stderr",
     "output_type": "stream",
     "text": [
      "Load test set to memory: 100%|██████████| 756/756 [00:05<00:00, 128.10it/s]\n",
      "testing: 100%|██████████| 23/23 [00:18<00:00,  1.27it/s]\n"
     ]
    },
    {
     "name": "stdout",
     "output_type": "stream",
     "text": [
      "Evaluation: {'macroPrec': 0.7512892054915135, 'microPrec': 0.7809308044887503, 'weightPrec': 0.7810826462550043, 'macroRec': 0.6577207406948417, 'microRec': 0.7809308044887503, 'weightRec': 0.7809308044887503, 'macroF1': 0.6964147671973875, 'microF1': 0.7809308044887502, 'weightF1': 0.7802008896530228, 'subsetAcc': 0.7809308044887503, 'IoU': 0.5494649091098849}\n"
     ]
    },
    {
     "name": "stderr",
     "output_type": "stream",
     "text": [
      "Load test set to memory:   1%|▏         | 11/756 [00:00<00:07, 103.90it/s]"
     ]
    },
    {
     "name": "stdout",
     "output_type": "stream",
     "text": [
      "[[496562.0, 118699.0, 73.0, 157.0, 615491.0, 0.81], [124708.0, 432387.0, 916.0, 1989.0, 560000.0, 0.77], [230.0, 5276.0, 5105.0, 2590.0, 13201.0, 0.39], [4995.0, 8875.0, 2823.0, 33178.0, 49871.0, 0.67], [626495.0, 565237.0, 8917.0, 37914.0, 'mPA:', 0.66], [0.67, 0.62, 0.3, 0.61, 'mIoU:', 0.55], [0.79, 0.76, 0.57, 0.88, 'OA:', 0.78], [0.8, 0.77, 0.46, 0.76, 'F1-macro:', 0.7]]\n",
      "Confusion Matrix:  \n",
      "                     Bulkhead Or Sea Wall   Rip Rap   Groin Breakwater        Sum Recall\n",
      "Bulkhead Or Sea Wall             496562.0  118699.0    73.0      157.0   615491.0   0.81\n",
      "Rip Rap                          124708.0  432387.0   916.0     1989.0   560000.0   0.77\n",
      "Groin                               230.0    5276.0  5105.0     2590.0    13201.0   0.39\n",
      "Breakwater                         4995.0    8875.0  2823.0    33178.0    49871.0   0.67\n",
      "Sum                              626495.0  565237.0  8917.0    37914.0       mPA:   0.66\n",
      "IoU                                  0.67      0.62     0.3       0.61      mIoU:   0.55\n",
      "Precision                            0.79      0.76    0.57       0.88        OA:   0.78\n",
      "F1-score                              0.8      0.77    0.46       0.76  F1-macro:    0.7\n",
      "Using model 4class_unet_resnet50_0.001_ce_imagenet_CWTrue_(0.9, 0.999)-epoch=62-val_loss=0.56.ckpt\n"
     ]
    },
    {
     "name": "stderr",
     "output_type": "stream",
     "text": [
      "Load test set to memory: 100%|██████████| 756/756 [00:06<00:00, 125.99it/s]\n",
      "testing: 100%|██████████| 23/23 [00:17<00:00,  1.33it/s]\n"
     ]
    },
    {
     "name": "stdout",
     "output_type": "stream",
     "text": [
      "Evaluation: {'macroPrec': 0.7317749097717008, 'microPrec': 0.7614073728990775, 'weightPrec': 0.7747563924353933, 'macroRec': 0.6492038917657418, 'microRec': 0.7614073728990775, 'weightRec': 0.7614073728990775, 'macroF1': 0.676830246734382, 'microF1': 0.7614073728990775, 'weightF1': 0.7599006191321895, 'subsetAcc': 0.7614073728990775, 'IoU': 0.5318104364483824}\n"
     ]
    },
    {
     "name": "stderr",
     "output_type": "stream",
     "text": [
      "Load test set to memory:   2%|▏         | 12/756 [00:00<00:06, 113.16it/s]"
     ]
    },
    {
     "name": "stdout",
     "output_type": "stream",
     "text": [
      "[[421788.0, 192119.0, 178.0, 1406.0, 615491.0, 0.69], [76244.0, 479920.0, 1227.0, 2609.0, 560000.0, 0.86], [174.0, 5148.0, 4049.0, 3830.0, 13201.0, 0.31], [1522.0, 9249.0, 1806.0, 37294.0, 49871.0, 0.75], [499728.0, 686436.0, 7260.0, 45139.0, 'mPA:', 0.65], [0.61, 0.63, 0.25, 0.65, 'mIoU:', 0.53], [0.84, 0.7, 0.56, 0.83, 'OA:', 0.76], [0.76, 0.77, 0.4, 0.79, 'F1-macro:', 0.68]]\n",
      "Confusion Matrix:  \n",
      "                     Bulkhead Or Sea Wall   Rip Rap   Groin Breakwater        Sum Recall\n",
      "Bulkhead Or Sea Wall             421788.0  192119.0   178.0     1406.0   615491.0   0.69\n",
      "Rip Rap                           76244.0  479920.0  1227.0     2609.0   560000.0   0.86\n",
      "Groin                               174.0    5148.0  4049.0     3830.0    13201.0   0.31\n",
      "Breakwater                         1522.0    9249.0  1806.0    37294.0    49871.0   0.75\n",
      "Sum                              499728.0  686436.0  7260.0    45139.0       mPA:   0.65\n",
      "IoU                                  0.61      0.63    0.25       0.65      mIoU:   0.53\n",
      "Precision                            0.84       0.7    0.56       0.83        OA:   0.76\n",
      "F1-score                             0.76      0.77     0.4       0.79  F1-macro:   0.68\n",
      "Using model 4class_weights_unet_resnet50_0.001_ce_imagenet_CWTrue_(0.9, 0.999)-epoch=41-val_loss=0.82.ckpt\n"
     ]
    },
    {
     "name": "stderr",
     "output_type": "stream",
     "text": [
      "Load test set to memory: 100%|██████████| 756/756 [00:05<00:00, 127.56it/s]\n",
      "testing: 100%|██████████| 23/23 [00:16<00:00,  1.36it/s]\n"
     ]
    },
    {
     "name": "stdout",
     "output_type": "stream",
     "text": [
      "Evaluation: {'macroPrec': 0.5048495727441421, 'microPrec': 0.61215860638498, 'weightPrec': 0.6702855128854723, 'macroRec': 0.6502799302820232, 'microRec': 0.61215860638498, 'weightRec': 0.61215860638498, 'macroF1': 0.5220060747598756, 'microF1': 0.61215860638498, 'weightF1': 0.6108537410117449, 'subsetAcc': 0.61215860638498, 'IoU': 0.36685543021364486}\n"
     ]
    },
    {
     "name": "stderr",
     "output_type": "stream",
     "text": [
      "Load test set to memory:   2%|▏         | 12/756 [00:00<00:06, 116.12it/s]"
     ]
    },
    {
     "name": "stdout",
     "output_type": "stream",
     "text": [
      "[[281554.0, 315730.0, 6386.0, 11821.0, 615491.0, 0.46], [75521.0, 431643.0, 31381.0, 21455.0, 560000.0, 0.77], [264.0, 1479.0, 8448.0, 3010.0, 13201.0, 0.64], [1788.0, 5361.0, 6170.0, 36552.0, 49871.0, 0.73], [359127.0, 754213.0, 52385.0, 72838.0, 'mPA:', 0.65], [0.41, 0.49, 0.15, 0.42, 'mIoU:', 0.37], [0.78, 0.57, 0.16, 0.5, 'OA:', 0.61], [0.58, 0.66, 0.26, 0.6, 'F1-macro:', 0.52]]\n",
      "Confusion Matrix:  \n",
      "                     Bulkhead Or Sea Wall   Rip Rap    Groin Breakwater        Sum Recall\n",
      "Bulkhead Or Sea Wall             281554.0  315730.0   6386.0    11821.0   615491.0   0.46\n",
      "Rip Rap                           75521.0  431643.0  31381.0    21455.0   560000.0   0.77\n",
      "Groin                               264.0    1479.0   8448.0     3010.0    13201.0   0.64\n",
      "Breakwater                         1788.0    5361.0   6170.0    36552.0    49871.0   0.73\n",
      "Sum                              359127.0  754213.0  52385.0    72838.0       mPA:   0.65\n",
      "IoU                                  0.41      0.49     0.15       0.42      mIoU:   0.37\n",
      "Precision                            0.78      0.57     0.16        0.5        OA:   0.61\n",
      "F1-score                             0.58      0.66     0.26        0.6  F1-macro:   0.52\n",
      "Using model 4class_unet_resnet50_0.001_ce_imagenet_CWFalse_(0.9, 0.999)-epoch=55-val_loss=0.54.ckpt\n"
     ]
    },
    {
     "name": "stderr",
     "output_type": "stream",
     "text": [
      "Load test set to memory: 100%|██████████| 756/756 [00:05<00:00, 128.50it/s]\n",
      "testing: 100%|██████████| 23/23 [00:17<00:00,  1.33it/s]\n"
     ]
    },
    {
     "name": "stdout",
     "output_type": "stream",
     "text": [
      "Evaluation: {'macroPrec': 0.7456504547190408, 'microPrec': 0.7880237016607149, 'weightPrec': 0.7895388791211657, 'macroRec': 0.6530712835886017, 'microRec': 0.7880237016607149, 'weightRec': 0.7880237016607149, 'macroF1': 0.6885192662791544, 'microF1': 0.788023701660715, 'weightF1': 0.7873248159346458, 'subsetAcc': 0.7880237016607149, 'IoU': 0.546759629401943}\n"
     ]
    },
    {
     "name": "stderr",
     "output_type": "stream",
     "text": [
      "Load test set to memory:   2%|▏         | 13/756 [00:00<00:06, 119.86it/s]"
     ]
    },
    {
     "name": "stdout",
     "output_type": "stream",
     "text": [
      "[[480741.0, 134018.0, 178.0, 554.0, 615491.0, 0.78], [100434.0, 456018.0, 982.0, 2566.0, 560000.0, 0.81], [239.0, 5599.0, 4124.0, 3239.0, 13201.0, 0.31], [2572.0, 10082.0, 2083.0, 35134.0, 49871.0, 0.7], [583986.0, 605717.0, 7367.0, 41493.0, 'mPA:', 0.65], [0.67, 0.64, 0.25, 0.62, 'mIoU:', 0.55], [0.82, 0.75, 0.56, 0.85, 'OA:', 0.79], [0.8, 0.78, 0.4, 0.77, 'F1-macro:', 0.69]]\n",
      "Confusion Matrix:  \n",
      "                     Bulkhead Or Sea Wall   Rip Rap   Groin Breakwater        Sum Recall\n",
      "Bulkhead Or Sea Wall             480741.0  134018.0   178.0      554.0   615491.0   0.78\n",
      "Rip Rap                          100434.0  456018.0   982.0     2566.0   560000.0   0.81\n",
      "Groin                               239.0    5599.0  4124.0     3239.0    13201.0   0.31\n",
      "Breakwater                         2572.0   10082.0  2083.0    35134.0    49871.0    0.7\n",
      "Sum                              583986.0  605717.0  7367.0    41493.0       mPA:   0.65\n",
      "IoU                                  0.67      0.64    0.25       0.62      mIoU:   0.55\n",
      "Precision                            0.82      0.75    0.56       0.85        OA:   0.79\n",
      "F1-score                              0.8      0.78     0.4       0.77  F1-macro:   0.69\n",
      "Using model 4class_unet_resnet50_0.0001_ce_imagenet_CWTrue_(0.9, 0.999)-epoch=11-val_loss=0.60.ckpt\n"
     ]
    },
    {
     "name": "stderr",
     "output_type": "stream",
     "text": [
      "Load test set to memory: 100%|██████████| 756/756 [00:05<00:00, 130.62it/s]\n",
      "testing: 100%|██████████| 23/23 [00:17<00:00,  1.33it/s]\n",
      "/opt/conda/envs/rapids/lib/python3.7/site-packages/sklearn/metrics/_classification.py:1221: UndefinedMetricWarning: Recall is ill-defined and being set to 0.0 in labels with no true samples. Use `zero_division` parameter to control this behavior.\n",
      "  _warn_prf(average, modifier, msg_start, len(result))\n"
     ]
    },
    {
     "name": "stdout",
     "output_type": "stream",
     "text": [
      "Evaluation: {'macroPrec': 0.5478349875915578, 'microPrec': 0.7346231075851611, 'weightPrec': 0.755513822900066, 'macroRec': 0.4904948706613377, 'microRec': 0.7346231075851611, 'weightRec': 0.7346231075851611, 'macroF1': 0.5076739489864118, 'microF1': 0.7346231075851611, 'weightF1': 0.7312546256869518, 'subsetAcc': 0.7346231075851611, 'IoU': 0.3875296811124339}\n"
     ]
    },
    {
     "name": "stderr",
     "output_type": "stream",
     "text": [
      "Load test set to memory:   2%|▏         | 12/756 [00:00<00:06, 116.46it/s]"
     ]
    },
    {
     "name": "stdout",
     "output_type": "stream",
     "text": [
      "[[0.0, 0.0, 0.0, 0.0, 0.0, 0.0, 0.0], [9.0, 386079.0, 226556.0, 87.0, 2760.0, 615491.0, 0.63], [0.0, 69465.0, 486023.0, 398.0, 4114.0, 560000.0, 0.87], [0.0, 43.0, 5370.0, 3588.0, 4200.0, 13201.0, 0.27], [0.0, 4079.0, 8117.0, 3488.0, 34187.0, 49871.0, 0.69], [9.0, 459666.0, 726066.0, 7561.0, 45261.0, 'mPA:', 0.49], [0.0, 0.56, 0.61, 0.21, 0.56, 'mIoU:', 0.39], [0.0, 0.84, 0.67, 0.47, 0.76, 'OA:', 0.73], [0.0, 0.72, 0.76, 0.35, 0.72, 'F1-macro:', 0.51]]\n"
     ]
    },
    {
     "name": "stderr",
     "output_type": "stream",
     "text": [
      "Load test set to memory: 100%|██████████| 756/756 [00:05<00:00, 128.81it/s]\n",
      "testing: 100%|██████████| 23/23 [00:16<00:00,  1.39it/s]\n"
     ]
    },
    {
     "name": "stdout",
     "output_type": "stream",
     "text": [
      "Evaluation: {'macroPrec': 0.5478349875915578, 'microPrec': 0.7346231075851611, 'weightPrec': 0.755513822900066, 'macroRec': 0.4904948706613377, 'microRec': 0.7346231075851611, 'weightRec': 0.7346231075851611, 'macroF1': 0.5076739489864118, 'microF1': 0.7346231075851611, 'weightF1': 0.7312546256869518, 'subsetAcc': 0.7346231075851611, 'IoU': 0.3875296811124339}\n",
      "[[0.0, 0.0, 0.0, 0.0, 0.0, 0.0, 0.0], [9.0, 386079.0, 226556.0, 87.0, 2760.0, 615491.0, 0.63], [0.0, 69465.0, 486023.0, 398.0, 4114.0, 560000.0, 0.87], [0.0, 43.0, 5370.0, 3588.0, 4200.0, 13201.0, 0.27], [0.0, 4079.0, 8117.0, 3488.0, 34187.0, 49871.0, 0.69], [9.0, 459666.0, 726066.0, 7561.0, 45261.0, 'mPA:', 0.49], [0.0, 0.56, 0.61, 0.21, 0.56, 'mIoU:', 0.39], [0.0, 0.84, 0.67, 0.47, 0.76, 'OA:', 0.73], [0.0, 0.72, 0.76, 0.35, 0.72, 'F1-macro:', 0.51]]\n",
      "Confusion Matrix:  \n",
      "                     Background Bulkhead Or Sea Wall   Rip Rap   Groin Breakwater        Sum Recall\n",
      "Background                  0.0                  0.0       0.0     0.0        0.0        0.0    0.0\n",
      "Bulkhead Or Sea Wall        9.0             386079.0  226556.0    87.0     2760.0   615491.0   0.63\n",
      "Rip Rap                     0.0              69465.0  486023.0   398.0     4114.0   560000.0   0.87\n",
      "Groin                       0.0                 43.0    5370.0  3588.0     4200.0    13201.0   0.27\n",
      "Breakwater                  0.0               4079.0    8117.0  3488.0    34187.0    49871.0   0.69\n",
      "Sum                         9.0             459666.0  726066.0  7561.0    45261.0       mPA:   0.49\n",
      "IoU                         0.0                 0.56      0.61    0.21       0.56      mIoU:   0.39\n",
      "Precision                   0.0                 0.84      0.67    0.47       0.76        OA:   0.73\n",
      "F1-score                    0.0                 0.72      0.76    0.35       0.72  F1-macro:   0.51\n"
     ]
    }
   ],
   "source": [
    "# Check training accuracy\n",
    "\n",
    "\n",
    "model_dir = \"/rapids/notebooks/sciclone/geograd/Miranda/github/marine-debris.github.io/torchlightning_results_batch32\"\n",
    "model_files = [file for file in os.listdir(model_dir) if file.split(\".\")[-1]==\"ckpt\" and file.split(\"_\")[0]==\"4class\"]\n",
    "\n",
    "gen_masks_path = os.path.join(up(up(root_path)), 'VIMS', 'NAIP', 'VA_NAIP_2018_8977', 'test_masks')\n",
    "\n",
    "for file in model_files:\n",
    "    print(\"Using model {}\".format(file))\n",
    "    model_path = os.path.join(model_dir, file)\n",
    "    labels = ['Bulkhead Or Sea Wall', 'Rip Rap', 'Groin', 'Breakwater']\n",
    "    options = {'agg_to_water': True, 'batch': 32, \n",
    "              'input_channels': 4, 'output_channels': 5, 'hidden_channels': 16,\n",
    "              'model_path': model_path, 'predict_masks': False, 'gen_masks_path':gen_masks_path, 'labels': labels}\n",
    "    try:\n",
    "        main(options)\n",
    "    except:\n",
    "        labels = ['Background', 'Bulkhead Or Sea Wall', 'Rip Rap', 'Groin', 'Breakwater']\n",
    "        options = {'agg_to_water': True, 'batch': 32, \n",
    "              'input_channels': 4, 'output_channels': 5, 'hidden_channels': 16,\n",
    "              'model_path': model_path, 'predict_masks': False, 'gen_masks_path':gen_masks_path, 'labels': labels}\n",
    "        main(options)\n"
   ]
  },
  {
   "cell_type": "code",
   "execution_count": 52,
   "id": "a325a8cb",
   "metadata": {},
   "outputs": [
    {
     "name": "stderr",
     "output_type": "stream",
     "text": [
      "Load test set to memory:   2%|▏         | 17/756 [00:00<00:04, 168.94it/s]"
     ]
    },
    {
     "name": "stdout",
     "output_type": "stream",
     "text": [
      "Using model 4class_16batch_unet_resnet50_0.001_ce_imagenet_CWFalse_(0.9, 0.999)-epoch=71-val_loss=0.54.ckpt\n"
     ]
    },
    {
     "name": "stderr",
     "output_type": "stream",
     "text": [
      "Load test set to memory: 100%|██████████| 756/756 [00:05<00:00, 141.11it/s]\n",
      "testing: 100%|██████████| 45/45 [00:34<00:00,  1.32it/s]\n"
     ]
    },
    {
     "name": "stdout",
     "output_type": "stream",
     "text": [
      "Evaluation: {'macroPrec': 0.7190646908035663, 'microPrec': 0.7795550165796976, 'weightPrec': 0.7807557341179913, 'macroRec': 0.636274585091505, 'microRec': 0.7795550165796976, 'weightRec': 0.7795550165796976, 'macroF1': 0.6704098950463839, 'microF1': 0.7795550165796976, 'weightF1': 0.778857947566291, 'subsetAcc': 0.7795550165796976, 'IoU': 0.5239488492823632}\n"
     ]
    },
    {
     "name": "stderr",
     "output_type": "stream",
     "text": [
      "Load test set to memory:   2%|▏         | 13/756 [00:00<00:06, 122.43it/s]"
     ]
    },
    {
     "name": "stdout",
     "output_type": "stream",
     "text": [
      "[[480981.0, 133517.0, 386.0, 607.0, 615491.0, 0.78], [107422.0, 448946.0, 566.0, 3066.0, 560000.0, 0.8], [348.0, 5700.0, 4454.0, 2699.0, 13201.0, 0.34], [3037.0, 11913.0, 3774.0, 31147.0, 49871.0, 0.62], [591788.0, 600076.0, 9180.0, 37519.0, 'mPA:', 0.64], [0.66, 0.63, 0.25, 0.55, 'mIoU:', 0.52], [0.81, 0.75, 0.49, 0.83, 'OA:', 0.78], [0.8, 0.77, 0.4, 0.71, 'F1-macro:', 0.67]]\n",
      "Confusion Matrix:  \n",
      "                     Bulkhead Or Sea Wall   Rip Rap   Groin Breakwater        Sum Recall\n",
      "Bulkhead Or Sea Wall             480981.0  133517.0   386.0      607.0   615491.0   0.78\n",
      "Rip Rap                          107422.0  448946.0   566.0     3066.0   560000.0    0.8\n",
      "Groin                               348.0    5700.0  4454.0     2699.0    13201.0   0.34\n",
      "Breakwater                         3037.0   11913.0  3774.0    31147.0    49871.0   0.62\n",
      "Sum                              591788.0  600076.0  9180.0    37519.0       mPA:   0.64\n",
      "IoU                                  0.66      0.63    0.25       0.55      mIoU:   0.52\n",
      "Precision                            0.81      0.75    0.49       0.83        OA:   0.78\n",
      "F1-score                              0.8      0.77     0.4       0.71  F1-macro:   0.67\n",
      "Using model 4class_16batch_unet_resnet50_0.001_ce_imagenet_CWFalse_(0.9, 0.999)-epoch=00-val_loss=0.90.ckpt\n"
     ]
    },
    {
     "name": "stderr",
     "output_type": "stream",
     "text": [
      "Load test set to memory: 100%|██████████| 756/756 [00:05<00:00, 133.99it/s]\n",
      "testing: 100%|██████████| 45/45 [00:25<00:00,  1.80it/s]\n",
      "/opt/conda/envs/rapids/lib/python3.7/site-packages/sklearn/metrics/_classification.py:1221: UndefinedMetricWarning: Precision is ill-defined and being set to 0.0 in labels with no predicted samples. Use `zero_division` parameter to control this behavior.\n",
      "  _warn_prf(average, modifier, msg_start, len(result))\n"
     ]
    },
    {
     "name": "stdout",
     "output_type": "stream",
     "text": [
      "Evaluation: {'macroPrec': 0.29296292775198574, 'microPrec': 0.58029103081555, 'weightPrec': 0.558288213717771, 'macroRec': 0.30684857742494553, 'microRec': 0.58029103081555, 'weightRec': 0.58029103081555, 'macroF1': 0.2977756605919189, 'microF1': 0.58029103081555, 'weightF1': 0.5653473440945572, 'subsetAcc': 0.58029103081555, 'IoU': 0.21202591698883227}\n"
     ]
    },
    {
     "name": "stderr",
     "output_type": "stream",
     "text": [
      "Load test set to memory:   0%|          | 0/756 [00:00<?, ?it/s]"
     ]
    },
    {
     "name": "stdout",
     "output_type": "stream",
     "text": [
      "[[348127.0, 267364.0, 0.0, 0.0, 615491.0, 0.57], [189400.0, 370600.0, 0.0, 0.0, 560000.0, 0.66], [1908.0, 11293.0, 0.0, 0.0, 13201.0, 0.0], [8775.0, 41096.0, 0.0, 0.0, 49871.0, 0.0], [548210.0, 690353.0, 0.0, 0.0, 'mPA:', 0.31], [0.43, 0.42, 0.0, 0.0, 'mIoU:', 0.21], [0.64, 0.54, 0.0, 0.0, 'OA:', 0.58], [0.6, 0.59, 0.0, 0.0, 'F1-macro:', 0.3]]\n",
      "Confusion Matrix:  \n",
      "                     Bulkhead Or Sea Wall   Rip Rap Groin Breakwater        Sum Recall\n",
      "Bulkhead Or Sea Wall             348127.0  267364.0   0.0        0.0   615491.0   0.57\n",
      "Rip Rap                          189400.0  370600.0   0.0        0.0   560000.0   0.66\n",
      "Groin                              1908.0   11293.0   0.0        0.0    13201.0    0.0\n",
      "Breakwater                         8775.0   41096.0   0.0        0.0    49871.0    0.0\n",
      "Sum                              548210.0  690353.0   0.0        0.0       mPA:   0.31\n",
      "IoU                                  0.43      0.42   0.0        0.0      mIoU:   0.21\n",
      "Precision                            0.64      0.54   0.0        0.0        OA:   0.58\n",
      "F1-score                              0.6      0.59   0.0        0.0  F1-macro:    0.3\n",
      "Using model 4class_16batch_unet_resnet50_0.001_ce_imagenet_CWFalse_(0.9, 0.999)-epoch=172-val_loss=0.54.ckpt\n"
     ]
    },
    {
     "name": "stderr",
     "output_type": "stream",
     "text": [
      "Load test set to memory: 100%|██████████| 756/756 [00:05<00:00, 146.91it/s]\n",
      "testing: 100%|██████████| 45/45 [00:27<00:00,  1.66it/s]\n"
     ]
    },
    {
     "name": "stdout",
     "output_type": "stream",
     "text": [
      "Evaluation: {'macroPrec': 0.7345273987146328, 'microPrec': 0.7735997280719673, 'weightPrec': 0.7755721007347639, 'macroRec': 0.6614421789768543, 'microRec': 0.7735997280719673, 'weightRec': 0.7735997280719673, 'macroF1': 0.6926469665718991, 'microF1': 0.7735997280719673, 'weightF1': 0.7733143552969085, 'subsetAcc': 0.7735997280719673, 'IoU': 0.5427615916384809}\n"
     ]
    },
    {
     "name": "stderr",
     "output_type": "stream",
     "text": [
      "Load test set to memory:   2%|▏         | 14/756 [00:00<00:05, 139.65it/s]"
     ]
    },
    {
     "name": "stdout",
     "output_type": "stream",
     "text": [
      "[[472138.0, 143029.0, 26.0, 298.0, 615491.0, 0.77], [108140.0, 447500.0, 840.0, 3520.0, 560000.0, 0.8], [388.0, 4623.0, 5517.0, 2673.0, 13201.0, 0.42], [4085.0, 9225.0, 3564.0, 32997.0, 49871.0, 0.66], [584751.0, 604377.0, 9947.0, 39488.0, 'mPA:', 0.66], [0.65, 0.62, 0.31, 0.59, 'mIoU:', 0.54], [0.81, 0.74, 0.55, 0.84, 'OA:', 0.77], [0.79, 0.77, 0.48, 0.74, 'F1-macro:', 0.69]]\n",
      "Confusion Matrix:  \n",
      "                     Bulkhead Or Sea Wall   Rip Rap   Groin Breakwater        Sum Recall\n",
      "Bulkhead Or Sea Wall             472138.0  143029.0    26.0      298.0   615491.0   0.77\n",
      "Rip Rap                          108140.0  447500.0   840.0     3520.0   560000.0    0.8\n",
      "Groin                               388.0    4623.0  5517.0     2673.0    13201.0   0.42\n",
      "Breakwater                         4085.0    9225.0  3564.0    32997.0    49871.0   0.66\n",
      "Sum                              584751.0  604377.0  9947.0    39488.0       mPA:   0.66\n",
      "IoU                                  0.65      0.62    0.31       0.59      mIoU:   0.54\n",
      "Precision                            0.81      0.74    0.55       0.84        OA:   0.77\n",
      "F1-score                             0.79      0.77    0.48       0.74  F1-macro:   0.69\n",
      "Using model 4class_16batch_unet_resnet50_0.001_ce_imagenet_CWTrue_(0.9, 0.999)-epoch=119-val_loss=0.56.ckpt\n"
     ]
    },
    {
     "name": "stderr",
     "output_type": "stream",
     "text": [
      "Load test set to memory: 100%|██████████| 756/756 [00:05<00:00, 144.12it/s]\n",
      "testing: 100%|██████████| 45/45 [00:25<00:00,  1.74it/s]\n"
     ]
    },
    {
     "name": "stdout",
     "output_type": "stream",
     "text": [
      "Evaluation: {'macroPrec': 0.7215599338995531, 'microPrec': 0.766925864893429, 'weightPrec': 0.7795184566149642, 'macroRec': 0.666685592455204, 'microRec': 0.766925864893429, 'weightRec': 0.766925864893429, 'macroF1': 0.687525131652307, 'microF1': 0.766925864893429, 'weightF1': 0.7660058969562188, 'subsetAcc': 0.766925864893429, 'IoU': 0.5371723948639944}\n",
      "[[428865.0, 184337.0, 271.0, 2018.0, 615491.0, 0.7], [74125.0, 480557.0, 1309.0, 4009.0, 560000.0, 0.86], [89.0, 4364.0, 5394.0, 3354.0, 13201.0, 0.41], [1821.0, 9972.0, 3008.0, 35070.0, 49871.0, 0.7], [504900.0, 679230.0, 9982.0, 44451.0, 'mPA:', 0.67], [0.62, 0.63, 0.3, 0.59, 'mIoU:', 0.54], [0.85, 0.71, 0.54, 0.79, 'OA:', 0.77], [0.77, 0.78, 0.47, 0.74, 'F1-macro:', 0.69]]\n",
      "Confusion Matrix:  \n",
      "                     Bulkhead Or Sea Wall   Rip Rap   Groin Breakwater        Sum Recall\n",
      "Bulkhead Or Sea Wall             428865.0  184337.0   271.0     2018.0   615491.0    0.7\n",
      "Rip Rap                           74125.0  480557.0  1309.0     4009.0   560000.0   0.86\n",
      "Groin                                89.0    4364.0  5394.0     3354.0    13201.0   0.41\n",
      "Breakwater                         1821.0    9972.0  3008.0    35070.0    49871.0    0.7\n",
      "Sum                              504900.0  679230.0  9982.0    44451.0       mPA:   0.67\n",
      "IoU                                  0.62      0.63     0.3       0.59      mIoU:   0.54\n",
      "Precision                            0.85      0.71    0.54       0.79        OA:   0.77\n",
      "F1-score                             0.77      0.78    0.47       0.74  F1-macro:   0.69\n"
     ]
    }
   ],
   "source": [
    "# Check training accuracy\n",
    "\n",
    "\n",
    "model_dir = \"/rapids/notebooks/sciclone/geograd/Miranda/github/marine-debris.github.io/torchlightning_results_batch16\"\n",
    "model_files = [file for file in os.listdir(model_dir) if file.split(\".\")[-1]==\"ckpt\" and file.split(\"_\")[0]==\"4class\"]\n",
    "\n",
    "gen_masks_path = os.path.join(up(up(root_path)), 'VIMS', 'NAIP', 'VA_NAIP_2018_8977', 'test_masks')\n",
    "\n",
    "for file in model_files:\n",
    "    print(\"Using model {}\".format(file))\n",
    "    model_path = os.path.join(model_dir, file)\n",
    "    labels = ['Bulkhead Or Sea Wall', 'Rip Rap', 'Groin', 'Breakwater']\n",
    "    options = {'agg_to_water': True, 'batch': 16, \n",
    "              'input_channels': 4, 'output_channels': 5, 'hidden_channels': 16,\n",
    "              'model_path': model_path, 'predict_masks': False, 'gen_masks_path':gen_masks_path, 'labels': labels}\n",
    "    try:\n",
    "        main(options)\n",
    "    except:\n",
    "        labels = ['Background', 'Bulkhead Or Sea Wall', 'Rip Rap', 'Groin', 'Breakwater']\n",
    "        options = {'agg_to_water': True, 'batch': 16, \n",
    "              'input_channels': 4, 'output_channels': 5, 'hidden_channels': 16,\n",
    "              'model_path': model_path, 'predict_masks': False, 'gen_masks_path':gen_masks_path, 'labels': labels}\n",
    "        main(options)\n"
   ]
  },
  {
   "cell_type": "code",
   "execution_count": 62,
   "id": "f341ded6",
   "metadata": {},
   "outputs": [
    {
     "name": "stderr",
     "output_type": "stream",
     "text": [
      "Load test set to memory:   0%|          | 0/756 [00:00<?, ?it/s]"
     ]
    },
    {
     "name": "stdout",
     "output_type": "stream",
     "text": [
      "Using model 4class_unet_resnet50_0.001_ce_imagenet_CWFalse_(0.9, 0.999)-epoch=68-val_loss=0.57.ckpt\n"
     ]
    },
    {
     "name": "stderr",
     "output_type": "stream",
     "text": [
      "Load test set to memory: 100%|██████████| 756/756 [00:19<00:00, 39.19it/s]\n",
      "testing: 100%|██████████| 45/45 [00:18<00:00,  2.45it/s]\n"
     ]
    },
    {
     "name": "stdout",
     "output_type": "stream",
     "text": [
      "Evaluation: {'macroPrec': 0.7084187975860927, 'microPrec': 0.7648024363718277, 'weightPrec': 0.7652631198369233, 'macroRec': 0.6259063484321136, 'microRec': 0.7648024363718277, 'weightRec': 0.7648024363718277, 'macroF1': 0.658560142227529, 'microF1': 0.7648024363718278, 'weightF1': 0.7640485614289068, 'subsetAcc': 0.7648024363718277, 'IoU': 0.5108438512154319}\n"
     ]
    },
    {
     "name": "stderr",
     "output_type": "stream",
     "text": [
      "Load test set to memory:   1%|▏         | 10/756 [00:00<00:07, 98.45it/s]"
     ]
    },
    {
     "name": "stdout",
     "output_type": "stream",
     "text": [
      "[[473759.0, 140944.0, 120.0, 668.0, 615491.0, 0.77], [117679.0, 436971.0, 792.0, 4558.0, 560000.0, 0.78], [511.0, 5539.0, 3971.0, 3180.0, 13201.0, 0.3], [3097.0, 11285.0, 2934.0, 32555.0, 49871.0, 0.65], [595046.0, 594739.0, 7817.0, 40961.0, 'mPA:', 0.63], [0.64, 0.61, 0.23, 0.56, 'mIoU:', 0.51], [0.8, 0.73, 0.51, 0.79, 'OA:', 0.76], [0.78, 0.76, 0.38, 0.72, 'F1-macro:', 0.66]]\n",
      "Confusion Matrix:  \n",
      "                     Bulkhead Or Sea Wall   Rip Rap   Groin Breakwater        Sum Recall\n",
      "Bulkhead Or Sea Wall             473759.0  140944.0   120.0      668.0   615491.0   0.77\n",
      "Rip Rap                          117679.0  436971.0   792.0     4558.0   560000.0   0.78\n",
      "Groin                               511.0    5539.0  3971.0     3180.0    13201.0    0.3\n",
      "Breakwater                         3097.0   11285.0  2934.0    32555.0    49871.0   0.65\n",
      "Sum                              595046.0  594739.0  7817.0    40961.0       mPA:   0.63\n",
      "IoU                                  0.64      0.61    0.23       0.56      mIoU:   0.51\n",
      "Precision                             0.8      0.73    0.51       0.79        OA:   0.76\n",
      "F1-score                             0.78      0.76    0.38       0.72  F1-macro:   0.66\n",
      "Using model 4class_8batch_unet_resnet50_0.001_ce_imagenet_CWFalse_(0.9, 0.999)-epoch=147-val_loss=0.56.ckpt\n"
     ]
    },
    {
     "name": "stderr",
     "output_type": "stream",
     "text": [
      "Load test set to memory: 100%|██████████| 756/756 [00:06<00:00, 120.63it/s]\n",
      "testing: 100%|██████████| 45/45 [00:17<00:00,  2.50it/s]\n"
     ]
    },
    {
     "name": "stdout",
     "output_type": "stream",
     "text": [
      "Evaluation: {'macroPrec': 0.6797374152726499, 'microPrec': 0.7606032151775889, 'weightPrec': 0.7624940610134989, 'macroRec': 0.6151856557048266, 'microRec': 0.7606032151775889, 'weightRec': 0.7606032151775889, 'macroF1': 0.6424072408771212, 'microF1': 0.7606032151775889, 'weightF1': 0.7600833427641945, 'subsetAcc': 0.7606032151775889, 'IoU': 0.4950001614920939}\n"
     ]
    },
    {
     "name": "stderr",
     "output_type": "stream",
     "text": [
      "Load test set to memory:   1%|          | 9/756 [00:00<00:08, 88.93it/s]"
     ]
    },
    {
     "name": "stdout",
     "output_type": "stream",
     "text": [
      "[[465733.0, 149260.0, 0.0, 498.0, 615491.0, 0.76], [112710.0, 442017.0, 1126.0, 4147.0, 560000.0, 0.79], [450.0, 5717.0, 4073.0, 2961.0, 13201.0, 0.31], [3384.0, 11096.0, 5159.0, 30232.0, 49871.0, 0.61], [582277.0, 608090.0, 10358.0, 37838.0, 'mPA:', 0.62], [0.64, 0.61, 0.21, 0.53, 'mIoU:', 0.5], [0.8, 0.73, 0.39, 0.8, 'OA:', 0.76], [0.78, 0.76, 0.35, 0.69, 'F1-macro:', 0.64]]\n",
      "Confusion Matrix:  \n",
      "                     Bulkhead Or Sea Wall   Rip Rap    Groin Breakwater        Sum Recall\n",
      "Bulkhead Or Sea Wall             465733.0  149260.0      0.0      498.0   615491.0   0.76\n",
      "Rip Rap                          112710.0  442017.0   1126.0     4147.0   560000.0   0.79\n",
      "Groin                               450.0    5717.0   4073.0     2961.0    13201.0   0.31\n",
      "Breakwater                         3384.0   11096.0   5159.0    30232.0    49871.0   0.61\n",
      "Sum                              582277.0  608090.0  10358.0    37838.0       mPA:   0.62\n",
      "IoU                                  0.64      0.61     0.21       0.53      mIoU:    0.5\n",
      "Precision                             0.8      0.73     0.39        0.8        OA:   0.76\n",
      "F1-score                             0.78      0.76     0.35       0.69  F1-macro:   0.64\n",
      "Using model 4class_8batch_unet_resnet50_0.0001_ce_imagenet_CWFalse_(0.9, 0.999)-epoch=49-val_loss=0.54.ckpt\n"
     ]
    },
    {
     "name": "stderr",
     "output_type": "stream",
     "text": [
      "Load test set to memory: 100%|██████████| 756/756 [00:05<00:00, 127.56it/s]\n",
      "testing: 100%|██████████| 45/45 [00:18<00:00,  2.49it/s]\n"
     ]
    },
    {
     "name": "stdout",
     "output_type": "stream",
     "text": [
      "Evaluation: {'macroPrec': 0.7485951630558859, 'microPrec': 0.7824898693082225, 'weightPrec': 0.7826882852633816, 'macroRec': 0.6969101604928749, 'microRec': 0.7824898693082225, 'weightRec': 0.7824898693082225, 'macroF1': 0.7204109870244086, 'microF1': 0.7824898693082224, 'weightF1': 0.7822626006293997, 'subsetAcc': 0.7824898693082225, 'IoU': 0.5740625259973031}\n",
      "[[495755.0, 118956.0, 31.0, 749.0, 615491.0, 0.81], [124943.0, 431002.0, 1209.0, 2846.0, 560000.0, 0.77], [744.0, 4036.0, 6503.0, 1918.0, 13201.0, 0.49], [4028.0, 6183.0, 3757.0, 35903.0, 49871.0, 0.72], [625470.0, 560177.0, 11500.0, 41416.0, 'mPA:', 0.7], [0.67, 0.63, 0.36, 0.65, 'mIoU:', 0.57], [0.79, 0.77, 0.57, 0.87, 'OA:', 0.78], [0.8, 0.77, 0.53, 0.79, 'F1-macro:', 0.72]]\n",
      "Confusion Matrix:  \n",
      "                     Bulkhead Or Sea Wall   Rip Rap    Groin Breakwater        Sum Recall\n",
      "Bulkhead Or Sea Wall             495755.0  118956.0     31.0      749.0   615491.0   0.81\n",
      "Rip Rap                          124943.0  431002.0   1209.0     2846.0   560000.0   0.77\n",
      "Groin                               744.0    4036.0   6503.0     1918.0    13201.0   0.49\n",
      "Breakwater                         4028.0    6183.0   3757.0    35903.0    49871.0   0.72\n",
      "Sum                              625470.0  560177.0  11500.0    41416.0       mPA:    0.7\n",
      "IoU                                  0.67      0.63     0.36       0.65      mIoU:   0.57\n",
      "Precision                            0.79      0.77     0.57       0.87        OA:   0.78\n",
      "F1-score                              0.8      0.77     0.53       0.79  F1-macro:   0.72\n"
     ]
    }
   ],
   "source": [
    "# Check training accuracy\n",
    "\n",
    "\n",
    "model_dir = \"/rapids/notebooks/sciclone/geograd/Miranda/github/marine-debris.github.io/torchlightning_results_batch8\"\n",
    "model_files = [file for file in os.listdir(model_dir) if file.split(\".\")[-1]==\"ckpt\" and file.split(\"_\")[0]==\"4class\"]\n",
    "\n",
    "gen_masks_path = os.path.join(up(up(root_path)), 'VIMS', 'NAIP', 'VA_NAIP_2018_8977', 'test_masks')\n",
    "\n",
    "for file in model_files:\n",
    "    print(\"Using model {}\".format(file))\n",
    "    model_path = os.path.join(model_dir, file)\n",
    "    labels = ['Bulkhead Or Sea Wall', 'Rip Rap', 'Groin', 'Breakwater']\n",
    "    options = {'agg_to_water': True, 'batch': 16, \n",
    "              'input_channels': 4, 'output_channels': 5, 'hidden_channels': 16,\n",
    "              'model_path': model_path, 'predict_masks': False, 'gen_masks_path':gen_masks_path, 'labels': labels}\n",
    "    try:\n",
    "        main(options)\n",
    "    except:\n",
    "        labels = ['Background', 'Bulkhead Or Sea Wall', 'Rip Rap', 'Groin', 'Breakwater']\n",
    "        options = {'agg_to_water': True, 'batch': 16, \n",
    "              'input_channels': 4, 'output_channels': 5, 'hidden_channels': 16,\n",
    "              'model_path': model_path, 'predict_masks': False, 'gen_masks_path':gen_masks_path, 'labels': labels}\n",
    "        main(options)\n"
   ]
  },
  {
   "cell_type": "code",
   "execution_count": null,
   "id": "199c6e05",
   "metadata": {},
   "outputs": [],
   "source": [
    "# 4class_unet_resnet18_0.001_ce_swsl-epoch=51-val_loss=0.61.ckpt failed prediction\n",
    "# 4class_unet_resnet18_0.001_ce_ssl-epoch=63-val_loss=0.59.ckpt failed prediction\n",
    "# 4class_unet_resnet18_0.001_ce_imagenet-epoch=43-val_loss=0.58.ckpt failed prediction\n",
    "\n",
    "# 4class_unet_resnet50_0.001_ce_swsl-epoch=56-val_loss=0.56.ckpt failed prediction\n",
    "# 4class_unet_resnet50_0.001_ce_ssl-epoch=51-val_loss=0.60.ckpt failed prediction\n",
    "# 4class_unet_resnet50_0.001_ce_imagenet-epoch=50-val_loss=0.57.ckpt failed prediction\n",
    "\n",
    "# 4class_unet_resnet18_0.001_focal_imagenet-epoch=13-val_loss=0.00.ckpt failed prediction\n",
    "# 4class_unet_resnet50_0.001_focal_imagenet-epoch=21-val_loss=0.00.ckpt failed prediction\n",
    "# 4class_unet_resnet50_0.0001_focal_imagenet-epoch=14-val_loss=0.00.ckpt failed prediction\n",
    "\n",
    "\n"
   ]
  },
  {
   "cell_type": "code",
   "execution_count": null,
   "id": "6f482c0b",
   "metadata": {},
   "outputs": [],
   "source": [
    "model_path = \"/rapids/notebooks/sciclone/geograd/Miranda/github/marine-debris.github.io/torchlightning_results/4class_unet_resnet50_0.001_ce_imagenet-epoch=50-val_loss=0.57.ckpt\"\n",
    "\n",
    "path = os.path.join(up(up(root_path)), 'VIMS', 'NAIP', 'VA_NAIP_2018_8977', 'test')\n",
    "ROIs = [file for file in os.listdir(path) if file.split('.')[-1]=='tif']\n",
    "\n",
    "impute_nan = np.tile(bands_mean, (256,256,1))\n",
    "\n",
    "# Load pretrained model\n",
    "model = SemanticSegmentationTask.load_from_checkpoint(model_path)\n",
    "transform_test = transforms.Compose([transforms.ToTensor()])\n",
    "\n",
    "with torch.no_grad():\n",
    "    model.eval()\n",
    "\n",
    "    for roi in tqdm(ROIs[0:2]):\n",
    "\n",
    "        roi_file = os.path.join(path, roi)\n",
    "        os.makedirs(options['gen_masks_path'], exist_ok=True)\n",
    "\n",
    "        output_image = os.path.join(options['gen_masks_path'], os.path.basename(roi_file).split('.tif')[0] + '_unet.tif')\n",
    "\n",
    "        # Read metadata of the initial image\n",
    "        with rasterio.open(roi_file, mode ='r') as src:\n",
    "            tags = src.tags().copy()\n",
    "            meta = src.meta\n",
    "            image = src.read()\n",
    "            image = np.moveaxis(image, (0, 1, 2), (2, 0, 1)).astype('float32')\n",
    "            dtype = src.read(1).dtype\n",
    "\n",
    "\n",
    "        # Update meta to reflect the number of layers\n",
    "        meta.update(count = 1)\n",
    "\n",
    "        # Write it\n",
    "        with rasterio.open(output_image, 'w', **meta) as dst:\n",
    "\n",
    "            nan_mask = np.isnan(image)\n",
    "            image[nan_mask] = impute_nan[nan_mask]\n",
    "\n",
    "    #         image = torch.from_numpy(image)\n",
    "            image = transform_test(image)\n",
    "\n",
    "\n",
    "            logits = model(image.unsqueeze(0))\n",
    "\n",
    "            probs = logits.softmax(dim=1).numpy().argmax(1).squeeze()\n",
    "            print(type(probs))\n",
    "\n",
    "    #         probs = torch.nn.functional.softmax(logits.detach(), dim=1).cpu().numpy()\n",
    "    #         probs = probs.argmax(1).squeeze()\n",
    "\n",
    "            dst.write_band(1, probs.astype(dtype).copy()) # In order to be in the same dtype\n",
    "            dst.update_tags(**tags)\n",
    "\n",
    "\n",
    "    #                     # Preprocessing before prediction\n",
    "\n",
    "    # #                     nan_mask = np.isnan(image)\n",
    "    # #                     image[nan_mask] = impute_nan[nan_mask]\n",
    "\n",
    "    #                     image = transform_test(image)\n",
    "\n",
    "    # #                     image = standardization(image)\n",
    "\n",
    "    # #                     # Image to Cuda if exist\n",
    "    # #                     # image = image.to(device)\n",
    "\n",
    "    #                     # Predictions\n",
    "    #                     logits = model(image.unsqueeze(0))\n",
    "\n",
    "    #                     probs = torch.nn.functional.softmax(logits.detach(), dim=1).cpu().numpy()\n",
    "\n",
    "    #                     probs = probs.argmax(1).squeeze()+1\n",
    "\n",
    "    #                     # Write the mask with georeference\n",
    "    #                     dst.write_band(1, probs.astype(dtype).copy()) # In order to be in the same dtype\n",
    "    #                     dst.update_tags(**tags)\n",
    "\n",
    "\n",
    "    # # #         image = standardization(image)\n",
    "\n",
    "    # # #                     # Image to Cuda if exist\n",
    "    # # #                     # image = image.to(device)\n",
    "\n",
    "\n",
    "    # #         logits = model(image.unsqueeze(0))\n",
    "    # #         image = np.expand_dims(image, axis=0)\n",
    "\n",
    "    #         logits = model(image)\n",
    "    # #         pr_masks = logits.softmax(dim=1).argmax(1)\n",
    "\n",
    "    # # #         probs = torch.nn.functional.softmax(logits.detach(), dim=1).cpu().numpy()\n",
    "\n",
    "    # # #         probs = probs.argmax(1).squeeze() + 1\n",
    "\n",
    "    # #         dst.write_band(1, pr_masks.astype(dtype).copy()) # In order to be in the same dtype\n",
    "    # #         dst.update_tags(**tags)\n",
    "\n"
   ]
  },
  {
   "cell_type": "code",
   "execution_count": null,
   "id": "01f2e09a",
   "metadata": {},
   "outputs": [],
   "source": []
  },
  {
   "cell_type": "code",
   "execution_count": null,
   "id": "a1d5540d",
   "metadata": {},
   "outputs": [],
   "source": [
    "    \n",
    "transform_test = transforms.Compose([transforms.ToTensor()])\n",
    "standardization = transforms.Normalize(bands_mean, bands_std)\n",
    "    \n",
    "# Construct Test data loader\n",
    "\n",
    "dataset_test = GenDEBRIS('test', transform=transform_test, standardization = standardization, agg_to_water = True)\n",
    "test_loader = DataLoader(   dataset_test, \n",
    "                            batch_size = 32, \n",
    "                            shuffle = False)\n",
    "\n",
    "# visualization and check on the predicted results\n",
    "\n",
    "labels = ['Background', 'Bulkhead Or Sea Wall', 'Rip Rap', \n",
    "            'Groin', 'Breakwater']\n",
    "\n",
    "path = \"/rapids/notebooks/sciclone/geograd/Miranda/github/marine-debris.github.io/torchlightning_results_norm/4class_unet_resnet50_0.0001_jaccard_imagenet-epoch=75-val_loss=0.49.ckpt\"\n",
    "\n",
    "# Load pretrained model\n",
    "model = SemanticSegmentationTask.load_from_checkpoint(path)\n",
    "\n",
    "batch = next(iter(test_loader))\n",
    "with torch.no_grad():\n",
    "    model.eval()\n",
    "\n",
    "    logits = model(batch[\"image\"])\n",
    "    target = batch[\"mask\"]\n",
    "\n",
    "    \n",
    "# y_predicted = []\n",
    "# y_true = []\n",
    "\n",
    "pr_masks = logits.softmax(dim=1).argmax(1)\n",
    "# logits = torch.nn.functional.softmax(logits, dim=1).argmax(1)\n",
    "\n",
    "\n",
    "# logits = logits.reshape(-1)\n",
    "# target = target.reshape(-1)\n",
    "\n",
    "# mask = target != 0 # 0 is the background\n",
    "            \n",
    "# logits = logits[mask]\n",
    "# target = target[mask]\n",
    "\n",
    "# y_predicted += logits.tolist()\n",
    "# y_true += target.tolist()\n",
    "\n",
    "\n",
    "\n",
    "def formatter_func(x, pos):\n",
    "    if x==0:\n",
    "        return \"Background\"\n",
    "    elif x==1:\n",
    "        return \"bulkhead\"\n",
    "    elif x==2:\n",
    "        return \"riprap\"\n",
    "    elif x==3:\n",
    "        return \"groin\"\n",
    "    elif x==4:\n",
    "        return \"breakwater\"\n",
    "    else:\n",
    "        return \"\"\n",
    "\n",
    "# Formatter\n",
    "valid_values = range(0,5)\n",
    "\n",
    "lookup = dict(zip(valid_values, labels))\n",
    "# formatter = plt.FuncFormatter(lambda val, loc: lookup[val])\n",
    "formatter = plt.FuncFormatter(formatter_func)\n",
    "\n",
    "\n",
    "for image, gt_mask, pr_mask in zip(batch[\"image\"], batch[\"mask\"], pr_masks):\n",
    "    \n",
    "    plt.figure(figsize=(10, 5))\n",
    "\n",
    "    plt.subplot(1, 3, 1)\n",
    "    plt.imshow(image.numpy().transpose(1, 2, 0)[:,:,0:3].astype(float))  # convert CHW -> HWC \n",
    "    plt.title(\"Image\")\n",
    "    plt.axis(\"off\")\n",
    "    \n",
    "\n",
    "    plt.subplot(1, 3, 2)\n",
    "    plt.imshow(gt_mask.numpy().squeeze(),cmap=plt.cm.get_cmap('rainbow', 5)) # just squeeze classes dim, because we have only one class\n",
    "    plt.title(\"Ground truth\")\n",
    "    plt.colorbar(ticks=[0, 1, 2, 3, 4], format=formatter)\n",
    "\n",
    "    plt.axis(\"off\")\n",
    "\n",
    "    plt.subplot(1, 3, 3)\n",
    "    plt.imshow(pr_mask.numpy().squeeze(), cmap=plt.cm.get_cmap('rainbow', 5)) # just squeeze classes dim, because we have only one class\n",
    "    plt.title(\"Prediction\")\n",
    "    plt.colorbar(ticks=[0,1,2,3,4], format=formatter)\n",
    "\n",
    "    plt.axis(\"off\")\n",
    "\n",
    "    plt.show()\n"
   ]
  },
  {
   "cell_type": "code",
   "execution_count": null,
   "id": "ee3b58e6",
   "metadata": {},
   "outputs": [],
   "source": []
  },
  {
   "cell_type": "code",
   "execution_count": null,
   "id": "491b44dd",
   "metadata": {},
   "outputs": [],
   "source": []
  },
  {
   "cell_type": "code",
   "execution_count": null,
   "id": "c3902ab3",
   "metadata": {},
   "outputs": [],
   "source": []
  },
  {
   "cell_type": "code",
   "execution_count": null,
   "id": "fe4ffb33",
   "metadata": {},
   "outputs": [],
   "source": []
  },
  {
   "cell_type": "code",
   "execution_count": null,
   "id": "a61f16f7",
   "metadata": {},
   "outputs": [],
   "source": []
  },
  {
   "cell_type": "code",
   "execution_count": null,
   "id": "7e5540fa",
   "metadata": {},
   "outputs": [],
   "source": []
  },
  {
   "cell_type": "code",
   "execution_count": null,
   "id": "7f1417fc",
   "metadata": {},
   "outputs": [],
   "source": []
  },
  {
   "cell_type": "code",
   "execution_count": null,
   "id": "a75ff14e",
   "metadata": {},
   "outputs": [],
   "source": []
  },
  {
   "cell_type": "code",
   "execution_count": null,
   "id": "d7fb8ca9",
   "metadata": {},
   "outputs": [],
   "source": [
    "from imgaugmentation import ImgAugTransform"
   ]
  },
  {
   "cell_type": "code",
   "execution_count": null,
   "id": "d9c593f6",
   "metadata": {},
   "outputs": [],
   "source": [
    "# Test the customized Semantic Segmentation trainer\n",
    "\n",
    "from vims_dataloader import GenDEBRIS, RandomRotationTransform , class_distr, gen_weights, bands_mean, bands_std\n",
    "\n",
    "\n",
    "# Set transformation for dataset\n",
    "\n",
    "transform_train = transforms.Compose([ImgAugTransform(),\n",
    "                                    transforms.ToTensor()])\n",
    "\n",
    "# transforms.Compose([transforms.ToTensor(),\n",
    "#                                     RandomRotationTransform([-90, 0, 90, 180]),\n",
    "#                                     transforms.RandomHorizontalFlip()])\n",
    "\n",
    "\n",
    "\n",
    "\n",
    "transform_test = transforms.Compose([transforms.ToTensor()])\n",
    "\n",
    "standardization = transforms.Normalize(bands_mean, bands_std)\n",
    "\n",
    "\n",
    "dataset_train = GenDEBRIS('val', transform=transform_train, standardization = standardization, agg_to_water = True)\n",
    "# dataset_val = GenDEBRIS('val', transform=transform_test, standardization = standardization, agg_to_water = True)\n",
    "# dataset_test = GenDEBRIS('test', transform=transform_test, standardization = standardization, agg_to_water = True)\n",
    "\n",
    "# Create data loaders\n",
    "\n",
    "\n",
    "\n",
    "train_dataloader = DataLoader(dataset_train, \n",
    "                            batch_size = 32, \n",
    "                            shuffle = True,\n",
    "                            num_workers = 0)\n",
    "\n",
    "# val_dataloader = DataLoader(dataset_val, \n",
    "#                             batch_size = 32, \n",
    "#                             shuffle = False,\n",
    "#                             num_workers=0)\n",
    "\n",
    "# test_dataloader = DataLoader(dataset_test, \n",
    "#                             batch_size = 32, \n",
    "#                             shuffle = False,\n",
    "#                             num_workers=0)"
   ]
  },
  {
   "cell_type": "code",
   "execution_count": null,
   "id": "ffc9c7f4",
   "metadata": {},
   "outputs": [],
   "source": [
    "\n",
    "# visualization of input dataset and masks    \n",
    "\n",
    "def vis(batch):\n",
    "\n",
    "    for image, gt_mask in zip(batch[\"image\"], batch[\"mask\"]):\n",
    "    \n",
    "        plt.figure(figsize=(10, 5))\n",
    "\n",
    "        plt.subplot(1, 2, 1)\n",
    "        plt.imshow(image.numpy().transpose(1, 2, 0)[:,:,0:3].astype(int))  # convert CHW -> HWC \n",
    "        plt.title(\"Image\")\n",
    "        plt.axis(\"off\")\n",
    "\n",
    "        plt.subplot(1, 2, 2)\n",
    "        plt.imshow(gt_mask.numpy().squeeze()) # just squeeze classes dim, because we have only one class\n",
    "        plt.title(\"Ground truth\")\n",
    "        plt.colorbar(ticks=[0,1,2,3,4])\n",
    "        plt.axis(\"off\")\n",
    "\n",
    "        plt.show()\n"
   ]
  },
  {
   "cell_type": "code",
   "execution_count": null,
   "id": "bc919049",
   "metadata": {},
   "outputs": [],
   "source": [
    "batch = next(iter(train_dataloader))\n",
    "# vis(batch)"
   ]
  },
  {
   "cell_type": "code",
   "execution_count": null,
   "id": "286da781",
   "metadata": {},
   "outputs": [],
   "source": [
    "from pytorch_lightning.callbacks import EarlyStopping, ModelCheckpoint\n",
    "from pytorch_lightning.loggers import CSVLogger, TensorBoardLogger\n",
    "\n",
    "model = SemanticSegmentation(\n",
    "                segmentation_model=\"unet\",\n",
    "                encoder_name=\"resnet18\",\n",
    "                encoder_weights=\"imagenet\",\n",
    "                learning_rate=1e-4,\n",
    "                in_channels=4,\n",
    "                num_classes=5,\n",
    "                learning_rate_schedule_patience=10,\n",
    "                ignore_zeros=False,\n",
    "                loss=\"focal\",\n",
    "                imagenet_pretraining=True,\n",
    "                class_weights=None) # None or a tensor of weights\n",
    "\n",
    "\n",
    "# Set the output directory and callbacks\n",
    "experiment_dir = os.path.join(root_path, \"delete_testSemanticSegmentationTrainer\")\n",
    "\n",
    "checkpoint_callback = ModelCheckpoint(\n",
    "        monitor=\"val_loss\",\n",
    "        dirpath=experiment_dir,\n",
    "        save_top_k=1,\n",
    "        filename=\"testing-{epoch:02d}-{val_loss:.2f}\",\n",
    "        save_last=True)\n",
    "\n",
    "early_stopping_callback = EarlyStopping(\n",
    "        monitor=\"val_loss\",\n",
    "        min_delta=0.00,\n",
    "        patience=50)\n",
    "\n",
    "csv_logger = CSVLogger(\n",
    "        save_dir=experiment_dir,\n",
    "        name=\"testing_csv\")\n",
    "\n",
    "\n",
    "trainer = pl.Trainer(\n",
    "        callbacks=[checkpoint_callback, early_stopping_callback],\n",
    "        logger=[csv_logger],\n",
    "        default_root_dir=experiment_dir,\n",
    "        min_epochs=1,\n",
    "        max_epochs=1000,\n",
    "        gpus=[3])\n",
    "    \n",
    "    \n",
    "\n",
    "\n"
   ]
  },
  {
   "cell_type": "code",
   "execution_count": null,
   "id": "57cdceac",
   "metadata": {},
   "outputs": [],
   "source": [
    "trainer.fit(model, train_dataloaders=train_dataloader, val_dataloaders=val_dataloader)\n",
    "#     checkpoint_callback.best_model_path\n",
    "    \n",
    "trainer.test(ckpt_path=\"best\", dataloaders=test_dataloader)"
   ]
  },
  {
   "cell_type": "code",
   "execution_count": null,
   "id": "b17b4df0",
   "metadata": {},
   "outputs": [],
   "source": []
  },
  {
   "cell_type": "code",
   "execution_count": null,
   "id": "cbb70beb",
   "metadata": {},
   "outputs": [],
   "source": [
    "import itertools\n",
    "\n",
    "training_set_options = [\"4class\"]\n",
    "model_options = [\"unet\"]\n",
    "encoder_options = [\"resnet18\", \"resnet50\"]\n",
    "lr_options = [1e-4, 1e-3]\n",
    "loss_options = [\"focal\"]\n",
    "weight_init_options = [\"imagenet\"]\n",
    "in_channel = 4\n",
    "out_channel = 5 # including background\n",
    "\n",
    "count = 0\n",
    "\n",
    "for (train_state, model, encoder, lr, loss, weight_init) in itertools.product(\n",
    "        training_set_options,\n",
    "        model_options,\n",
    "        encoder_options,\n",
    "        lr_options,\n",
    "        loss_options,\n",
    "        weight_init_options):\n",
    "    \n",
    "    count += 1"
   ]
  },
  {
   "cell_type": "code",
   "execution_count": null,
   "id": "144a1053",
   "metadata": {},
   "outputs": [],
   "source": [
    "#### TRANSFORM DATA ####\n",
    "\n",
    "class ImgAugTransform:\n",
    "\n",
    "  def __init__(self):\n",
    "\n",
    "    self.aug = iaa.Sequential([\n",
    "\n",
    "        iaa.Scale((224, 224)),\n",
    "\n",
    "        iaa.Sometimes(0.30, iaa.GaussianBlur(sigma=(0, 3.0))),\n",
    "\n",
    "                iaa.Sometimes(0.25, iaa.Multiply((0.5, 1.5), per_channel=0.5)),\n",
    "\n",
    "                iaa.Sometimes(0.20, iaa.Invert(0.25, per_channel=0.5)),\n",
    "\n",
    "                iaa.Sometimes(0.25, iaa.ReplaceElementwise(\n",
    "\n",
    "                    iap.FromLowerResolution(iap.Binomial(0.1), size_px=8),\n",
    "\n",
    "                    iap.Normal(128, 0.4*128),\n",
    "\n",
    "                    per_channel=0.5)\n",
    "\n",
    "                                         ),\n",
    "\n",
    "                iaa.Sometimes(0.30, iaa.AdditivePoissonNoise(40)),\n",
    "\n",
    "        iaa.Fliplr(0.5),\n",
    "\n",
    "        iaa.Affine(rotate=(-20, 20), mode='symmetric'),\n",
    "\n",
    "        iaa.Sometimes(0.30,\n",
    "\n",
    "                      iaa.OneOf([iaa.Dropout(p=(0, 0.1)),\n",
    "\n",
    "                                 iaa.CoarseDropout(0.1, size_percent=0.5)])),\n",
    "\n",
    "        iaa.AddToHueAndSaturation(value=(-10, 10), per_channel=True)\n",
    "\n",
    "    ])\n",
    "\n",
    "      \n",
    "\n",
    "  def __call__(self, img):\n",
    "\n",
    "    img = np.array(img)\n",
    "\n",
    "    return self.aug.augment_image(img)\n",
    "\n",
    "\n",
    "\n",
    "\n",
    "    \n",
    "\n",
    "data_transforms = {\n",
    "\n",
    "    'train': transforms.Compose([\n",
    "\n",
    "            ImgAugTransform(),\n",
    "\n",
    "        transforms.ToTensor(),\n",
    "\n",
    "        transforms.Normalize([0.485, 0.456, 0.406], [0.229, 0.224, 0.225])\n",
    "\n",
    "    ]),\n",
    "\n",
    "    'val': transforms.Compose([\n",
    "\n",
    "            ImgAugTransform(),\n",
    "\n",
    "        transforms.ToTensor(),\n",
    "\n",
    "        transforms.Normalize([0.485, 0.456, 0.406], [0.229, 0.224, 0.225])\n",
    "\n",
    "    ]),\n",
    "\n",
    "}"
   ]
  },
  {
   "cell_type": "code",
   "execution_count": null,
   "id": "1206908c",
   "metadata": {},
   "outputs": [],
   "source": []
  },
  {
   "cell_type": "code",
   "execution_count": null,
   "id": "cb152347",
   "metadata": {},
   "outputs": [],
   "source": []
  }
 ],
 "metadata": {
  "kernelspec": {
   "display_name": "Python 3",
   "language": "python",
   "name": "python3"
  },
  "language_info": {
   "codemirror_mode": {
    "name": "ipython",
    "version": 3
   },
   "file_extension": ".py",
   "mimetype": "text/x-python",
   "name": "python",
   "nbconvert_exporter": "python",
   "pygments_lexer": "ipython3",
   "version": "3.7.10"
  }
 },
 "nbformat": 4,
 "nbformat_minor": 5
}
